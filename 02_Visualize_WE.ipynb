{
 "cells": [
  {
   "cell_type": "code",
   "execution_count": 47,
   "id": "35f4d671",
   "metadata": {},
   "outputs": [],
   "source": [
    "import pygrib\n",
    "import matplotlib.pyplot as plt\n",
    "from matplotlib.animation import FuncAnimation\n",
    "import numpy as np\n",
    "import pandas as pd\n",
    "import plotly.graph_objects as go\n",
    "\n",
    "import datetime as dt\n",
    "from dateutil.relativedelta import relativedelta"
   ]
  },
  {
   "cell_type": "code",
   "execution_count": 48,
   "id": "08865bd7",
   "metadata": {},
   "outputs": [],
   "source": [
    "file_name = \"adaptor.mars.internal-1622846426.3351655-26320-29-d3ec277c-a906-49aa-8941-9746ec5f867d.grib\"\n",
    "t = 508"
   ]
  },
  {
   "cell_type": "markdown",
   "id": "60e49441",
   "metadata": {},
   "source": [
    "We consider the region within the coordinates 55.5 x 17.5 - 40.5 x -5 as Western Europe. We only take the corresponding data to reduce the amount of data considered."
   ]
  },
  {
   "cell_type": "code",
   "execution_count": 49,
   "id": "0e1fba47",
   "metadata": {},
   "outputs": [
    {
     "data": {
      "application/vnd.plotly.v1+json": {
       "config": {
        "plotlyServerURL": "https://plot.ly"
       },
       "data": [
        {
         "lat": [
          55.5,
          40.5,
          55.5,
          40.5
         ],
         "lon": [
          17.5,
          17.5,
          -5,
          -5
         ],
         "marker": {
          "color": "rgb(255, 0, 0)",
          "line": {
           "color": "rgba(68, 68, 68, 0)",
           "width": 3
          },
          "size": 7
         },
         "mode": "markers",
         "type": "scattergeo"
        }
       ],
       "layout": {
        "geo": {
         "scope": "europe"
        },
        "template": {
         "data": {
          "bar": [
           {
            "error_x": {
             "color": "#2a3f5f"
            },
            "error_y": {
             "color": "#2a3f5f"
            },
            "marker": {
             "line": {
              "color": "#E5ECF6",
              "width": 0.5
             }
            },
            "type": "bar"
           }
          ],
          "barpolar": [
           {
            "marker": {
             "line": {
              "color": "#E5ECF6",
              "width": 0.5
             }
            },
            "type": "barpolar"
           }
          ],
          "carpet": [
           {
            "aaxis": {
             "endlinecolor": "#2a3f5f",
             "gridcolor": "white",
             "linecolor": "white",
             "minorgridcolor": "white",
             "startlinecolor": "#2a3f5f"
            },
            "baxis": {
             "endlinecolor": "#2a3f5f",
             "gridcolor": "white",
             "linecolor": "white",
             "minorgridcolor": "white",
             "startlinecolor": "#2a3f5f"
            },
            "type": "carpet"
           }
          ],
          "choropleth": [
           {
            "colorbar": {
             "outlinewidth": 0,
             "ticks": ""
            },
            "type": "choropleth"
           }
          ],
          "contour": [
           {
            "colorbar": {
             "outlinewidth": 0,
             "ticks": ""
            },
            "colorscale": [
             [
              0,
              "#0d0887"
             ],
             [
              0.1111111111111111,
              "#46039f"
             ],
             [
              0.2222222222222222,
              "#7201a8"
             ],
             [
              0.3333333333333333,
              "#9c179e"
             ],
             [
              0.4444444444444444,
              "#bd3786"
             ],
             [
              0.5555555555555556,
              "#d8576b"
             ],
             [
              0.6666666666666666,
              "#ed7953"
             ],
             [
              0.7777777777777778,
              "#fb9f3a"
             ],
             [
              0.8888888888888888,
              "#fdca26"
             ],
             [
              1,
              "#f0f921"
             ]
            ],
            "type": "contour"
           }
          ],
          "contourcarpet": [
           {
            "colorbar": {
             "outlinewidth": 0,
             "ticks": ""
            },
            "type": "contourcarpet"
           }
          ],
          "heatmap": [
           {
            "colorbar": {
             "outlinewidth": 0,
             "ticks": ""
            },
            "colorscale": [
             [
              0,
              "#0d0887"
             ],
             [
              0.1111111111111111,
              "#46039f"
             ],
             [
              0.2222222222222222,
              "#7201a8"
             ],
             [
              0.3333333333333333,
              "#9c179e"
             ],
             [
              0.4444444444444444,
              "#bd3786"
             ],
             [
              0.5555555555555556,
              "#d8576b"
             ],
             [
              0.6666666666666666,
              "#ed7953"
             ],
             [
              0.7777777777777778,
              "#fb9f3a"
             ],
             [
              0.8888888888888888,
              "#fdca26"
             ],
             [
              1,
              "#f0f921"
             ]
            ],
            "type": "heatmap"
           }
          ],
          "heatmapgl": [
           {
            "colorbar": {
             "outlinewidth": 0,
             "ticks": ""
            },
            "colorscale": [
             [
              0,
              "#0d0887"
             ],
             [
              0.1111111111111111,
              "#46039f"
             ],
             [
              0.2222222222222222,
              "#7201a8"
             ],
             [
              0.3333333333333333,
              "#9c179e"
             ],
             [
              0.4444444444444444,
              "#bd3786"
             ],
             [
              0.5555555555555556,
              "#d8576b"
             ],
             [
              0.6666666666666666,
              "#ed7953"
             ],
             [
              0.7777777777777778,
              "#fb9f3a"
             ],
             [
              0.8888888888888888,
              "#fdca26"
             ],
             [
              1,
              "#f0f921"
             ]
            ],
            "type": "heatmapgl"
           }
          ],
          "histogram": [
           {
            "marker": {
             "colorbar": {
              "outlinewidth": 0,
              "ticks": ""
             }
            },
            "type": "histogram"
           }
          ],
          "histogram2d": [
           {
            "colorbar": {
             "outlinewidth": 0,
             "ticks": ""
            },
            "colorscale": [
             [
              0,
              "#0d0887"
             ],
             [
              0.1111111111111111,
              "#46039f"
             ],
             [
              0.2222222222222222,
              "#7201a8"
             ],
             [
              0.3333333333333333,
              "#9c179e"
             ],
             [
              0.4444444444444444,
              "#bd3786"
             ],
             [
              0.5555555555555556,
              "#d8576b"
             ],
             [
              0.6666666666666666,
              "#ed7953"
             ],
             [
              0.7777777777777778,
              "#fb9f3a"
             ],
             [
              0.8888888888888888,
              "#fdca26"
             ],
             [
              1,
              "#f0f921"
             ]
            ],
            "type": "histogram2d"
           }
          ],
          "histogram2dcontour": [
           {
            "colorbar": {
             "outlinewidth": 0,
             "ticks": ""
            },
            "colorscale": [
             [
              0,
              "#0d0887"
             ],
             [
              0.1111111111111111,
              "#46039f"
             ],
             [
              0.2222222222222222,
              "#7201a8"
             ],
             [
              0.3333333333333333,
              "#9c179e"
             ],
             [
              0.4444444444444444,
              "#bd3786"
             ],
             [
              0.5555555555555556,
              "#d8576b"
             ],
             [
              0.6666666666666666,
              "#ed7953"
             ],
             [
              0.7777777777777778,
              "#fb9f3a"
             ],
             [
              0.8888888888888888,
              "#fdca26"
             ],
             [
              1,
              "#f0f921"
             ]
            ],
            "type": "histogram2dcontour"
           }
          ],
          "mesh3d": [
           {
            "colorbar": {
             "outlinewidth": 0,
             "ticks": ""
            },
            "type": "mesh3d"
           }
          ],
          "parcoords": [
           {
            "line": {
             "colorbar": {
              "outlinewidth": 0,
              "ticks": ""
             }
            },
            "type": "parcoords"
           }
          ],
          "pie": [
           {
            "automargin": true,
            "type": "pie"
           }
          ],
          "scatter": [
           {
            "marker": {
             "colorbar": {
              "outlinewidth": 0,
              "ticks": ""
             }
            },
            "type": "scatter"
           }
          ],
          "scatter3d": [
           {
            "line": {
             "colorbar": {
              "outlinewidth": 0,
              "ticks": ""
             }
            },
            "marker": {
             "colorbar": {
              "outlinewidth": 0,
              "ticks": ""
             }
            },
            "type": "scatter3d"
           }
          ],
          "scattercarpet": [
           {
            "marker": {
             "colorbar": {
              "outlinewidth": 0,
              "ticks": ""
             }
            },
            "type": "scattercarpet"
           }
          ],
          "scattergeo": [
           {
            "marker": {
             "colorbar": {
              "outlinewidth": 0,
              "ticks": ""
             }
            },
            "type": "scattergeo"
           }
          ],
          "scattergl": [
           {
            "marker": {
             "colorbar": {
              "outlinewidth": 0,
              "ticks": ""
             }
            },
            "type": "scattergl"
           }
          ],
          "scattermapbox": [
           {
            "marker": {
             "colorbar": {
              "outlinewidth": 0,
              "ticks": ""
             }
            },
            "type": "scattermapbox"
           }
          ],
          "scatterpolar": [
           {
            "marker": {
             "colorbar": {
              "outlinewidth": 0,
              "ticks": ""
             }
            },
            "type": "scatterpolar"
           }
          ],
          "scatterpolargl": [
           {
            "marker": {
             "colorbar": {
              "outlinewidth": 0,
              "ticks": ""
             }
            },
            "type": "scatterpolargl"
           }
          ],
          "scatterternary": [
           {
            "marker": {
             "colorbar": {
              "outlinewidth": 0,
              "ticks": ""
             }
            },
            "type": "scatterternary"
           }
          ],
          "surface": [
           {
            "colorbar": {
             "outlinewidth": 0,
             "ticks": ""
            },
            "colorscale": [
             [
              0,
              "#0d0887"
             ],
             [
              0.1111111111111111,
              "#46039f"
             ],
             [
              0.2222222222222222,
              "#7201a8"
             ],
             [
              0.3333333333333333,
              "#9c179e"
             ],
             [
              0.4444444444444444,
              "#bd3786"
             ],
             [
              0.5555555555555556,
              "#d8576b"
             ],
             [
              0.6666666666666666,
              "#ed7953"
             ],
             [
              0.7777777777777778,
              "#fb9f3a"
             ],
             [
              0.8888888888888888,
              "#fdca26"
             ],
             [
              1,
              "#f0f921"
             ]
            ],
            "type": "surface"
           }
          ],
          "table": [
           {
            "cells": {
             "fill": {
              "color": "#EBF0F8"
             },
             "line": {
              "color": "white"
             }
            },
            "header": {
             "fill": {
              "color": "#C8D4E3"
             },
             "line": {
              "color": "white"
             }
            },
            "type": "table"
           }
          ]
         },
         "layout": {
          "annotationdefaults": {
           "arrowcolor": "#2a3f5f",
           "arrowhead": 0,
           "arrowwidth": 1
          },
          "autotypenumbers": "strict",
          "coloraxis": {
           "colorbar": {
            "outlinewidth": 0,
            "ticks": ""
           }
          },
          "colorscale": {
           "diverging": [
            [
             0,
             "#8e0152"
            ],
            [
             0.1,
             "#c51b7d"
            ],
            [
             0.2,
             "#de77ae"
            ],
            [
             0.3,
             "#f1b6da"
            ],
            [
             0.4,
             "#fde0ef"
            ],
            [
             0.5,
             "#f7f7f7"
            ],
            [
             0.6,
             "#e6f5d0"
            ],
            [
             0.7,
             "#b8e186"
            ],
            [
             0.8,
             "#7fbc41"
            ],
            [
             0.9,
             "#4d9221"
            ],
            [
             1,
             "#276419"
            ]
           ],
           "sequential": [
            [
             0,
             "#0d0887"
            ],
            [
             0.1111111111111111,
             "#46039f"
            ],
            [
             0.2222222222222222,
             "#7201a8"
            ],
            [
             0.3333333333333333,
             "#9c179e"
            ],
            [
             0.4444444444444444,
             "#bd3786"
            ],
            [
             0.5555555555555556,
             "#d8576b"
            ],
            [
             0.6666666666666666,
             "#ed7953"
            ],
            [
             0.7777777777777778,
             "#fb9f3a"
            ],
            [
             0.8888888888888888,
             "#fdca26"
            ],
            [
             1,
             "#f0f921"
            ]
           ],
           "sequentialminus": [
            [
             0,
             "#0d0887"
            ],
            [
             0.1111111111111111,
             "#46039f"
            ],
            [
             0.2222222222222222,
             "#7201a8"
            ],
            [
             0.3333333333333333,
             "#9c179e"
            ],
            [
             0.4444444444444444,
             "#bd3786"
            ],
            [
             0.5555555555555556,
             "#d8576b"
            ],
            [
             0.6666666666666666,
             "#ed7953"
            ],
            [
             0.7777777777777778,
             "#fb9f3a"
            ],
            [
             0.8888888888888888,
             "#fdca26"
            ],
            [
             1,
             "#f0f921"
            ]
           ]
          },
          "colorway": [
           "#636efa",
           "#EF553B",
           "#00cc96",
           "#ab63fa",
           "#FFA15A",
           "#19d3f3",
           "#FF6692",
           "#B6E880",
           "#FF97FF",
           "#FECB52"
          ],
          "font": {
           "color": "#2a3f5f"
          },
          "geo": {
           "bgcolor": "white",
           "lakecolor": "white",
           "landcolor": "#E5ECF6",
           "showlakes": true,
           "showland": true,
           "subunitcolor": "white"
          },
          "hoverlabel": {
           "align": "left"
          },
          "hovermode": "closest",
          "mapbox": {
           "style": "light"
          },
          "paper_bgcolor": "white",
          "plot_bgcolor": "#E5ECF6",
          "polar": {
           "angularaxis": {
            "gridcolor": "white",
            "linecolor": "white",
            "ticks": ""
           },
           "bgcolor": "#E5ECF6",
           "radialaxis": {
            "gridcolor": "white",
            "linecolor": "white",
            "ticks": ""
           }
          },
          "scene": {
           "xaxis": {
            "backgroundcolor": "#E5ECF6",
            "gridcolor": "white",
            "gridwidth": 2,
            "linecolor": "white",
            "showbackground": true,
            "ticks": "",
            "zerolinecolor": "white"
           },
           "yaxis": {
            "backgroundcolor": "#E5ECF6",
            "gridcolor": "white",
            "gridwidth": 2,
            "linecolor": "white",
            "showbackground": true,
            "ticks": "",
            "zerolinecolor": "white"
           },
           "zaxis": {
            "backgroundcolor": "#E5ECF6",
            "gridcolor": "white",
            "gridwidth": 2,
            "linecolor": "white",
            "showbackground": true,
            "ticks": "",
            "zerolinecolor": "white"
           }
          },
          "shapedefaults": {
           "line": {
            "color": "#2a3f5f"
           }
          },
          "ternary": {
           "aaxis": {
            "gridcolor": "white",
            "linecolor": "white",
            "ticks": ""
           },
           "baxis": {
            "gridcolor": "white",
            "linecolor": "white",
            "ticks": ""
           },
           "bgcolor": "#E5ECF6",
           "caxis": {
            "gridcolor": "white",
            "linecolor": "white",
            "ticks": ""
           }
          },
          "title": {
           "x": 0.05
          },
          "xaxis": {
           "automargin": true,
           "gridcolor": "white",
           "linecolor": "white",
           "ticks": "",
           "title": {
            "standoff": 15
           },
           "zerolinecolor": "white",
           "zerolinewidth": 2
          },
          "yaxis": {
           "automargin": true,
           "gridcolor": "white",
           "linecolor": "white",
           "ticks": "",
           "title": {
            "standoff": 15
           },
           "zerolinecolor": "white",
           "zerolinewidth": 2
          }
         }
        }
       }
      },
      "text/html": [
       "<div>                            <div id=\"8f5b5e22-4303-4f84-ad7b-b46c87f66799\" class=\"plotly-graph-div\" style=\"height:525px; width:100%;\"></div>            <script type=\"text/javascript\">                require([\"plotly\"], function(Plotly) {                    window.PLOTLYENV=window.PLOTLYENV || {};                                    if (document.getElementById(\"8f5b5e22-4303-4f84-ad7b-b46c87f66799\")) {                    Plotly.newPlot(                        \"8f5b5e22-4303-4f84-ad7b-b46c87f66799\",                        [{\"lat\": [55.5, 40.5, 55.5, 40.5], \"lon\": [17.5, 17.5, -5, -5], \"marker\": {\"color\": \"rgb(255, 0, 0)\", \"line\": {\"color\": \"rgba(68, 68, 68, 0)\", \"width\": 3}, \"size\": 7}, \"mode\": \"markers\", \"type\": \"scattergeo\"}],                        {\"geo\": {\"scope\": \"europe\"}, \"template\": {\"data\": {\"bar\": [{\"error_x\": {\"color\": \"#2a3f5f\"}, \"error_y\": {\"color\": \"#2a3f5f\"}, \"marker\": {\"line\": {\"color\": \"#E5ECF6\", \"width\": 0.5}}, \"type\": \"bar\"}], \"barpolar\": [{\"marker\": {\"line\": {\"color\": \"#E5ECF6\", \"width\": 0.5}}, \"type\": \"barpolar\"}], \"carpet\": [{\"aaxis\": {\"endlinecolor\": \"#2a3f5f\", \"gridcolor\": \"white\", \"linecolor\": \"white\", \"minorgridcolor\": \"white\", \"startlinecolor\": \"#2a3f5f\"}, \"baxis\": {\"endlinecolor\": \"#2a3f5f\", \"gridcolor\": \"white\", \"linecolor\": \"white\", \"minorgridcolor\": \"white\", \"startlinecolor\": \"#2a3f5f\"}, \"type\": \"carpet\"}], \"choropleth\": [{\"colorbar\": {\"outlinewidth\": 0, \"ticks\": \"\"}, \"type\": \"choropleth\"}], \"contour\": [{\"colorbar\": {\"outlinewidth\": 0, \"ticks\": \"\"}, \"colorscale\": [[0.0, \"#0d0887\"], [0.1111111111111111, \"#46039f\"], [0.2222222222222222, \"#7201a8\"], [0.3333333333333333, \"#9c179e\"], [0.4444444444444444, \"#bd3786\"], [0.5555555555555556, \"#d8576b\"], [0.6666666666666666, \"#ed7953\"], [0.7777777777777778, \"#fb9f3a\"], [0.8888888888888888, \"#fdca26\"], [1.0, \"#f0f921\"]], \"type\": \"contour\"}], \"contourcarpet\": [{\"colorbar\": {\"outlinewidth\": 0, \"ticks\": \"\"}, \"type\": \"contourcarpet\"}], \"heatmap\": [{\"colorbar\": {\"outlinewidth\": 0, \"ticks\": \"\"}, \"colorscale\": [[0.0, \"#0d0887\"], [0.1111111111111111, \"#46039f\"], [0.2222222222222222, \"#7201a8\"], [0.3333333333333333, \"#9c179e\"], [0.4444444444444444, \"#bd3786\"], [0.5555555555555556, \"#d8576b\"], [0.6666666666666666, \"#ed7953\"], [0.7777777777777778, \"#fb9f3a\"], [0.8888888888888888, \"#fdca26\"], [1.0, \"#f0f921\"]], \"type\": \"heatmap\"}], \"heatmapgl\": [{\"colorbar\": {\"outlinewidth\": 0, \"ticks\": \"\"}, \"colorscale\": [[0.0, \"#0d0887\"], [0.1111111111111111, \"#46039f\"], [0.2222222222222222, \"#7201a8\"], [0.3333333333333333, \"#9c179e\"], [0.4444444444444444, \"#bd3786\"], [0.5555555555555556, \"#d8576b\"], [0.6666666666666666, \"#ed7953\"], [0.7777777777777778, \"#fb9f3a\"], [0.8888888888888888, \"#fdca26\"], [1.0, \"#f0f921\"]], \"type\": \"heatmapgl\"}], \"histogram\": [{\"marker\": {\"colorbar\": {\"outlinewidth\": 0, \"ticks\": \"\"}}, \"type\": \"histogram\"}], \"histogram2d\": [{\"colorbar\": {\"outlinewidth\": 0, \"ticks\": \"\"}, \"colorscale\": [[0.0, \"#0d0887\"], [0.1111111111111111, \"#46039f\"], [0.2222222222222222, \"#7201a8\"], [0.3333333333333333, \"#9c179e\"], [0.4444444444444444, \"#bd3786\"], [0.5555555555555556, \"#d8576b\"], [0.6666666666666666, \"#ed7953\"], [0.7777777777777778, \"#fb9f3a\"], [0.8888888888888888, \"#fdca26\"], [1.0, \"#f0f921\"]], \"type\": \"histogram2d\"}], \"histogram2dcontour\": [{\"colorbar\": {\"outlinewidth\": 0, \"ticks\": \"\"}, \"colorscale\": [[0.0, \"#0d0887\"], [0.1111111111111111, \"#46039f\"], [0.2222222222222222, \"#7201a8\"], [0.3333333333333333, \"#9c179e\"], [0.4444444444444444, \"#bd3786\"], [0.5555555555555556, \"#d8576b\"], [0.6666666666666666, \"#ed7953\"], [0.7777777777777778, \"#fb9f3a\"], [0.8888888888888888, \"#fdca26\"], [1.0, \"#f0f921\"]], \"type\": \"histogram2dcontour\"}], \"mesh3d\": [{\"colorbar\": {\"outlinewidth\": 0, \"ticks\": \"\"}, \"type\": \"mesh3d\"}], \"parcoords\": [{\"line\": {\"colorbar\": {\"outlinewidth\": 0, \"ticks\": \"\"}}, \"type\": \"parcoords\"}], \"pie\": [{\"automargin\": true, \"type\": \"pie\"}], \"scatter\": [{\"marker\": {\"colorbar\": {\"outlinewidth\": 0, \"ticks\": \"\"}}, \"type\": \"scatter\"}], \"scatter3d\": [{\"line\": {\"colorbar\": {\"outlinewidth\": 0, \"ticks\": \"\"}}, \"marker\": {\"colorbar\": {\"outlinewidth\": 0, \"ticks\": \"\"}}, \"type\": \"scatter3d\"}], \"scattercarpet\": [{\"marker\": {\"colorbar\": {\"outlinewidth\": 0, \"ticks\": \"\"}}, \"type\": \"scattercarpet\"}], \"scattergeo\": [{\"marker\": {\"colorbar\": {\"outlinewidth\": 0, \"ticks\": \"\"}}, \"type\": \"scattergeo\"}], \"scattergl\": [{\"marker\": {\"colorbar\": {\"outlinewidth\": 0, \"ticks\": \"\"}}, \"type\": \"scattergl\"}], \"scattermapbox\": [{\"marker\": {\"colorbar\": {\"outlinewidth\": 0, \"ticks\": \"\"}}, \"type\": \"scattermapbox\"}], \"scatterpolar\": [{\"marker\": {\"colorbar\": {\"outlinewidth\": 0, \"ticks\": \"\"}}, \"type\": \"scatterpolar\"}], \"scatterpolargl\": [{\"marker\": {\"colorbar\": {\"outlinewidth\": 0, \"ticks\": \"\"}}, \"type\": \"scatterpolargl\"}], \"scatterternary\": [{\"marker\": {\"colorbar\": {\"outlinewidth\": 0, \"ticks\": \"\"}}, \"type\": \"scatterternary\"}], \"surface\": [{\"colorbar\": {\"outlinewidth\": 0, \"ticks\": \"\"}, \"colorscale\": [[0.0, \"#0d0887\"], [0.1111111111111111, \"#46039f\"], [0.2222222222222222, \"#7201a8\"], [0.3333333333333333, \"#9c179e\"], [0.4444444444444444, \"#bd3786\"], [0.5555555555555556, \"#d8576b\"], [0.6666666666666666, \"#ed7953\"], [0.7777777777777778, \"#fb9f3a\"], [0.8888888888888888, \"#fdca26\"], [1.0, \"#f0f921\"]], \"type\": \"surface\"}], \"table\": [{\"cells\": {\"fill\": {\"color\": \"#EBF0F8\"}, \"line\": {\"color\": \"white\"}}, \"header\": {\"fill\": {\"color\": \"#C8D4E3\"}, \"line\": {\"color\": \"white\"}}, \"type\": \"table\"}]}, \"layout\": {\"annotationdefaults\": {\"arrowcolor\": \"#2a3f5f\", \"arrowhead\": 0, \"arrowwidth\": 1}, \"autotypenumbers\": \"strict\", \"coloraxis\": {\"colorbar\": {\"outlinewidth\": 0, \"ticks\": \"\"}}, \"colorscale\": {\"diverging\": [[0, \"#8e0152\"], [0.1, \"#c51b7d\"], [0.2, \"#de77ae\"], [0.3, \"#f1b6da\"], [0.4, \"#fde0ef\"], [0.5, \"#f7f7f7\"], [0.6, \"#e6f5d0\"], [0.7, \"#b8e186\"], [0.8, \"#7fbc41\"], [0.9, \"#4d9221\"], [1, \"#276419\"]], \"sequential\": [[0.0, \"#0d0887\"], [0.1111111111111111, \"#46039f\"], [0.2222222222222222, \"#7201a8\"], [0.3333333333333333, \"#9c179e\"], [0.4444444444444444, \"#bd3786\"], [0.5555555555555556, \"#d8576b\"], [0.6666666666666666, \"#ed7953\"], [0.7777777777777778, \"#fb9f3a\"], [0.8888888888888888, \"#fdca26\"], [1.0, \"#f0f921\"]], \"sequentialminus\": [[0.0, \"#0d0887\"], [0.1111111111111111, \"#46039f\"], [0.2222222222222222, \"#7201a8\"], [0.3333333333333333, \"#9c179e\"], [0.4444444444444444, \"#bd3786\"], [0.5555555555555556, \"#d8576b\"], [0.6666666666666666, \"#ed7953\"], [0.7777777777777778, \"#fb9f3a\"], [0.8888888888888888, \"#fdca26\"], [1.0, \"#f0f921\"]]}, \"colorway\": [\"#636efa\", \"#EF553B\", \"#00cc96\", \"#ab63fa\", \"#FFA15A\", \"#19d3f3\", \"#FF6692\", \"#B6E880\", \"#FF97FF\", \"#FECB52\"], \"font\": {\"color\": \"#2a3f5f\"}, \"geo\": {\"bgcolor\": \"white\", \"lakecolor\": \"white\", \"landcolor\": \"#E5ECF6\", \"showlakes\": true, \"showland\": true, \"subunitcolor\": \"white\"}, \"hoverlabel\": {\"align\": \"left\"}, \"hovermode\": \"closest\", \"mapbox\": {\"style\": \"light\"}, \"paper_bgcolor\": \"white\", \"plot_bgcolor\": \"#E5ECF6\", \"polar\": {\"angularaxis\": {\"gridcolor\": \"white\", \"linecolor\": \"white\", \"ticks\": \"\"}, \"bgcolor\": \"#E5ECF6\", \"radialaxis\": {\"gridcolor\": \"white\", \"linecolor\": \"white\", \"ticks\": \"\"}}, \"scene\": {\"xaxis\": {\"backgroundcolor\": \"#E5ECF6\", \"gridcolor\": \"white\", \"gridwidth\": 2, \"linecolor\": \"white\", \"showbackground\": true, \"ticks\": \"\", \"zerolinecolor\": \"white\"}, \"yaxis\": {\"backgroundcolor\": \"#E5ECF6\", \"gridcolor\": \"white\", \"gridwidth\": 2, \"linecolor\": \"white\", \"showbackground\": true, \"ticks\": \"\", \"zerolinecolor\": \"white\"}, \"zaxis\": {\"backgroundcolor\": \"#E5ECF6\", \"gridcolor\": \"white\", \"gridwidth\": 2, \"linecolor\": \"white\", \"showbackground\": true, \"ticks\": \"\", \"zerolinecolor\": \"white\"}}, \"shapedefaults\": {\"line\": {\"color\": \"#2a3f5f\"}}, \"ternary\": {\"aaxis\": {\"gridcolor\": \"white\", \"linecolor\": \"white\", \"ticks\": \"\"}, \"baxis\": {\"gridcolor\": \"white\", \"linecolor\": \"white\", \"ticks\": \"\"}, \"bgcolor\": \"#E5ECF6\", \"caxis\": {\"gridcolor\": \"white\", \"linecolor\": \"white\", \"ticks\": \"\"}}, \"title\": {\"x\": 0.05}, \"xaxis\": {\"automargin\": true, \"gridcolor\": \"white\", \"linecolor\": \"white\", \"ticks\": \"\", \"title\": {\"standoff\": 15}, \"zerolinecolor\": \"white\", \"zerolinewidth\": 2}, \"yaxis\": {\"automargin\": true, \"gridcolor\": \"white\", \"linecolor\": \"white\", \"ticks\": \"\", \"title\": {\"standoff\": 15}, \"zerolinecolor\": \"white\", \"zerolinewidth\": 2}}}},                        {\"responsive\": true}                    ).then(function(){\n",
       "                            \n",
       "var gd = document.getElementById('8f5b5e22-4303-4f84-ad7b-b46c87f66799');\n",
       "var x = new MutationObserver(function (mutations, observer) {{\n",
       "        var display = window.getComputedStyle(gd).display;\n",
       "        if (!display || display === 'none') {{\n",
       "            console.log([gd, 'removed!']);\n",
       "            Plotly.purge(gd);\n",
       "            observer.disconnect();\n",
       "        }}\n",
       "}});\n",
       "\n",
       "// Listen for the removal of the full notebook cells\n",
       "var notebookContainer = gd.closest('#notebook-container');\n",
       "if (notebookContainer) {{\n",
       "    x.observe(notebookContainer, {childList: true});\n",
       "}}\n",
       "\n",
       "// Listen for the clearing of the current output cell\n",
       "var outputEl = gd.closest('.output');\n",
       "if (outputEl) {{\n",
       "    x.observe(outputEl, {childList: true});\n",
       "}}\n",
       "\n",
       "                        })                };                });            </script>        </div>"
      ]
     },
     "metadata": {},
     "output_type": "display_data"
    }
   ],
   "source": [
    "fig = go.Figure()\n",
    "\n",
    "long_value = [17.5, 17.5, -5, -5]\n",
    "lat_value = [55.5, 40.5, 55.5, 40.5]\n",
    "\n",
    "fig.add_trace(go.Scattergeo(\n",
    "    lon = long_value,\n",
    "    lat = lat_value,\n",
    "    mode = 'markers',\n",
    "    marker = dict(\n",
    "        size = 7,\n",
    "        color = 'rgb(255, 0, 0)',\n",
    "        line = dict(\n",
    "            width = 3,\n",
    "            color = 'rgba(68, 68, 68, 0)'\n",
    "        )\n",
    "    )\n",
    "))\n",
    "fig.update_layout(\n",
    "        geo_scope='europe',\n",
    "    )\n",
    "fig.show()"
   ]
  },
  {
   "cell_type": "markdown",
   "id": "b5c1f684",
   "metadata": {},
   "source": [
    "To make sure that we take the correct values from the matrix, plot both the real world coordinates (that serve as the boundary for the area we consider) and the indexes we use to take the data from our numpy array (that serve as the \"boundary\" for the part of the matrix we consider.\n",
    "We can see, that the following two plots match. Hence, the indexes 136x700 - 196x790 can to slice the data necessary for us from all data arrays."
   ]
  },
  {
   "cell_type": "code",
   "execution_count": 50,
   "id": "35ff7305",
   "metadata": {},
   "outputs": [
    {
     "data": {
      "application/vnd.plotly.v1+json": {
       "config": {
        "plotlyServerURL": "https://plot.ly"
       },
       "data": [
        {
         "lat": [
          55.5,
          40.5,
          55.5,
          40.5
         ],
         "lon": [
          17.5,
          17.5,
          -5,
          -5
         ],
         "marker": {
          "color": "rgb(255, 0, 0)",
          "line": {
           "color": "rgba(68, 68, 68, 0)",
           "width": 3
          },
          "size": 7
         },
         "mode": "markers",
         "type": "scattergeo"
        }
       ],
       "layout": {
        "template": {
         "data": {
          "bar": [
           {
            "error_x": {
             "color": "#2a3f5f"
            },
            "error_y": {
             "color": "#2a3f5f"
            },
            "marker": {
             "line": {
              "color": "#E5ECF6",
              "width": 0.5
             }
            },
            "type": "bar"
           }
          ],
          "barpolar": [
           {
            "marker": {
             "line": {
              "color": "#E5ECF6",
              "width": 0.5
             }
            },
            "type": "barpolar"
           }
          ],
          "carpet": [
           {
            "aaxis": {
             "endlinecolor": "#2a3f5f",
             "gridcolor": "white",
             "linecolor": "white",
             "minorgridcolor": "white",
             "startlinecolor": "#2a3f5f"
            },
            "baxis": {
             "endlinecolor": "#2a3f5f",
             "gridcolor": "white",
             "linecolor": "white",
             "minorgridcolor": "white",
             "startlinecolor": "#2a3f5f"
            },
            "type": "carpet"
           }
          ],
          "choropleth": [
           {
            "colorbar": {
             "outlinewidth": 0,
             "ticks": ""
            },
            "type": "choropleth"
           }
          ],
          "contour": [
           {
            "colorbar": {
             "outlinewidth": 0,
             "ticks": ""
            },
            "colorscale": [
             [
              0,
              "#0d0887"
             ],
             [
              0.1111111111111111,
              "#46039f"
             ],
             [
              0.2222222222222222,
              "#7201a8"
             ],
             [
              0.3333333333333333,
              "#9c179e"
             ],
             [
              0.4444444444444444,
              "#bd3786"
             ],
             [
              0.5555555555555556,
              "#d8576b"
             ],
             [
              0.6666666666666666,
              "#ed7953"
             ],
             [
              0.7777777777777778,
              "#fb9f3a"
             ],
             [
              0.8888888888888888,
              "#fdca26"
             ],
             [
              1,
              "#f0f921"
             ]
            ],
            "type": "contour"
           }
          ],
          "contourcarpet": [
           {
            "colorbar": {
             "outlinewidth": 0,
             "ticks": ""
            },
            "type": "contourcarpet"
           }
          ],
          "heatmap": [
           {
            "colorbar": {
             "outlinewidth": 0,
             "ticks": ""
            },
            "colorscale": [
             [
              0,
              "#0d0887"
             ],
             [
              0.1111111111111111,
              "#46039f"
             ],
             [
              0.2222222222222222,
              "#7201a8"
             ],
             [
              0.3333333333333333,
              "#9c179e"
             ],
             [
              0.4444444444444444,
              "#bd3786"
             ],
             [
              0.5555555555555556,
              "#d8576b"
             ],
             [
              0.6666666666666666,
              "#ed7953"
             ],
             [
              0.7777777777777778,
              "#fb9f3a"
             ],
             [
              0.8888888888888888,
              "#fdca26"
             ],
             [
              1,
              "#f0f921"
             ]
            ],
            "type": "heatmap"
           }
          ],
          "heatmapgl": [
           {
            "colorbar": {
             "outlinewidth": 0,
             "ticks": ""
            },
            "colorscale": [
             [
              0,
              "#0d0887"
             ],
             [
              0.1111111111111111,
              "#46039f"
             ],
             [
              0.2222222222222222,
              "#7201a8"
             ],
             [
              0.3333333333333333,
              "#9c179e"
             ],
             [
              0.4444444444444444,
              "#bd3786"
             ],
             [
              0.5555555555555556,
              "#d8576b"
             ],
             [
              0.6666666666666666,
              "#ed7953"
             ],
             [
              0.7777777777777778,
              "#fb9f3a"
             ],
             [
              0.8888888888888888,
              "#fdca26"
             ],
             [
              1,
              "#f0f921"
             ]
            ],
            "type": "heatmapgl"
           }
          ],
          "histogram": [
           {
            "marker": {
             "colorbar": {
              "outlinewidth": 0,
              "ticks": ""
             }
            },
            "type": "histogram"
           }
          ],
          "histogram2d": [
           {
            "colorbar": {
             "outlinewidth": 0,
             "ticks": ""
            },
            "colorscale": [
             [
              0,
              "#0d0887"
             ],
             [
              0.1111111111111111,
              "#46039f"
             ],
             [
              0.2222222222222222,
              "#7201a8"
             ],
             [
              0.3333333333333333,
              "#9c179e"
             ],
             [
              0.4444444444444444,
              "#bd3786"
             ],
             [
              0.5555555555555556,
              "#d8576b"
             ],
             [
              0.6666666666666666,
              "#ed7953"
             ],
             [
              0.7777777777777778,
              "#fb9f3a"
             ],
             [
              0.8888888888888888,
              "#fdca26"
             ],
             [
              1,
              "#f0f921"
             ]
            ],
            "type": "histogram2d"
           }
          ],
          "histogram2dcontour": [
           {
            "colorbar": {
             "outlinewidth": 0,
             "ticks": ""
            },
            "colorscale": [
             [
              0,
              "#0d0887"
             ],
             [
              0.1111111111111111,
              "#46039f"
             ],
             [
              0.2222222222222222,
              "#7201a8"
             ],
             [
              0.3333333333333333,
              "#9c179e"
             ],
             [
              0.4444444444444444,
              "#bd3786"
             ],
             [
              0.5555555555555556,
              "#d8576b"
             ],
             [
              0.6666666666666666,
              "#ed7953"
             ],
             [
              0.7777777777777778,
              "#fb9f3a"
             ],
             [
              0.8888888888888888,
              "#fdca26"
             ],
             [
              1,
              "#f0f921"
             ]
            ],
            "type": "histogram2dcontour"
           }
          ],
          "mesh3d": [
           {
            "colorbar": {
             "outlinewidth": 0,
             "ticks": ""
            },
            "type": "mesh3d"
           }
          ],
          "parcoords": [
           {
            "line": {
             "colorbar": {
              "outlinewidth": 0,
              "ticks": ""
             }
            },
            "type": "parcoords"
           }
          ],
          "pie": [
           {
            "automargin": true,
            "type": "pie"
           }
          ],
          "scatter": [
           {
            "marker": {
             "colorbar": {
              "outlinewidth": 0,
              "ticks": ""
             }
            },
            "type": "scatter"
           }
          ],
          "scatter3d": [
           {
            "line": {
             "colorbar": {
              "outlinewidth": 0,
              "ticks": ""
             }
            },
            "marker": {
             "colorbar": {
              "outlinewidth": 0,
              "ticks": ""
             }
            },
            "type": "scatter3d"
           }
          ],
          "scattercarpet": [
           {
            "marker": {
             "colorbar": {
              "outlinewidth": 0,
              "ticks": ""
             }
            },
            "type": "scattercarpet"
           }
          ],
          "scattergeo": [
           {
            "marker": {
             "colorbar": {
              "outlinewidth": 0,
              "ticks": ""
             }
            },
            "type": "scattergeo"
           }
          ],
          "scattergl": [
           {
            "marker": {
             "colorbar": {
              "outlinewidth": 0,
              "ticks": ""
             }
            },
            "type": "scattergl"
           }
          ],
          "scattermapbox": [
           {
            "marker": {
             "colorbar": {
              "outlinewidth": 0,
              "ticks": ""
             }
            },
            "type": "scattermapbox"
           }
          ],
          "scatterpolar": [
           {
            "marker": {
             "colorbar": {
              "outlinewidth": 0,
              "ticks": ""
             }
            },
            "type": "scatterpolar"
           }
          ],
          "scatterpolargl": [
           {
            "marker": {
             "colorbar": {
              "outlinewidth": 0,
              "ticks": ""
             }
            },
            "type": "scatterpolargl"
           }
          ],
          "scatterternary": [
           {
            "marker": {
             "colorbar": {
              "outlinewidth": 0,
              "ticks": ""
             }
            },
            "type": "scatterternary"
           }
          ],
          "surface": [
           {
            "colorbar": {
             "outlinewidth": 0,
             "ticks": ""
            },
            "colorscale": [
             [
              0,
              "#0d0887"
             ],
             [
              0.1111111111111111,
              "#46039f"
             ],
             [
              0.2222222222222222,
              "#7201a8"
             ],
             [
              0.3333333333333333,
              "#9c179e"
             ],
             [
              0.4444444444444444,
              "#bd3786"
             ],
             [
              0.5555555555555556,
              "#d8576b"
             ],
             [
              0.6666666666666666,
              "#ed7953"
             ],
             [
              0.7777777777777778,
              "#fb9f3a"
             ],
             [
              0.8888888888888888,
              "#fdca26"
             ],
             [
              1,
              "#f0f921"
             ]
            ],
            "type": "surface"
           }
          ],
          "table": [
           {
            "cells": {
             "fill": {
              "color": "#EBF0F8"
             },
             "line": {
              "color": "white"
             }
            },
            "header": {
             "fill": {
              "color": "#C8D4E3"
             },
             "line": {
              "color": "white"
             }
            },
            "type": "table"
           }
          ]
         },
         "layout": {
          "annotationdefaults": {
           "arrowcolor": "#2a3f5f",
           "arrowhead": 0,
           "arrowwidth": 1
          },
          "autotypenumbers": "strict",
          "coloraxis": {
           "colorbar": {
            "outlinewidth": 0,
            "ticks": ""
           }
          },
          "colorscale": {
           "diverging": [
            [
             0,
             "#8e0152"
            ],
            [
             0.1,
             "#c51b7d"
            ],
            [
             0.2,
             "#de77ae"
            ],
            [
             0.3,
             "#f1b6da"
            ],
            [
             0.4,
             "#fde0ef"
            ],
            [
             0.5,
             "#f7f7f7"
            ],
            [
             0.6,
             "#e6f5d0"
            ],
            [
             0.7,
             "#b8e186"
            ],
            [
             0.8,
             "#7fbc41"
            ],
            [
             0.9,
             "#4d9221"
            ],
            [
             1,
             "#276419"
            ]
           ],
           "sequential": [
            [
             0,
             "#0d0887"
            ],
            [
             0.1111111111111111,
             "#46039f"
            ],
            [
             0.2222222222222222,
             "#7201a8"
            ],
            [
             0.3333333333333333,
             "#9c179e"
            ],
            [
             0.4444444444444444,
             "#bd3786"
            ],
            [
             0.5555555555555556,
             "#d8576b"
            ],
            [
             0.6666666666666666,
             "#ed7953"
            ],
            [
             0.7777777777777778,
             "#fb9f3a"
            ],
            [
             0.8888888888888888,
             "#fdca26"
            ],
            [
             1,
             "#f0f921"
            ]
           ],
           "sequentialminus": [
            [
             0,
             "#0d0887"
            ],
            [
             0.1111111111111111,
             "#46039f"
            ],
            [
             0.2222222222222222,
             "#7201a8"
            ],
            [
             0.3333333333333333,
             "#9c179e"
            ],
            [
             0.4444444444444444,
             "#bd3786"
            ],
            [
             0.5555555555555556,
             "#d8576b"
            ],
            [
             0.6666666666666666,
             "#ed7953"
            ],
            [
             0.7777777777777778,
             "#fb9f3a"
            ],
            [
             0.8888888888888888,
             "#fdca26"
            ],
            [
             1,
             "#f0f921"
            ]
           ]
          },
          "colorway": [
           "#636efa",
           "#EF553B",
           "#00cc96",
           "#ab63fa",
           "#FFA15A",
           "#19d3f3",
           "#FF6692",
           "#B6E880",
           "#FF97FF",
           "#FECB52"
          ],
          "font": {
           "color": "#2a3f5f"
          },
          "geo": {
           "bgcolor": "white",
           "lakecolor": "white",
           "landcolor": "#E5ECF6",
           "showlakes": true,
           "showland": true,
           "subunitcolor": "white"
          },
          "hoverlabel": {
           "align": "left"
          },
          "hovermode": "closest",
          "mapbox": {
           "style": "light"
          },
          "paper_bgcolor": "white",
          "plot_bgcolor": "#E5ECF6",
          "polar": {
           "angularaxis": {
            "gridcolor": "white",
            "linecolor": "white",
            "ticks": ""
           },
           "bgcolor": "#E5ECF6",
           "radialaxis": {
            "gridcolor": "white",
            "linecolor": "white",
            "ticks": ""
           }
          },
          "scene": {
           "xaxis": {
            "backgroundcolor": "#E5ECF6",
            "gridcolor": "white",
            "gridwidth": 2,
            "linecolor": "white",
            "showbackground": true,
            "ticks": "",
            "zerolinecolor": "white"
           },
           "yaxis": {
            "backgroundcolor": "#E5ECF6",
            "gridcolor": "white",
            "gridwidth": 2,
            "linecolor": "white",
            "showbackground": true,
            "ticks": "",
            "zerolinecolor": "white"
           },
           "zaxis": {
            "backgroundcolor": "#E5ECF6",
            "gridcolor": "white",
            "gridwidth": 2,
            "linecolor": "white",
            "showbackground": true,
            "ticks": "",
            "zerolinecolor": "white"
           }
          },
          "shapedefaults": {
           "line": {
            "color": "#2a3f5f"
           }
          },
          "ternary": {
           "aaxis": {
            "gridcolor": "white",
            "linecolor": "white",
            "ticks": ""
           },
           "baxis": {
            "gridcolor": "white",
            "linecolor": "white",
            "ticks": ""
           },
           "bgcolor": "#E5ECF6",
           "caxis": {
            "gridcolor": "white",
            "linecolor": "white",
            "ticks": ""
           }
          },
          "title": {
           "x": 0.05
          },
          "xaxis": {
           "automargin": true,
           "gridcolor": "white",
           "linecolor": "white",
           "ticks": "",
           "title": {
            "standoff": 15
           },
           "zerolinecolor": "white",
           "zerolinewidth": 2
          },
          "yaxis": {
           "automargin": true,
           "gridcolor": "white",
           "linecolor": "white",
           "ticks": "",
           "title": {
            "standoff": 15
           },
           "zerolinecolor": "white",
           "zerolinewidth": 2
          }
         }
        }
       }
      },
      "text/html": [
       "<div>                            <div id=\"c0e22874-5a7e-40ed-8d8e-befac8a80010\" class=\"plotly-graph-div\" style=\"height:525px; width:100%;\"></div>            <script type=\"text/javascript\">                require([\"plotly\"], function(Plotly) {                    window.PLOTLYENV=window.PLOTLYENV || {};                                    if (document.getElementById(\"c0e22874-5a7e-40ed-8d8e-befac8a80010\")) {                    Plotly.newPlot(                        \"c0e22874-5a7e-40ed-8d8e-befac8a80010\",                        [{\"lat\": [55.5, 40.5, 55.5, 40.5], \"lon\": [17.5, 17.5, -5, -5], \"marker\": {\"color\": \"rgb(255, 0, 0)\", \"line\": {\"color\": \"rgba(68, 68, 68, 0)\", \"width\": 3}, \"size\": 7}, \"mode\": \"markers\", \"type\": \"scattergeo\"}],                        {\"template\": {\"data\": {\"bar\": [{\"error_x\": {\"color\": \"#2a3f5f\"}, \"error_y\": {\"color\": \"#2a3f5f\"}, \"marker\": {\"line\": {\"color\": \"#E5ECF6\", \"width\": 0.5}}, \"type\": \"bar\"}], \"barpolar\": [{\"marker\": {\"line\": {\"color\": \"#E5ECF6\", \"width\": 0.5}}, \"type\": \"barpolar\"}], \"carpet\": [{\"aaxis\": {\"endlinecolor\": \"#2a3f5f\", \"gridcolor\": \"white\", \"linecolor\": \"white\", \"minorgridcolor\": \"white\", \"startlinecolor\": \"#2a3f5f\"}, \"baxis\": {\"endlinecolor\": \"#2a3f5f\", \"gridcolor\": \"white\", \"linecolor\": \"white\", \"minorgridcolor\": \"white\", \"startlinecolor\": \"#2a3f5f\"}, \"type\": \"carpet\"}], \"choropleth\": [{\"colorbar\": {\"outlinewidth\": 0, \"ticks\": \"\"}, \"type\": \"choropleth\"}], \"contour\": [{\"colorbar\": {\"outlinewidth\": 0, \"ticks\": \"\"}, \"colorscale\": [[0.0, \"#0d0887\"], [0.1111111111111111, \"#46039f\"], [0.2222222222222222, \"#7201a8\"], [0.3333333333333333, \"#9c179e\"], [0.4444444444444444, \"#bd3786\"], [0.5555555555555556, \"#d8576b\"], [0.6666666666666666, \"#ed7953\"], [0.7777777777777778, \"#fb9f3a\"], [0.8888888888888888, \"#fdca26\"], [1.0, \"#f0f921\"]], \"type\": \"contour\"}], \"contourcarpet\": [{\"colorbar\": {\"outlinewidth\": 0, \"ticks\": \"\"}, \"type\": \"contourcarpet\"}], \"heatmap\": [{\"colorbar\": {\"outlinewidth\": 0, \"ticks\": \"\"}, \"colorscale\": [[0.0, \"#0d0887\"], [0.1111111111111111, \"#46039f\"], [0.2222222222222222, \"#7201a8\"], [0.3333333333333333, \"#9c179e\"], [0.4444444444444444, \"#bd3786\"], [0.5555555555555556, \"#d8576b\"], [0.6666666666666666, \"#ed7953\"], [0.7777777777777778, \"#fb9f3a\"], [0.8888888888888888, \"#fdca26\"], [1.0, \"#f0f921\"]], \"type\": \"heatmap\"}], \"heatmapgl\": [{\"colorbar\": {\"outlinewidth\": 0, \"ticks\": \"\"}, \"colorscale\": [[0.0, \"#0d0887\"], [0.1111111111111111, \"#46039f\"], [0.2222222222222222, \"#7201a8\"], [0.3333333333333333, \"#9c179e\"], [0.4444444444444444, \"#bd3786\"], [0.5555555555555556, \"#d8576b\"], [0.6666666666666666, \"#ed7953\"], [0.7777777777777778, \"#fb9f3a\"], [0.8888888888888888, \"#fdca26\"], [1.0, \"#f0f921\"]], \"type\": \"heatmapgl\"}], \"histogram\": [{\"marker\": {\"colorbar\": {\"outlinewidth\": 0, \"ticks\": \"\"}}, \"type\": \"histogram\"}], \"histogram2d\": [{\"colorbar\": {\"outlinewidth\": 0, \"ticks\": \"\"}, \"colorscale\": [[0.0, \"#0d0887\"], [0.1111111111111111, \"#46039f\"], [0.2222222222222222, \"#7201a8\"], [0.3333333333333333, \"#9c179e\"], [0.4444444444444444, \"#bd3786\"], [0.5555555555555556, \"#d8576b\"], [0.6666666666666666, \"#ed7953\"], [0.7777777777777778, \"#fb9f3a\"], [0.8888888888888888, \"#fdca26\"], [1.0, \"#f0f921\"]], \"type\": \"histogram2d\"}], \"histogram2dcontour\": [{\"colorbar\": {\"outlinewidth\": 0, \"ticks\": \"\"}, \"colorscale\": [[0.0, \"#0d0887\"], [0.1111111111111111, \"#46039f\"], [0.2222222222222222, \"#7201a8\"], [0.3333333333333333, \"#9c179e\"], [0.4444444444444444, \"#bd3786\"], [0.5555555555555556, \"#d8576b\"], [0.6666666666666666, \"#ed7953\"], [0.7777777777777778, \"#fb9f3a\"], [0.8888888888888888, \"#fdca26\"], [1.0, \"#f0f921\"]], \"type\": \"histogram2dcontour\"}], \"mesh3d\": [{\"colorbar\": {\"outlinewidth\": 0, \"ticks\": \"\"}, \"type\": \"mesh3d\"}], \"parcoords\": [{\"line\": {\"colorbar\": {\"outlinewidth\": 0, \"ticks\": \"\"}}, \"type\": \"parcoords\"}], \"pie\": [{\"automargin\": true, \"type\": \"pie\"}], \"scatter\": [{\"marker\": {\"colorbar\": {\"outlinewidth\": 0, \"ticks\": \"\"}}, \"type\": \"scatter\"}], \"scatter3d\": [{\"line\": {\"colorbar\": {\"outlinewidth\": 0, \"ticks\": \"\"}}, \"marker\": {\"colorbar\": {\"outlinewidth\": 0, \"ticks\": \"\"}}, \"type\": \"scatter3d\"}], \"scattercarpet\": [{\"marker\": {\"colorbar\": {\"outlinewidth\": 0, \"ticks\": \"\"}}, \"type\": \"scattercarpet\"}], \"scattergeo\": [{\"marker\": {\"colorbar\": {\"outlinewidth\": 0, \"ticks\": \"\"}}, \"type\": \"scattergeo\"}], \"scattergl\": [{\"marker\": {\"colorbar\": {\"outlinewidth\": 0, \"ticks\": \"\"}}, \"type\": \"scattergl\"}], \"scattermapbox\": [{\"marker\": {\"colorbar\": {\"outlinewidth\": 0, \"ticks\": \"\"}}, \"type\": \"scattermapbox\"}], \"scatterpolar\": [{\"marker\": {\"colorbar\": {\"outlinewidth\": 0, \"ticks\": \"\"}}, \"type\": \"scatterpolar\"}], \"scatterpolargl\": [{\"marker\": {\"colorbar\": {\"outlinewidth\": 0, \"ticks\": \"\"}}, \"type\": \"scatterpolargl\"}], \"scatterternary\": [{\"marker\": {\"colorbar\": {\"outlinewidth\": 0, \"ticks\": \"\"}}, \"type\": \"scatterternary\"}], \"surface\": [{\"colorbar\": {\"outlinewidth\": 0, \"ticks\": \"\"}, \"colorscale\": [[0.0, \"#0d0887\"], [0.1111111111111111, \"#46039f\"], [0.2222222222222222, \"#7201a8\"], [0.3333333333333333, \"#9c179e\"], [0.4444444444444444, \"#bd3786\"], [0.5555555555555556, \"#d8576b\"], [0.6666666666666666, \"#ed7953\"], [0.7777777777777778, \"#fb9f3a\"], [0.8888888888888888, \"#fdca26\"], [1.0, \"#f0f921\"]], \"type\": \"surface\"}], \"table\": [{\"cells\": {\"fill\": {\"color\": \"#EBF0F8\"}, \"line\": {\"color\": \"white\"}}, \"header\": {\"fill\": {\"color\": \"#C8D4E3\"}, \"line\": {\"color\": \"white\"}}, \"type\": \"table\"}]}, \"layout\": {\"annotationdefaults\": {\"arrowcolor\": \"#2a3f5f\", \"arrowhead\": 0, \"arrowwidth\": 1}, \"autotypenumbers\": \"strict\", \"coloraxis\": {\"colorbar\": {\"outlinewidth\": 0, \"ticks\": \"\"}}, \"colorscale\": {\"diverging\": [[0, \"#8e0152\"], [0.1, \"#c51b7d\"], [0.2, \"#de77ae\"], [0.3, \"#f1b6da\"], [0.4, \"#fde0ef\"], [0.5, \"#f7f7f7\"], [0.6, \"#e6f5d0\"], [0.7, \"#b8e186\"], [0.8, \"#7fbc41\"], [0.9, \"#4d9221\"], [1, \"#276419\"]], \"sequential\": [[0.0, \"#0d0887\"], [0.1111111111111111, \"#46039f\"], [0.2222222222222222, \"#7201a8\"], [0.3333333333333333, \"#9c179e\"], [0.4444444444444444, \"#bd3786\"], [0.5555555555555556, \"#d8576b\"], [0.6666666666666666, \"#ed7953\"], [0.7777777777777778, \"#fb9f3a\"], [0.8888888888888888, \"#fdca26\"], [1.0, \"#f0f921\"]], \"sequentialminus\": [[0.0, \"#0d0887\"], [0.1111111111111111, \"#46039f\"], [0.2222222222222222, \"#7201a8\"], [0.3333333333333333, \"#9c179e\"], [0.4444444444444444, \"#bd3786\"], [0.5555555555555556, \"#d8576b\"], [0.6666666666666666, \"#ed7953\"], [0.7777777777777778, \"#fb9f3a\"], [0.8888888888888888, \"#fdca26\"], [1.0, \"#f0f921\"]]}, \"colorway\": [\"#636efa\", \"#EF553B\", \"#00cc96\", \"#ab63fa\", \"#FFA15A\", \"#19d3f3\", \"#FF6692\", \"#B6E880\", \"#FF97FF\", \"#FECB52\"], \"font\": {\"color\": \"#2a3f5f\"}, \"geo\": {\"bgcolor\": \"white\", \"lakecolor\": \"white\", \"landcolor\": \"#E5ECF6\", \"showlakes\": true, \"showland\": true, \"subunitcolor\": \"white\"}, \"hoverlabel\": {\"align\": \"left\"}, \"hovermode\": \"closest\", \"mapbox\": {\"style\": \"light\"}, \"paper_bgcolor\": \"white\", \"plot_bgcolor\": \"#E5ECF6\", \"polar\": {\"angularaxis\": {\"gridcolor\": \"white\", \"linecolor\": \"white\", \"ticks\": \"\"}, \"bgcolor\": \"#E5ECF6\", \"radialaxis\": {\"gridcolor\": \"white\", \"linecolor\": \"white\", \"ticks\": \"\"}}, \"scene\": {\"xaxis\": {\"backgroundcolor\": \"#E5ECF6\", \"gridcolor\": \"white\", \"gridwidth\": 2, \"linecolor\": \"white\", \"showbackground\": true, \"ticks\": \"\", \"zerolinecolor\": \"white\"}, \"yaxis\": {\"backgroundcolor\": \"#E5ECF6\", \"gridcolor\": \"white\", \"gridwidth\": 2, \"linecolor\": \"white\", \"showbackground\": true, \"ticks\": \"\", \"zerolinecolor\": \"white\"}, \"zaxis\": {\"backgroundcolor\": \"#E5ECF6\", \"gridcolor\": \"white\", \"gridwidth\": 2, \"linecolor\": \"white\", \"showbackground\": true, \"ticks\": \"\", \"zerolinecolor\": \"white\"}}, \"shapedefaults\": {\"line\": {\"color\": \"#2a3f5f\"}}, \"ternary\": {\"aaxis\": {\"gridcolor\": \"white\", \"linecolor\": \"white\", \"ticks\": \"\"}, \"baxis\": {\"gridcolor\": \"white\", \"linecolor\": \"white\", \"ticks\": \"\"}, \"bgcolor\": \"#E5ECF6\", \"caxis\": {\"gridcolor\": \"white\", \"linecolor\": \"white\", \"ticks\": \"\"}}, \"title\": {\"x\": 0.05}, \"xaxis\": {\"automargin\": true, \"gridcolor\": \"white\", \"linecolor\": \"white\", \"ticks\": \"\", \"title\": {\"standoff\": 15}, \"zerolinecolor\": \"white\", \"zerolinewidth\": 2}, \"yaxis\": {\"automargin\": true, \"gridcolor\": \"white\", \"linecolor\": \"white\", \"ticks\": \"\", \"title\": {\"standoff\": 15}, \"zerolinecolor\": \"white\", \"zerolinewidth\": 2}}}},                        {\"responsive\": true}                    ).then(function(){\n",
       "                            \n",
       "var gd = document.getElementById('c0e22874-5a7e-40ed-8d8e-befac8a80010');\n",
       "var x = new MutationObserver(function (mutations, observer) {{\n",
       "        var display = window.getComputedStyle(gd).display;\n",
       "        if (!display || display === 'none') {{\n",
       "            console.log([gd, 'removed!']);\n",
       "            Plotly.purge(gd);\n",
       "            observer.disconnect();\n",
       "        }}\n",
       "}});\n",
       "\n",
       "// Listen for the removal of the full notebook cells\n",
       "var notebookContainer = gd.closest('#notebook-container');\n",
       "if (notebookContainer) {{\n",
       "    x.observe(notebookContainer, {childList: true});\n",
       "}}\n",
       "\n",
       "// Listen for the clearing of the current output cell\n",
       "var outputEl = gd.closest('.output');\n",
       "if (outputEl) {{\n",
       "    x.observe(outputEl, {childList: true});\n",
       "}}\n",
       "\n",
       "                        })                };                });            </script>        </div>"
      ]
     },
     "metadata": {},
     "output_type": "display_data"
    }
   ],
   "source": [
    "fig = go.Figure()\n",
    "\n",
    "long_value = [17.5, 17.5, -5, -5]\n",
    "lat_value = [55.5, 40.5, 55.5, 40.5]\n",
    "\n",
    "fig.add_trace(go.Scattergeo(\n",
    "    lon = long_value,\n",
    "    lat = lat_value,\n",
    "    mode = 'markers',\n",
    "    marker = dict(\n",
    "        size = 7,\n",
    "        color = 'rgb(255, 0, 0)',\n",
    "        line = dict(\n",
    "            width = 3,\n",
    "            color = 'rgba(68, 68, 68, 0)'\n",
    "        )\n",
    "    )\n",
    "))\n",
    "fig.show()"
   ]
  },
  {
   "cell_type": "code",
   "execution_count": 51,
   "id": "1b228f41",
   "metadata": {},
   "outputs": [
    {
     "name": "stdout",
     "output_type": "stream",
     "text": [
      "136 196\n",
      "700 790\n"
     ]
    },
    {
     "data": {
      "application/javascript": [
       "/* Put everything inside the global mpl namespace */\n",
       "/* global mpl */\n",
       "window.mpl = {};\n",
       "\n",
       "mpl.get_websocket_type = function () {\n",
       "    if (typeof WebSocket !== 'undefined') {\n",
       "        return WebSocket;\n",
       "    } else if (typeof MozWebSocket !== 'undefined') {\n",
       "        return MozWebSocket;\n",
       "    } else {\n",
       "        alert(\n",
       "            'Your browser does not have WebSocket support. ' +\n",
       "                'Please try Chrome, Safari or Firefox ≥ 6. ' +\n",
       "                'Firefox 4 and 5 are also supported but you ' +\n",
       "                'have to enable WebSockets in about:config.'\n",
       "        );\n",
       "    }\n",
       "};\n",
       "\n",
       "mpl.figure = function (figure_id, websocket, ondownload, parent_element) {\n",
       "    this.id = figure_id;\n",
       "\n",
       "    this.ws = websocket;\n",
       "\n",
       "    this.supports_binary = this.ws.binaryType !== undefined;\n",
       "\n",
       "    if (!this.supports_binary) {\n",
       "        var warnings = document.getElementById('mpl-warnings');\n",
       "        if (warnings) {\n",
       "            warnings.style.display = 'block';\n",
       "            warnings.textContent =\n",
       "                'This browser does not support binary websocket messages. ' +\n",
       "                'Performance may be slow.';\n",
       "        }\n",
       "    }\n",
       "\n",
       "    this.imageObj = new Image();\n",
       "\n",
       "    this.context = undefined;\n",
       "    this.message = undefined;\n",
       "    this.canvas = undefined;\n",
       "    this.rubberband_canvas = undefined;\n",
       "    this.rubberband_context = undefined;\n",
       "    this.format_dropdown = undefined;\n",
       "\n",
       "    this.image_mode = 'full';\n",
       "\n",
       "    this.root = document.createElement('div');\n",
       "    this.root.setAttribute('style', 'display: inline-block');\n",
       "    this._root_extra_style(this.root);\n",
       "\n",
       "    parent_element.appendChild(this.root);\n",
       "\n",
       "    this._init_header(this);\n",
       "    this._init_canvas(this);\n",
       "    this._init_toolbar(this);\n",
       "\n",
       "    var fig = this;\n",
       "\n",
       "    this.waiting = false;\n",
       "\n",
       "    this.ws.onopen = function () {\n",
       "        fig.send_message('supports_binary', { value: fig.supports_binary });\n",
       "        fig.send_message('send_image_mode', {});\n",
       "        if (fig.ratio !== 1) {\n",
       "            fig.send_message('set_dpi_ratio', { dpi_ratio: fig.ratio });\n",
       "        }\n",
       "        fig.send_message('refresh', {});\n",
       "    };\n",
       "\n",
       "    this.imageObj.onload = function () {\n",
       "        if (fig.image_mode === 'full') {\n",
       "            // Full images could contain transparency (where diff images\n",
       "            // almost always do), so we need to clear the canvas so that\n",
       "            // there is no ghosting.\n",
       "            fig.context.clearRect(0, 0, fig.canvas.width, fig.canvas.height);\n",
       "        }\n",
       "        fig.context.drawImage(fig.imageObj, 0, 0);\n",
       "    };\n",
       "\n",
       "    this.imageObj.onunload = function () {\n",
       "        fig.ws.close();\n",
       "    };\n",
       "\n",
       "    this.ws.onmessage = this._make_on_message_function(this);\n",
       "\n",
       "    this.ondownload = ondownload;\n",
       "};\n",
       "\n",
       "mpl.figure.prototype._init_header = function () {\n",
       "    var titlebar = document.createElement('div');\n",
       "    titlebar.classList =\n",
       "        'ui-dialog-titlebar ui-widget-header ui-corner-all ui-helper-clearfix';\n",
       "    var titletext = document.createElement('div');\n",
       "    titletext.classList = 'ui-dialog-title';\n",
       "    titletext.setAttribute(\n",
       "        'style',\n",
       "        'width: 100%; text-align: center; padding: 3px;'\n",
       "    );\n",
       "    titlebar.appendChild(titletext);\n",
       "    this.root.appendChild(titlebar);\n",
       "    this.header = titletext;\n",
       "};\n",
       "\n",
       "mpl.figure.prototype._canvas_extra_style = function (_canvas_div) {};\n",
       "\n",
       "mpl.figure.prototype._root_extra_style = function (_canvas_div) {};\n",
       "\n",
       "mpl.figure.prototype._init_canvas = function () {\n",
       "    var fig = this;\n",
       "\n",
       "    var canvas_div = (this.canvas_div = document.createElement('div'));\n",
       "    canvas_div.setAttribute(\n",
       "        'style',\n",
       "        'border: 1px solid #ddd;' +\n",
       "            'box-sizing: content-box;' +\n",
       "            'clear: both;' +\n",
       "            'min-height: 1px;' +\n",
       "            'min-width: 1px;' +\n",
       "            'outline: 0;' +\n",
       "            'overflow: hidden;' +\n",
       "            'position: relative;' +\n",
       "            'resize: both;'\n",
       "    );\n",
       "\n",
       "    function on_keyboard_event_closure(name) {\n",
       "        return function (event) {\n",
       "            return fig.key_event(event, name);\n",
       "        };\n",
       "    }\n",
       "\n",
       "    canvas_div.addEventListener(\n",
       "        'keydown',\n",
       "        on_keyboard_event_closure('key_press')\n",
       "    );\n",
       "    canvas_div.addEventListener(\n",
       "        'keyup',\n",
       "        on_keyboard_event_closure('key_release')\n",
       "    );\n",
       "\n",
       "    this._canvas_extra_style(canvas_div);\n",
       "    this.root.appendChild(canvas_div);\n",
       "\n",
       "    var canvas = (this.canvas = document.createElement('canvas'));\n",
       "    canvas.classList.add('mpl-canvas');\n",
       "    canvas.setAttribute('style', 'box-sizing: content-box;');\n",
       "\n",
       "    this.context = canvas.getContext('2d');\n",
       "\n",
       "    var backingStore =\n",
       "        this.context.backingStorePixelRatio ||\n",
       "        this.context.webkitBackingStorePixelRatio ||\n",
       "        this.context.mozBackingStorePixelRatio ||\n",
       "        this.context.msBackingStorePixelRatio ||\n",
       "        this.context.oBackingStorePixelRatio ||\n",
       "        this.context.backingStorePixelRatio ||\n",
       "        1;\n",
       "\n",
       "    this.ratio = (window.devicePixelRatio || 1) / backingStore;\n",
       "\n",
       "    var rubberband_canvas = (this.rubberband_canvas = document.createElement(\n",
       "        'canvas'\n",
       "    ));\n",
       "    rubberband_canvas.setAttribute(\n",
       "        'style',\n",
       "        'box-sizing: content-box; position: absolute; left: 0; top: 0; z-index: 1;'\n",
       "    );\n",
       "\n",
       "    // Apply a ponyfill if ResizeObserver is not implemented by browser.\n",
       "    if (this.ResizeObserver === undefined) {\n",
       "        if (window.ResizeObserver !== undefined) {\n",
       "            this.ResizeObserver = window.ResizeObserver;\n",
       "        } else {\n",
       "            var obs = _JSXTOOLS_RESIZE_OBSERVER({});\n",
       "            this.ResizeObserver = obs.ResizeObserver;\n",
       "        }\n",
       "    }\n",
       "\n",
       "    this.resizeObserverInstance = new this.ResizeObserver(function (entries) {\n",
       "        var nentries = entries.length;\n",
       "        for (var i = 0; i < nentries; i++) {\n",
       "            var entry = entries[i];\n",
       "            var width, height;\n",
       "            if (entry.contentBoxSize) {\n",
       "                if (entry.contentBoxSize instanceof Array) {\n",
       "                    // Chrome 84 implements new version of spec.\n",
       "                    width = entry.contentBoxSize[0].inlineSize;\n",
       "                    height = entry.contentBoxSize[0].blockSize;\n",
       "                } else {\n",
       "                    // Firefox implements old version of spec.\n",
       "                    width = entry.contentBoxSize.inlineSize;\n",
       "                    height = entry.contentBoxSize.blockSize;\n",
       "                }\n",
       "            } else {\n",
       "                // Chrome <84 implements even older version of spec.\n",
       "                width = entry.contentRect.width;\n",
       "                height = entry.contentRect.height;\n",
       "            }\n",
       "\n",
       "            // Keep the size of the canvas and rubber band canvas in sync with\n",
       "            // the canvas container.\n",
       "            if (entry.devicePixelContentBoxSize) {\n",
       "                // Chrome 84 implements new version of spec.\n",
       "                canvas.setAttribute(\n",
       "                    'width',\n",
       "                    entry.devicePixelContentBoxSize[0].inlineSize\n",
       "                );\n",
       "                canvas.setAttribute(\n",
       "                    'height',\n",
       "                    entry.devicePixelContentBoxSize[0].blockSize\n",
       "                );\n",
       "            } else {\n",
       "                canvas.setAttribute('width', width * fig.ratio);\n",
       "                canvas.setAttribute('height', height * fig.ratio);\n",
       "            }\n",
       "            canvas.setAttribute(\n",
       "                'style',\n",
       "                'width: ' + width + 'px; height: ' + height + 'px;'\n",
       "            );\n",
       "\n",
       "            rubberband_canvas.setAttribute('width', width);\n",
       "            rubberband_canvas.setAttribute('height', height);\n",
       "\n",
       "            // And update the size in Python. We ignore the initial 0/0 size\n",
       "            // that occurs as the element is placed into the DOM, which should\n",
       "            // otherwise not happen due to the minimum size styling.\n",
       "            if (fig.ws.readyState == 1 && width != 0 && height != 0) {\n",
       "                fig.request_resize(width, height);\n",
       "            }\n",
       "        }\n",
       "    });\n",
       "    this.resizeObserverInstance.observe(canvas_div);\n",
       "\n",
       "    function on_mouse_event_closure(name) {\n",
       "        return function (event) {\n",
       "            return fig.mouse_event(event, name);\n",
       "        };\n",
       "    }\n",
       "\n",
       "    rubberband_canvas.addEventListener(\n",
       "        'mousedown',\n",
       "        on_mouse_event_closure('button_press')\n",
       "    );\n",
       "    rubberband_canvas.addEventListener(\n",
       "        'mouseup',\n",
       "        on_mouse_event_closure('button_release')\n",
       "    );\n",
       "    // Throttle sequential mouse events to 1 every 20ms.\n",
       "    rubberband_canvas.addEventListener(\n",
       "        'mousemove',\n",
       "        on_mouse_event_closure('motion_notify')\n",
       "    );\n",
       "\n",
       "    rubberband_canvas.addEventListener(\n",
       "        'mouseenter',\n",
       "        on_mouse_event_closure('figure_enter')\n",
       "    );\n",
       "    rubberband_canvas.addEventListener(\n",
       "        'mouseleave',\n",
       "        on_mouse_event_closure('figure_leave')\n",
       "    );\n",
       "\n",
       "    canvas_div.addEventListener('wheel', function (event) {\n",
       "        if (event.deltaY < 0) {\n",
       "            event.step = 1;\n",
       "        } else {\n",
       "            event.step = -1;\n",
       "        }\n",
       "        on_mouse_event_closure('scroll')(event);\n",
       "    });\n",
       "\n",
       "    canvas_div.appendChild(canvas);\n",
       "    canvas_div.appendChild(rubberband_canvas);\n",
       "\n",
       "    this.rubberband_context = rubberband_canvas.getContext('2d');\n",
       "    this.rubberband_context.strokeStyle = '#000000';\n",
       "\n",
       "    this._resize_canvas = function (width, height, forward) {\n",
       "        if (forward) {\n",
       "            canvas_div.style.width = width + 'px';\n",
       "            canvas_div.style.height = height + 'px';\n",
       "        }\n",
       "    };\n",
       "\n",
       "    // Disable right mouse context menu.\n",
       "    this.rubberband_canvas.addEventListener('contextmenu', function (_e) {\n",
       "        event.preventDefault();\n",
       "        return false;\n",
       "    });\n",
       "\n",
       "    function set_focus() {\n",
       "        canvas.focus();\n",
       "        canvas_div.focus();\n",
       "    }\n",
       "\n",
       "    window.setTimeout(set_focus, 100);\n",
       "};\n",
       "\n",
       "mpl.figure.prototype._init_toolbar = function () {\n",
       "    var fig = this;\n",
       "\n",
       "    var toolbar = document.createElement('div');\n",
       "    toolbar.classList = 'mpl-toolbar';\n",
       "    this.root.appendChild(toolbar);\n",
       "\n",
       "    function on_click_closure(name) {\n",
       "        return function (_event) {\n",
       "            return fig.toolbar_button_onclick(name);\n",
       "        };\n",
       "    }\n",
       "\n",
       "    function on_mouseover_closure(tooltip) {\n",
       "        return function (event) {\n",
       "            if (!event.currentTarget.disabled) {\n",
       "                return fig.toolbar_button_onmouseover(tooltip);\n",
       "            }\n",
       "        };\n",
       "    }\n",
       "\n",
       "    fig.buttons = {};\n",
       "    var buttonGroup = document.createElement('div');\n",
       "    buttonGroup.classList = 'mpl-button-group';\n",
       "    for (var toolbar_ind in mpl.toolbar_items) {\n",
       "        var name = mpl.toolbar_items[toolbar_ind][0];\n",
       "        var tooltip = mpl.toolbar_items[toolbar_ind][1];\n",
       "        var image = mpl.toolbar_items[toolbar_ind][2];\n",
       "        var method_name = mpl.toolbar_items[toolbar_ind][3];\n",
       "\n",
       "        if (!name) {\n",
       "            /* Instead of a spacer, we start a new button group. */\n",
       "            if (buttonGroup.hasChildNodes()) {\n",
       "                toolbar.appendChild(buttonGroup);\n",
       "            }\n",
       "            buttonGroup = document.createElement('div');\n",
       "            buttonGroup.classList = 'mpl-button-group';\n",
       "            continue;\n",
       "        }\n",
       "\n",
       "        var button = (fig.buttons[name] = document.createElement('button'));\n",
       "        button.classList = 'mpl-widget';\n",
       "        button.setAttribute('role', 'button');\n",
       "        button.setAttribute('aria-disabled', 'false');\n",
       "        button.addEventListener('click', on_click_closure(method_name));\n",
       "        button.addEventListener('mouseover', on_mouseover_closure(tooltip));\n",
       "\n",
       "        var icon_img = document.createElement('img');\n",
       "        icon_img.src = '_images/' + image + '.png';\n",
       "        icon_img.srcset = '_images/' + image + '_large.png 2x';\n",
       "        icon_img.alt = tooltip;\n",
       "        button.appendChild(icon_img);\n",
       "\n",
       "        buttonGroup.appendChild(button);\n",
       "    }\n",
       "\n",
       "    if (buttonGroup.hasChildNodes()) {\n",
       "        toolbar.appendChild(buttonGroup);\n",
       "    }\n",
       "\n",
       "    var fmt_picker = document.createElement('select');\n",
       "    fmt_picker.classList = 'mpl-widget';\n",
       "    toolbar.appendChild(fmt_picker);\n",
       "    this.format_dropdown = fmt_picker;\n",
       "\n",
       "    for (var ind in mpl.extensions) {\n",
       "        var fmt = mpl.extensions[ind];\n",
       "        var option = document.createElement('option');\n",
       "        option.selected = fmt === mpl.default_extension;\n",
       "        option.innerHTML = fmt;\n",
       "        fmt_picker.appendChild(option);\n",
       "    }\n",
       "\n",
       "    var status_bar = document.createElement('span');\n",
       "    status_bar.classList = 'mpl-message';\n",
       "    toolbar.appendChild(status_bar);\n",
       "    this.message = status_bar;\n",
       "};\n",
       "\n",
       "mpl.figure.prototype.request_resize = function (x_pixels, y_pixels) {\n",
       "    // Request matplotlib to resize the figure. Matplotlib will then trigger a resize in the client,\n",
       "    // which will in turn request a refresh of the image.\n",
       "    this.send_message('resize', { width: x_pixels, height: y_pixels });\n",
       "};\n",
       "\n",
       "mpl.figure.prototype.send_message = function (type, properties) {\n",
       "    properties['type'] = type;\n",
       "    properties['figure_id'] = this.id;\n",
       "    this.ws.send(JSON.stringify(properties));\n",
       "};\n",
       "\n",
       "mpl.figure.prototype.send_draw_message = function () {\n",
       "    if (!this.waiting) {\n",
       "        this.waiting = true;\n",
       "        this.ws.send(JSON.stringify({ type: 'draw', figure_id: this.id }));\n",
       "    }\n",
       "};\n",
       "\n",
       "mpl.figure.prototype.handle_save = function (fig, _msg) {\n",
       "    var format_dropdown = fig.format_dropdown;\n",
       "    var format = format_dropdown.options[format_dropdown.selectedIndex].value;\n",
       "    fig.ondownload(fig, format);\n",
       "};\n",
       "\n",
       "mpl.figure.prototype.handle_resize = function (fig, msg) {\n",
       "    var size = msg['size'];\n",
       "    if (size[0] !== fig.canvas.width || size[1] !== fig.canvas.height) {\n",
       "        fig._resize_canvas(size[0], size[1], msg['forward']);\n",
       "        fig.send_message('refresh', {});\n",
       "    }\n",
       "};\n",
       "\n",
       "mpl.figure.prototype.handle_rubberband = function (fig, msg) {\n",
       "    var x0 = msg['x0'] / fig.ratio;\n",
       "    var y0 = (fig.canvas.height - msg['y0']) / fig.ratio;\n",
       "    var x1 = msg['x1'] / fig.ratio;\n",
       "    var y1 = (fig.canvas.height - msg['y1']) / fig.ratio;\n",
       "    x0 = Math.floor(x0) + 0.5;\n",
       "    y0 = Math.floor(y0) + 0.5;\n",
       "    x1 = Math.floor(x1) + 0.5;\n",
       "    y1 = Math.floor(y1) + 0.5;\n",
       "    var min_x = Math.min(x0, x1);\n",
       "    var min_y = Math.min(y0, y1);\n",
       "    var width = Math.abs(x1 - x0);\n",
       "    var height = Math.abs(y1 - y0);\n",
       "\n",
       "    fig.rubberband_context.clearRect(\n",
       "        0,\n",
       "        0,\n",
       "        fig.canvas.width / fig.ratio,\n",
       "        fig.canvas.height / fig.ratio\n",
       "    );\n",
       "\n",
       "    fig.rubberband_context.strokeRect(min_x, min_y, width, height);\n",
       "};\n",
       "\n",
       "mpl.figure.prototype.handle_figure_label = function (fig, msg) {\n",
       "    // Updates the figure title.\n",
       "    fig.header.textContent = msg['label'];\n",
       "};\n",
       "\n",
       "mpl.figure.prototype.handle_cursor = function (fig, msg) {\n",
       "    var cursor = msg['cursor'];\n",
       "    switch (cursor) {\n",
       "        case 0:\n",
       "            cursor = 'pointer';\n",
       "            break;\n",
       "        case 1:\n",
       "            cursor = 'default';\n",
       "            break;\n",
       "        case 2:\n",
       "            cursor = 'crosshair';\n",
       "            break;\n",
       "        case 3:\n",
       "            cursor = 'move';\n",
       "            break;\n",
       "    }\n",
       "    fig.rubberband_canvas.style.cursor = cursor;\n",
       "};\n",
       "\n",
       "mpl.figure.prototype.handle_message = function (fig, msg) {\n",
       "    fig.message.textContent = msg['message'];\n",
       "};\n",
       "\n",
       "mpl.figure.prototype.handle_draw = function (fig, _msg) {\n",
       "    // Request the server to send over a new figure.\n",
       "    fig.send_draw_message();\n",
       "};\n",
       "\n",
       "mpl.figure.prototype.handle_image_mode = function (fig, msg) {\n",
       "    fig.image_mode = msg['mode'];\n",
       "};\n",
       "\n",
       "mpl.figure.prototype.handle_history_buttons = function (fig, msg) {\n",
       "    for (var key in msg) {\n",
       "        if (!(key in fig.buttons)) {\n",
       "            continue;\n",
       "        }\n",
       "        fig.buttons[key].disabled = !msg[key];\n",
       "        fig.buttons[key].setAttribute('aria-disabled', !msg[key]);\n",
       "    }\n",
       "};\n",
       "\n",
       "mpl.figure.prototype.handle_navigate_mode = function (fig, msg) {\n",
       "    if (msg['mode'] === 'PAN') {\n",
       "        fig.buttons['Pan'].classList.add('active');\n",
       "        fig.buttons['Zoom'].classList.remove('active');\n",
       "    } else if (msg['mode'] === 'ZOOM') {\n",
       "        fig.buttons['Pan'].classList.remove('active');\n",
       "        fig.buttons['Zoom'].classList.add('active');\n",
       "    } else {\n",
       "        fig.buttons['Pan'].classList.remove('active');\n",
       "        fig.buttons['Zoom'].classList.remove('active');\n",
       "    }\n",
       "};\n",
       "\n",
       "mpl.figure.prototype.updated_canvas_event = function () {\n",
       "    // Called whenever the canvas gets updated.\n",
       "    this.send_message('ack', {});\n",
       "};\n",
       "\n",
       "// A function to construct a web socket function for onmessage handling.\n",
       "// Called in the figure constructor.\n",
       "mpl.figure.prototype._make_on_message_function = function (fig) {\n",
       "    return function socket_on_message(evt) {\n",
       "        if (evt.data instanceof Blob) {\n",
       "            /* FIXME: We get \"Resource interpreted as Image but\n",
       "             * transferred with MIME type text/plain:\" errors on\n",
       "             * Chrome.  But how to set the MIME type?  It doesn't seem\n",
       "             * to be part of the websocket stream */\n",
       "            evt.data.type = 'image/png';\n",
       "\n",
       "            /* Free the memory for the previous frames */\n",
       "            if (fig.imageObj.src) {\n",
       "                (window.URL || window.webkitURL).revokeObjectURL(\n",
       "                    fig.imageObj.src\n",
       "                );\n",
       "            }\n",
       "\n",
       "            fig.imageObj.src = (window.URL || window.webkitURL).createObjectURL(\n",
       "                evt.data\n",
       "            );\n",
       "            fig.updated_canvas_event();\n",
       "            fig.waiting = false;\n",
       "            return;\n",
       "        } else if (\n",
       "            typeof evt.data === 'string' &&\n",
       "            evt.data.slice(0, 21) === 'data:image/png;base64'\n",
       "        ) {\n",
       "            fig.imageObj.src = evt.data;\n",
       "            fig.updated_canvas_event();\n",
       "            fig.waiting = false;\n",
       "            return;\n",
       "        }\n",
       "\n",
       "        var msg = JSON.parse(evt.data);\n",
       "        var msg_type = msg['type'];\n",
       "\n",
       "        // Call the  \"handle_{type}\" callback, which takes\n",
       "        // the figure and JSON message as its only arguments.\n",
       "        try {\n",
       "            var callback = fig['handle_' + msg_type];\n",
       "        } catch (e) {\n",
       "            console.log(\n",
       "                \"No handler for the '\" + msg_type + \"' message type: \",\n",
       "                msg\n",
       "            );\n",
       "            return;\n",
       "        }\n",
       "\n",
       "        if (callback) {\n",
       "            try {\n",
       "                // console.log(\"Handling '\" + msg_type + \"' message: \", msg);\n",
       "                callback(fig, msg);\n",
       "            } catch (e) {\n",
       "                console.log(\n",
       "                    \"Exception inside the 'handler_\" + msg_type + \"' callback:\",\n",
       "                    e,\n",
       "                    e.stack,\n",
       "                    msg\n",
       "                );\n",
       "            }\n",
       "        }\n",
       "    };\n",
       "};\n",
       "\n",
       "// from http://stackoverflow.com/questions/1114465/getting-mouse-location-in-canvas\n",
       "mpl.findpos = function (e) {\n",
       "    //this section is from http://www.quirksmode.org/js/events_properties.html\n",
       "    var targ;\n",
       "    if (!e) {\n",
       "        e = window.event;\n",
       "    }\n",
       "    if (e.target) {\n",
       "        targ = e.target;\n",
       "    } else if (e.srcElement) {\n",
       "        targ = e.srcElement;\n",
       "    }\n",
       "    if (targ.nodeType === 3) {\n",
       "        // defeat Safari bug\n",
       "        targ = targ.parentNode;\n",
       "    }\n",
       "\n",
       "    // pageX,Y are the mouse positions relative to the document\n",
       "    var boundingRect = targ.getBoundingClientRect();\n",
       "    var x = e.pageX - (boundingRect.left + document.body.scrollLeft);\n",
       "    var y = e.pageY - (boundingRect.top + document.body.scrollTop);\n",
       "\n",
       "    return { x: x, y: y };\n",
       "};\n",
       "\n",
       "/*\n",
       " * return a copy of an object with only non-object keys\n",
       " * we need this to avoid circular references\n",
       " * http://stackoverflow.com/a/24161582/3208463\n",
       " */\n",
       "function simpleKeys(original) {\n",
       "    return Object.keys(original).reduce(function (obj, key) {\n",
       "        if (typeof original[key] !== 'object') {\n",
       "            obj[key] = original[key];\n",
       "        }\n",
       "        return obj;\n",
       "    }, {});\n",
       "}\n",
       "\n",
       "mpl.figure.prototype.mouse_event = function (event, name) {\n",
       "    var canvas_pos = mpl.findpos(event);\n",
       "\n",
       "    if (name === 'button_press') {\n",
       "        this.canvas.focus();\n",
       "        this.canvas_div.focus();\n",
       "    }\n",
       "\n",
       "    var x = canvas_pos.x * this.ratio;\n",
       "    var y = canvas_pos.y * this.ratio;\n",
       "\n",
       "    this.send_message(name, {\n",
       "        x: x,\n",
       "        y: y,\n",
       "        button: event.button,\n",
       "        step: event.step,\n",
       "        guiEvent: simpleKeys(event),\n",
       "    });\n",
       "\n",
       "    /* This prevents the web browser from automatically changing to\n",
       "     * the text insertion cursor when the button is pressed.  We want\n",
       "     * to control all of the cursor setting manually through the\n",
       "     * 'cursor' event from matplotlib */\n",
       "    event.preventDefault();\n",
       "    return false;\n",
       "};\n",
       "\n",
       "mpl.figure.prototype._key_event_extra = function (_event, _name) {\n",
       "    // Handle any extra behaviour associated with a key event\n",
       "};\n",
       "\n",
       "mpl.figure.prototype.key_event = function (event, name) {\n",
       "    // Prevent repeat events\n",
       "    if (name === 'key_press') {\n",
       "        if (event.which === this._key) {\n",
       "            return;\n",
       "        } else {\n",
       "            this._key = event.which;\n",
       "        }\n",
       "    }\n",
       "    if (name === 'key_release') {\n",
       "        this._key = null;\n",
       "    }\n",
       "\n",
       "    var value = '';\n",
       "    if (event.ctrlKey && event.which !== 17) {\n",
       "        value += 'ctrl+';\n",
       "    }\n",
       "    if (event.altKey && event.which !== 18) {\n",
       "        value += 'alt+';\n",
       "    }\n",
       "    if (event.shiftKey && event.which !== 16) {\n",
       "        value += 'shift+';\n",
       "    }\n",
       "\n",
       "    value += 'k';\n",
       "    value += event.which.toString();\n",
       "\n",
       "    this._key_event_extra(event, name);\n",
       "\n",
       "    this.send_message(name, { key: value, guiEvent: simpleKeys(event) });\n",
       "    return false;\n",
       "};\n",
       "\n",
       "mpl.figure.prototype.toolbar_button_onclick = function (name) {\n",
       "    if (name === 'download') {\n",
       "        this.handle_save(this, null);\n",
       "    } else {\n",
       "        this.send_message('toolbar_button', { name: name });\n",
       "    }\n",
       "};\n",
       "\n",
       "mpl.figure.prototype.toolbar_button_onmouseover = function (tooltip) {\n",
       "    this.message.textContent = tooltip;\n",
       "};\n",
       "\n",
       "///////////////// REMAINING CONTENT GENERATED BY embed_js.py /////////////////\n",
       "// prettier-ignore\n",
       "var _JSXTOOLS_RESIZE_OBSERVER=function(A){var t,i=new WeakMap,n=new WeakMap,a=new WeakMap,r=new WeakMap,o=new Set;function s(e){if(!(this instanceof s))throw new TypeError(\"Constructor requires 'new' operator\");i.set(this,e)}function h(){throw new TypeError(\"Function is not a constructor\")}function c(e,t,i,n){e=0 in arguments?Number(arguments[0]):0,t=1 in arguments?Number(arguments[1]):0,i=2 in arguments?Number(arguments[2]):0,n=3 in arguments?Number(arguments[3]):0,this.right=(this.x=this.left=e)+(this.width=i),this.bottom=(this.y=this.top=t)+(this.height=n),Object.freeze(this)}function d(){t=requestAnimationFrame(d);var s=new WeakMap,p=new Set;o.forEach((function(t){r.get(t).forEach((function(i){var r=t instanceof window.SVGElement,o=a.get(t),d=r?0:parseFloat(o.paddingTop),f=r?0:parseFloat(o.paddingRight),l=r?0:parseFloat(o.paddingBottom),u=r?0:parseFloat(o.paddingLeft),g=r?0:parseFloat(o.borderTopWidth),m=r?0:parseFloat(o.borderRightWidth),w=r?0:parseFloat(o.borderBottomWidth),b=u+f,F=d+l,v=(r?0:parseFloat(o.borderLeftWidth))+m,W=g+w,y=r?0:t.offsetHeight-W-t.clientHeight,E=r?0:t.offsetWidth-v-t.clientWidth,R=b+v,z=F+W,M=r?t.width:parseFloat(o.width)-R-E,O=r?t.height:parseFloat(o.height)-z-y;if(n.has(t)){var k=n.get(t);if(k[0]===M&&k[1]===O)return}n.set(t,[M,O]);var S=Object.create(h.prototype);S.target=t,S.contentRect=new c(u,d,M,O),s.has(i)||(s.set(i,[]),p.add(i)),s.get(i).push(S)}))})),p.forEach((function(e){i.get(e).call(e,s.get(e),e)}))}return s.prototype.observe=function(i){if(i instanceof window.Element){r.has(i)||(r.set(i,new Set),o.add(i),a.set(i,window.getComputedStyle(i)));var n=r.get(i);n.has(this)||n.add(this),cancelAnimationFrame(t),t=requestAnimationFrame(d)}},s.prototype.unobserve=function(i){if(i instanceof window.Element&&r.has(i)){var n=r.get(i);n.has(this)&&(n.delete(this),n.size||(r.delete(i),o.delete(i))),n.size||r.delete(i),o.size||cancelAnimationFrame(t)}},A.DOMRectReadOnly=c,A.ResizeObserver=s,A.ResizeObserverEntry=h,A}; // eslint-disable-line\n",
       "mpl.toolbar_items = [[\"Home\", \"Reset original view\", \"fa fa-home icon-home\", \"home\"], [\"Back\", \"Back to previous view\", \"fa fa-arrow-left icon-arrow-left\", \"back\"], [\"Forward\", \"Forward to next view\", \"fa fa-arrow-right icon-arrow-right\", \"forward\"], [\"\", \"\", \"\", \"\"], [\"Pan\", \"Left button pans, Right button zooms\\nx/y fixes axis, CTRL fixes aspect\", \"fa fa-arrows icon-move\", \"pan\"], [\"Zoom\", \"Zoom to rectangle\\nx/y fixes axis, CTRL fixes aspect\", \"fa fa-square-o icon-check-empty\", \"zoom\"], [\"\", \"\", \"\", \"\"], [\"Download\", \"Download plot\", \"fa fa-floppy-o icon-save\", \"download\"]];\n",
       "\n",
       "mpl.extensions = [\"eps\", \"jpeg\", \"pdf\", \"png\", \"ps\", \"raw\", \"svg\", \"tif\"];\n",
       "\n",
       "mpl.default_extension = \"png\";/* global mpl */\n",
       "\n",
       "var comm_websocket_adapter = function (comm) {\n",
       "    // Create a \"websocket\"-like object which calls the given IPython comm\n",
       "    // object with the appropriate methods. Currently this is a non binary\n",
       "    // socket, so there is still some room for performance tuning.\n",
       "    var ws = {};\n",
       "\n",
       "    ws.close = function () {\n",
       "        comm.close();\n",
       "    };\n",
       "    ws.send = function (m) {\n",
       "        //console.log('sending', m);\n",
       "        comm.send(m);\n",
       "    };\n",
       "    // Register the callback with on_msg.\n",
       "    comm.on_msg(function (msg) {\n",
       "        //console.log('receiving', msg['content']['data'], msg);\n",
       "        // Pass the mpl event to the overridden (by mpl) onmessage function.\n",
       "        ws.onmessage(msg['content']['data']);\n",
       "    });\n",
       "    return ws;\n",
       "};\n",
       "\n",
       "mpl.mpl_figure_comm = function (comm, msg) {\n",
       "    // This is the function which gets called when the mpl process\n",
       "    // starts-up an IPython Comm through the \"matplotlib\" channel.\n",
       "\n",
       "    var id = msg.content.data.id;\n",
       "    // Get hold of the div created by the display call when the Comm\n",
       "    // socket was opened in Python.\n",
       "    var element = document.getElementById(id);\n",
       "    var ws_proxy = comm_websocket_adapter(comm);\n",
       "\n",
       "    function ondownload(figure, _format) {\n",
       "        window.open(figure.canvas.toDataURL());\n",
       "    }\n",
       "\n",
       "    var fig = new mpl.figure(id, ws_proxy, ondownload, element);\n",
       "\n",
       "    // Call onopen now - mpl needs it, as it is assuming we've passed it a real\n",
       "    // web socket which is closed, not our websocket->open comm proxy.\n",
       "    ws_proxy.onopen();\n",
       "\n",
       "    fig.parent_element = element;\n",
       "    fig.cell_info = mpl.find_output_cell(\"<div id='\" + id + \"'></div>\");\n",
       "    if (!fig.cell_info) {\n",
       "        console.error('Failed to find cell for figure', id, fig);\n",
       "        return;\n",
       "    }\n",
       "    fig.cell_info[0].output_area.element.on(\n",
       "        'cleared',\n",
       "        { fig: fig },\n",
       "        fig._remove_fig_handler\n",
       "    );\n",
       "};\n",
       "\n",
       "mpl.figure.prototype.handle_close = function (fig, msg) {\n",
       "    var width = fig.canvas.width / fig.ratio;\n",
       "    fig.cell_info[0].output_area.element.off(\n",
       "        'cleared',\n",
       "        fig._remove_fig_handler\n",
       "    );\n",
       "    fig.resizeObserverInstance.unobserve(fig.canvas_div);\n",
       "\n",
       "    // Update the output cell to use the data from the current canvas.\n",
       "    fig.push_to_output();\n",
       "    var dataURL = fig.canvas.toDataURL();\n",
       "    // Re-enable the keyboard manager in IPython - without this line, in FF,\n",
       "    // the notebook keyboard shortcuts fail.\n",
       "    IPython.keyboard_manager.enable();\n",
       "    fig.parent_element.innerHTML =\n",
       "        '<img src=\"' + dataURL + '\" width=\"' + width + '\">';\n",
       "    fig.close_ws(fig, msg);\n",
       "};\n",
       "\n",
       "mpl.figure.prototype.close_ws = function (fig, msg) {\n",
       "    fig.send_message('closing', msg);\n",
       "    // fig.ws.close()\n",
       "};\n",
       "\n",
       "mpl.figure.prototype.push_to_output = function (_remove_interactive) {\n",
       "    // Turn the data on the canvas into data in the output cell.\n",
       "    var width = this.canvas.width / this.ratio;\n",
       "    var dataURL = this.canvas.toDataURL();\n",
       "    this.cell_info[1]['text/html'] =\n",
       "        '<img src=\"' + dataURL + '\" width=\"' + width + '\">';\n",
       "};\n",
       "\n",
       "mpl.figure.prototype.updated_canvas_event = function () {\n",
       "    // Tell IPython that the notebook contents must change.\n",
       "    IPython.notebook.set_dirty(true);\n",
       "    this.send_message('ack', {});\n",
       "    var fig = this;\n",
       "    // Wait a second, then push the new image to the DOM so\n",
       "    // that it is saved nicely (might be nice to debounce this).\n",
       "    setTimeout(function () {\n",
       "        fig.push_to_output();\n",
       "    }, 1000);\n",
       "};\n",
       "\n",
       "mpl.figure.prototype._init_toolbar = function () {\n",
       "    var fig = this;\n",
       "\n",
       "    var toolbar = document.createElement('div');\n",
       "    toolbar.classList = 'btn-toolbar';\n",
       "    this.root.appendChild(toolbar);\n",
       "\n",
       "    function on_click_closure(name) {\n",
       "        return function (_event) {\n",
       "            return fig.toolbar_button_onclick(name);\n",
       "        };\n",
       "    }\n",
       "\n",
       "    function on_mouseover_closure(tooltip) {\n",
       "        return function (event) {\n",
       "            if (!event.currentTarget.disabled) {\n",
       "                return fig.toolbar_button_onmouseover(tooltip);\n",
       "            }\n",
       "        };\n",
       "    }\n",
       "\n",
       "    fig.buttons = {};\n",
       "    var buttonGroup = document.createElement('div');\n",
       "    buttonGroup.classList = 'btn-group';\n",
       "    var button;\n",
       "    for (var toolbar_ind in mpl.toolbar_items) {\n",
       "        var name = mpl.toolbar_items[toolbar_ind][0];\n",
       "        var tooltip = mpl.toolbar_items[toolbar_ind][1];\n",
       "        var image = mpl.toolbar_items[toolbar_ind][2];\n",
       "        var method_name = mpl.toolbar_items[toolbar_ind][3];\n",
       "\n",
       "        if (!name) {\n",
       "            /* Instead of a spacer, we start a new button group. */\n",
       "            if (buttonGroup.hasChildNodes()) {\n",
       "                toolbar.appendChild(buttonGroup);\n",
       "            }\n",
       "            buttonGroup = document.createElement('div');\n",
       "            buttonGroup.classList = 'btn-group';\n",
       "            continue;\n",
       "        }\n",
       "\n",
       "        button = fig.buttons[name] = document.createElement('button');\n",
       "        button.classList = 'btn btn-default';\n",
       "        button.href = '#';\n",
       "        button.title = name;\n",
       "        button.innerHTML = '<i class=\"fa ' + image + ' fa-lg\"></i>';\n",
       "        button.addEventListener('click', on_click_closure(method_name));\n",
       "        button.addEventListener('mouseover', on_mouseover_closure(tooltip));\n",
       "        buttonGroup.appendChild(button);\n",
       "    }\n",
       "\n",
       "    if (buttonGroup.hasChildNodes()) {\n",
       "        toolbar.appendChild(buttonGroup);\n",
       "    }\n",
       "\n",
       "    // Add the status bar.\n",
       "    var status_bar = document.createElement('span');\n",
       "    status_bar.classList = 'mpl-message pull-right';\n",
       "    toolbar.appendChild(status_bar);\n",
       "    this.message = status_bar;\n",
       "\n",
       "    // Add the close button to the window.\n",
       "    var buttongrp = document.createElement('div');\n",
       "    buttongrp.classList = 'btn-group inline pull-right';\n",
       "    button = document.createElement('button');\n",
       "    button.classList = 'btn btn-mini btn-primary';\n",
       "    button.href = '#';\n",
       "    button.title = 'Stop Interaction';\n",
       "    button.innerHTML = '<i class=\"fa fa-power-off icon-remove icon-large\"></i>';\n",
       "    button.addEventListener('click', function (_evt) {\n",
       "        fig.handle_close(fig, {});\n",
       "    });\n",
       "    button.addEventListener(\n",
       "        'mouseover',\n",
       "        on_mouseover_closure('Stop Interaction')\n",
       "    );\n",
       "    buttongrp.appendChild(button);\n",
       "    var titlebar = this.root.querySelector('.ui-dialog-titlebar');\n",
       "    titlebar.insertBefore(buttongrp, titlebar.firstChild);\n",
       "};\n",
       "\n",
       "mpl.figure.prototype._remove_fig_handler = function (event) {\n",
       "    var fig = event.data.fig;\n",
       "    if (event.target !== this) {\n",
       "        // Ignore bubbled events from children.\n",
       "        return;\n",
       "    }\n",
       "    fig.close_ws(fig, {});\n",
       "};\n",
       "\n",
       "mpl.figure.prototype._root_extra_style = function (el) {\n",
       "    el.style.boxSizing = 'content-box'; // override notebook setting of border-box.\n",
       "};\n",
       "\n",
       "mpl.figure.prototype._canvas_extra_style = function (el) {\n",
       "    // this is important to make the div 'focusable\n",
       "    el.setAttribute('tabindex', 0);\n",
       "    // reach out to IPython and tell the keyboard manager to turn it's self\n",
       "    // off when our div gets focus\n",
       "\n",
       "    // location in version 3\n",
       "    if (IPython.notebook.keyboard_manager) {\n",
       "        IPython.notebook.keyboard_manager.register_events(el);\n",
       "    } else {\n",
       "        // location in version 2\n",
       "        IPython.keyboard_manager.register_events(el);\n",
       "    }\n",
       "};\n",
       "\n",
       "mpl.figure.prototype._key_event_extra = function (event, _name) {\n",
       "    var manager = IPython.notebook.keyboard_manager;\n",
       "    if (!manager) {\n",
       "        manager = IPython.keyboard_manager;\n",
       "    }\n",
       "\n",
       "    // Check for shift+enter\n",
       "    if (event.shiftKey && event.which === 13) {\n",
       "        this.canvas_div.blur();\n",
       "        // select the cell after this one\n",
       "        var index = IPython.notebook.find_cell_index(this.cell_info[0]);\n",
       "        IPython.notebook.select(index + 1);\n",
       "    }\n",
       "};\n",
       "\n",
       "mpl.figure.prototype.handle_save = function (fig, _msg) {\n",
       "    fig.ondownload(fig, null);\n",
       "};\n",
       "\n",
       "mpl.find_output_cell = function (html_output) {\n",
       "    // Return the cell and output element which can be found *uniquely* in the notebook.\n",
       "    // Note - this is a bit hacky, but it is done because the \"notebook_saving.Notebook\"\n",
       "    // IPython event is triggered only after the cells have been serialised, which for\n",
       "    // our purposes (turning an active figure into a static one), is too late.\n",
       "    var cells = IPython.notebook.get_cells();\n",
       "    var ncells = cells.length;\n",
       "    for (var i = 0; i < ncells; i++) {\n",
       "        var cell = cells[i];\n",
       "        if (cell.cell_type === 'code') {\n",
       "            for (var j = 0; j < cell.output_area.outputs.length; j++) {\n",
       "                var data = cell.output_area.outputs[j];\n",
       "                if (data.data) {\n",
       "                    // IPython >= 3 moved mimebundle to data attribute of output\n",
       "                    data = data.data;\n",
       "                }\n",
       "                if (data['text/html'] === html_output) {\n",
       "                    return [cell, data, j];\n",
       "                }\n",
       "            }\n",
       "        }\n",
       "    }\n",
       "};\n",
       "\n",
       "// Register the function which deals with the matplotlib target/channel.\n",
       "// The kernel may be null if the page has been refreshed.\n",
       "if (IPython.notebook.kernel !== null) {\n",
       "    IPython.notebook.kernel.comm_manager.register_target(\n",
       "        'matplotlib',\n",
       "        mpl.mpl_figure_comm\n",
       "    );\n",
       "}\n"
      ],
      "text/plain": [
       "<IPython.core.display.Javascript object>"
      ]
     },
     "metadata": {},
     "output_type": "display_data"
    },
    {
     "data": {
      "text/html": [
       "<img src=\"data:image/png;base64,iVBORw0KGgoAAAANSUhEUgAAAoAAAAHgCAYAAAA10dzkAAAgAElEQVR4nO3df4zVd4H/+0/BYYCKkwVrZ4CU7q6tbVrBrY2r99vAgvwwK9CN8Rsut13aKL+qo+Vm87XV5jLxrsUhN+r+sTZE1+26V7ZwV+hmXRtWILUmtLZrpk0PNtYW2zLONGlcHKiRg9J53T8azno6g0v7KaUfPo9H8vzDcz4z58w7XXgxM+dsEQAAaqU4108AAIA3lgEIAFAzBiAAQM0YgAAANWMAAgDUjAEIAFAzBiAAQM0YgAAANWMAAgDUjAEIAFAzBiAAQM0YgAAANWMAAgDUjAEIAFAzBiAAQM0YgAAANWMAAgDUjAEIAFAzBiAAQM0YgAAANWMAAgDUjAEIAFAzBiAAQM0YgAAANWMAAgDUjAEIAFAzBiAAQM0YgAAANWMAAgDUjAEIAFAzBiAAQM0YgAAANWMAAgDUjAEIAFAzBiAAQM0YgAAANWMAAgDUjAEIAFAzBiAAQM0YgAAANWMAAgDUjAEIAFAzBiAAQM0YgAAANWMAAgDUjAEIAFAzBiAAQM0YgAAANWMAAgDUjAEIAFAzBiAAQM0YgAAANWMAAgDUjAEIAFAzBiAAQM0YgAAANWMAAgDUjAEIAFAzBiAAQM0YgAAANWMAAgDUjAEIAFAzBiAAQM0YgAAANWMAAgDUjAEIAFAzBiAAQM0YgAAANWMAAgDUjAEIAFAzBiAAQM0YgAAANWMAAgDUjAEIAFAzBiAAQM0YgAAANWMAAgDUjAEIAFAzBiAAQM0YgAAANWMAAgDUjAEIAFAzBiAAQM0YgAAANWMAAgDUjAEIAFAzBiAAQM0YgAAANWMAAgDUjAEIAFAzBiAAQM0YgAAANWMAAgDUjAEIAFAzBiAAQM0YgAAANWMAAgDUjAEIAFAzBiAAQM0YgAAANWMAAgDUjAEIAFAzBiAAQM0YgAAANWMAAgDUjAEIAFAzBiAAQM0YgAAANWMAAgDUjAEIAFAzBiAAQM0YgAAANWMAAgDUTO0H4Fe/+tVceuml6ezszDXXXJMf/OAH5/opAQCcVbUegDt27EhHR0e+/vWv54knnsitt96aCy+8MM8999y5fmoAAGdNrQfg+973vmzcuLHttiuuuCK33377OXpGAABnX20H4IkTJzJx4sTs3r277fZPf/rTmT9//rgf02w2c/To0Va//OUvc+jQoYyMjLTdLkmS3ryNjIxkcHAwL7300hsxOd6UajsAh4aGUhRFDhw40Hb7nXfemcsvv3zcj+nr60tRFJIk6TxocHDwjZgcb0q1H4APPvhg2+1f+MIX8q53vWvcj3nldwAPHz6coihyXfHn+bPiekmSVIGuK/48RVFkZGTkjZgcb0q1HYCv5UfAr3T06NEURZE/K67P4gs+KkmSKtCfFdenKIocPXr0bEyMSqjtAExefhHILbfc0nbblVdeecYvAjEAJUmqXgZgzQfgqbeB+cY3vpEnnngimzZtyoUXXphnn332jD7eAJQkqXoZgDUfgMnLbwQ9Z86cTJo0Kddcc00eeOCBM/5YA1CSpOplABqApRiAkiRVLwPQACzFAJQkqXoZgAZgKQagJEnVywA0AEsxACVJql4GoAFYigEoSVL1MgANwFIMQEmSqpcBaACWYgBKklS9DEADsBQDUJKk6mUAGoClGICSJFUvA9AALMUAlCSpehmABmApBqAkSdXLADQASzEAJUmqXgagAViKAShJUvUyAA3AUgxASZKqlwFoAJZiAEqSVL0MQAOwFANQkqTqZQAagKUYgJIkVS8D0AAsxQCUJKl6GYAGYCkGoCRJ1csANABLMQAlSapeBqABWIoBKElS9TIADcBSDEBJkqqXAWgAlmIASpJUvQxAA7AUA1CSpOplAFZ0AD7wwANZvnx5enp6UhRF7r333rb7R0dH09fXl56enkyePDkLFizIwYMH265pNpvp7e3NjBkzMnXq1KxYsSKDg4Ov6nkYgJIkVS8DsKID8L777ssdd9yRXbt2jTsA+/v7M23atOzatSuNRiOrVq1KT09Pjh071rpm48aNmTVrVvbu3ZuBgYEsXLgw8+bNy8mTJ8/4eRiAkiRVLwOwogPwd71yAI6Ojqa7uzv9/f2t25rNZrq6urJt27YkycjISDo6OrJjx47WNUNDQ5kwYUL27Nlzxo9tAEqSVL0MwPNwAB46dChFUWRgYKDtupUrV2bNmjVJkv3796coihw5cqTtmrlz52bz5s1n/NgGoCRJ1csAPA8H4IEDB1IURYaGhtquW7duXZYuXZok2b59eyZNmjTmcy1ZsiTr168/7WM1m80cPXq01eDgoAEoSVLFMgDP4wE4PDzcdt3atWuzbNmyJKcfgIsXL86GDRtO+1h9fX0pimJMBqAkSdXJADwPB+DZ/BGw7wBKklT9DMDzcACeehHI1q1bW7edOHFi3BeB7Ny5s3XN8PCwF4FIklSDDMCKDsAXX3wxjz76aB599NEURZEvf/nLefTRR/Pcc88lefltYLq6urJ79+40Go2sXr163LeBmT17dvbt25eBgYEsWrTI28BIklSDDMCKDsD7779/3N/Fu+mmm5L81xtBd3d3p7OzM/Pnz0+j0Wj7HMePH09vb2+mT5+eKVOmZPny5Tl8+PCreh4GoCRJ1csArOgAfLMwACVJql4GoAFYigEoSVL1MgANwFIMQEmSqpcBaACWYgBKklS9DEADsBQDUKpwE/5nFk9c9XIT/md9HluSARgDsBQDUKpuf9z/pdz88M25+eGb887/7//Oko7/vRaPLckATAzAUgxAqbpd/u3P56Xn35mXnn9nNj++Mksm31CLx5ZkACYGYCkGoFTdDECpvhmABmApBqBU3d71f305/+N7/yv/43v/K5f83dY39Mew5/KxJRmAiQFYigEoSVL1MgANwFIMQEmSqpcBaACWYgBKklS9DEADsBQDUJKk6mUAGoClGICSJFUvA9AALMUAlCSpehmABmApBqAkSdXLADQASzEAJUmqXgagAViKAShJUvUyAA3AUgxASZKqlwFoAJZiAEqSVL0MQAOwFANQkqTqZQAagKUYgJIkVS8D0AAsxQCUJKl6GYAGYCkGoCRJ1csANABLMQAlSapeBmBFB+CWLVty7bXX5q1vfWsuuuiiXH/99fnJT37Sds3o6Gj6+vrS09OTyZMnZ8GCBTl48GDbNc1mM729vZkxY0amTp2aFStWZHBw8IyfhwEoVbdl3Z/Isss/k2WXfyYfuvT/rM1jSzIAk4oOwGXLluXuu+/OwYMH89hjj+XDH/5wLrnkkvzqV79qXdPf359p06Zl165daTQaWbVqVXp6enLs2LHWNRs3bsysWbOyd+/eDAwMZOHChZk3b15Onjx5Rs/DAJSq25z/d0sOPjczB5+bmZsfvjlLJv0ftXhsSQZgUtEB+EovvPBCiqLIAw88kOTl7/51d3env7+/dU2z2UxXV1e2bduWJBkZGUlHR0d27NjRumZoaCgTJkzInj17zuhxDUCpul3+7c/npeffmZeef2c2P74ySybfUIvHlmQAJufJAHzqqadSFEUajUaS5NChQymKIgMDA23XrVy5MmvWrEmS7N+/P0VR5MiRI23XzJ07N5s3bx73cZrNZo4ePdpqcHDQAJQqmgEo1TcD8DwYgKOjo1mxYkWuu+661m0HDhxIURQZGhpqu3bdunVZunRpkmT79u2ZNGnSmM+3ZMmSrF+/ftzH6uvrS1EUYzIAper1v33k/8kVn/tyrvjcl/Mn67+UxRNX1eKxJRmAyXkwAD/xiU9kzpw5bS/eODUAh4eH265du3Ztli1bluT0A3Dx4sXZsGHDuI/lO4CSJFU/A7DiA7C3tzezZ8/Oz372s7bbz9aPgF/J7wBKklS9DMCKDsDR0dF88pOfzMyZM/PTn/503Pu7u7uzdevW1m0nTpwY90UgO3fubF0zPDzsRSCSJJ3nGYAVHYC33HJLurq68v3vfz/PP/98q1//+teta/r7+9PV1ZXdu3en0Whk9erV474NzOzZs7Nv374MDAxk0aJF3gZGkqTzPAOwogNwvBdiFEWRu+++u3XNqTeC7u7uTmdnZ+bPn996lfApx48fT29vb6ZPn54pU6Zk+fLlOXz48Bk/DwNQkqTqZQBWdAC+WRiAkiRVLwPQACzFAJQkqXoZgAZgKQagJEnVywA0AEsxACVJql4GoAFYigEoSVL1MgANwFIMQEmSqpcBaACWYgBKklS9DEADsBQDUJKk6mUAGoClGICSJFUvA9AALMUAlCSpehmABmApBqAkSdXLADQASzEAJUmqXgagAViKAShJUvUyAA3AUgxASZKqlwFoAJZiAEqSVL0MQAOwFANQkqTqZQAagKUYgJIkVS8D0AAsxQCUJKl6GYAGYCkGoCRJ1csANABLMQAlSapeBqABWIoBKElS9TIADcBSDEBJkqqXAWgAlmIASpJUvQxAA7AUA1CSpOplAFZ0AN51111597vfnWnTpmXatGl5//vfn/vuu691/+joaPr6+tLT05PJkydnwYIFOXjwYNvnaDab6e3tzYwZMzJ16tSsWLEig4ODr+p5GICSJFUvA7CiA/Bf//Vf893vfjdPPvlknnzyyXzuc59LR0dHa+T19/dn2rRp2bVrVxqNRlatWpWenp4cO3as9Tk2btyYWbNmZe/evRkYGMjChQszb968nDx58oyfhwEoSVL1MgArOgDH8wd/8Af5u7/7u4yOjqa7uzv9/f2t+5rNZrq6urJt27YkycjISDo6OrJjx47WNUNDQ5kwYUL27Nlzxo9pAEqSVL0MwPNgAJ48eTL33HNPJk2alB//+Mc5dOhQiqLIwMBA23UrV67MmjVrkiT79+9PURQ5cuRI2zVz587N5s2bz/ixDUBJkqqXAVjhAfj444/nwgsvzMSJE9PV1ZXvfve7SZIDBw6kKIoMDQ21Xb9u3bosXbo0SbJ9+/ZMmjRpzOdcsmRJ1q9ff9rHbDabOXr0aKvBwUEDUJKkimUAVngAnjhxIk899VT+4z/+I7fffnve/va358c//nFrAA4PD7ddv3bt2ixbtizJ6Qfg4sWLs2HDhtM+Zl9fX4qiGJMBKElSdTIAKzwAX+mDH/xg1q9ff1Z/BOw7gJIkVT8D8DwagIsWLcpNN93UehHI1q1bW/edOHFi3BeB7Ny5s3XN8PCwF4FIklSDDMCKDsDPfvaz+cEPfpBnnnkmjz/+eD73uc9lwoQJ+d73vpfk5beB6erqyu7du9NoNLJ69epx3wZm9uzZ2bdvXwYGBrJo0SJvAyNJUg0yACs6AD/2sY9lzpw5mTRpUi666KJ88IMfbI2/5L/eCLq7uzudnZ2ZP39+Go1G2+c4fvx4ent7M3369EyZMiXLly/P4cOHX9XzMAAlSapeBmBFB+CbhQEoSVL1MgANwFIMQEmSqpcBaACWYgBKklS9DEADsBQDUJKk6mUAGoClGICSJFUvA9AALMUAlCSpehmABmApBqAkSdXLADQASzEAJUmqXgagAViKAShJUvUyAA3AUgxASZKqlwFoAJZiAEqSVL0MQAOwFANQkqTqZQAagKUYgJIkVS8D0AAsxQCUJKl6GYAGYCkGoCRJ1csANABLMQAlSapeBqABWIoBKElS9TIADcBSDEBJkqqXAWgAlmIASpJUvQxAA7AUA1CSpOplABqApRiAkiRVLwPQACzFAJQkqXoZgAZgKQagJEnVywA0AEsxACVJql4GoAFYigEoSVL1MgDPgwG4ZcuWFEWRW2+9tXXb6Oho+vr60tPTk8mTJ2fBggU5ePBg28c1m8309vZmxowZmTp1alasWJHBwcFX9dgGoCRJ1csArPgAfOSRR3LppZdm7ty5bQOwv78/06ZNy65du9JoNLJq1ar09PTk2LFjrWs2btyYWbNmZe/evRkYGMjChQszb968nDx58owf3wCUJKl6GYAVHoAvvvhiLrvssuzduzcLFixoDcDR0dF0d3env7+/dW2z2UxXV1e2bduWJBkZGUlHR0d27NjRumZoaCgTJkzInj17zvg5GICSJFUvA7DCA3DNmjXZtGlTkrQNwEOHDqUoigwMDLRdv3LlyqxZsyZJsn///hRFkSNHjrRdM3fu3GzevPm0j9lsNnP06NFWg4ODBqAkSRXLAKzoALznnnty1VVX5fjx40naB+CBAwdSFEWGhobaPmbdunVZunRpkmT79u2ZNGnSmM+7ZMmSrF+//rSP29fXl6IoxmQASpJUnQzACg7Aw4cP5x3veEcee+yx1m3jDcDh4eG2j1u7dm2WLVuW5PQDcPHixdmwYcNpH9t3ACVJqn4GYAUH4L333puiKDJx4sRWRVHkggsuyMSJE/P000+ftR8Bv5LfAZQkqXoZgBUcgMeOHUuj0Wjr2muvzY033phGo9F6EcjWrVtbH3PixIlxXwSyc+fO1jXDw8NeBCJJUg0yACs4AMfzuz8CTl5+G5iurq7s3r07jUYjq1evHvdtYGbPnp19+/ZlYGAgixYt8jYwkiTVIAPwPB2Ap94Iuru7O52dnZk/f34ajUbbxxw/fjy9vb2ZPn16pkyZkuXLl+fw4cOv6nENQEmSqpcBeJ4MwHPFAJQkqXoZgAZgKQagJEnVywA0AEsxACVJql4GoAFYigEoSVL1MgANwFIMQEmSqpcBaACWYgBKklS9DEADsBQDUJKk6mUAGoClGICSJFUvA9AALMUAlCSpehmABmApBqAkSdXLADQASzEAJUmqXgagAViKAShJUvUyAA3AUgxASZKqlwFoAJZiAEqSVL0MQAOwFANQkqTqZQAagKUYgJIkVS8D0AAsxQCUJKl6GYAGYCkGoCRJ1csANABLMQAlSapeBqABWIoBKElS9TIADcBSDEBJkqqXAWgAlmIASpJUvQxAA7AUA1CSpOplABqApRiAkiRVLwOwogOwr68vRVG0dfHFF7fuHx0dTV9fX3p6ejJ58uQsWLAgBw8ebPsczWYzvb29mTFjRqZOnZoVK1ZkcHDwVT0PA1CSpOplAFZ4AF511VV5/vnnW73wwgut+/v7+zNt2rTs2rUrjUYjq1atSk9PT44dO9a6ZuPGjZk1a1b27t2bgYGBLFy4MPPmzcvJkyfP+HkYgJIkVS8DsMIDcN68eePeNzo6mu7u7vT397duazab6erqyrZt25IkIyMj6ejoyI4dO1rXDA0NZcKECdmzZ88ZPw8DUJKk6mUAVngATp06NT09Pbn00kuzatWqHDp0KEly6NChFEWRgYGBto9ZuXJl1qxZkyTZv39/iqLIkSNH2q6ZO3duNm/efMbPwwCUJKl6GYAVHYD33Xdfvv3tb+fxxx/P3r17s2DBglx88cX5xS9+kQMHDqQoigwNDbV9zLp167J06dIkyfbt2zNp0qQxn3fJkiVZv379aR+32Wzm6NGjrQYHBw1ASZIqlgFY0QH4Sr/61a9y8cUX50tf+lJrAA4PD7dds3bt2ixbtizJ6Qfg4sWLs2HDhtM+zngvPjEAJUmqVgbgeTIAk5fH28aNG8/qj4B9B1CSpOpnAJ4nA7DZbGbWrFn5/Oc/33oRyNatW1v3nzhxYtwXgezcubN1zfDwsBeBSJJUgwzAig7Av/qrv8r3v//9/OxnP8sPf/jDLF++PNOmTcuzzz6b5OW3genq6sru3bvTaDSyevXqcd8GZvbs2dm3b18GBgayaNEibwMjSVINMgArOgBPva9fR0dHZs6cmY985CP58Y9/3Lr/1BtBd3d3p7OzM/Pnz0+j0Wj7HMePH09vb2+mT5+eKVOmZPny5Tl8+PCreh4GoCRJ1csArOgAfLMwACVJql4GoAFYigEoSVL1MgANwFIMQEmSqpcBaACWYgBKklS9DEADsBQDUJKk6mUAGoClGICSJFUvA9AALMUAlCSpehmABmApBqAkSdXLADQASzEAJUmqXgagAViKAShJUvUyAA3AUgxASZKqlwFoAJZiAEqSVL0MQAOwFANQkqTqZQAagKUYgJIkVS8D0AAsxQCUJKl6GYAGYCkGoCRJ1csANABLMQAlSapeBqABWIoBKElS9TIADcBSDEBJkqqXAWgAlmIASpJUvQxAA7AUA1CSpOplABqApRiAkiRVLwPQACzFAJQkqXoZgAZgKQagJEnVywA0AEsxACVJql4GYIUH4M9//vPccMMNmT59eqZMmZJ58+blRz/6Uev+0dHR9PX1paenJ5MnT86CBQty8ODBts/RbDbT29ubGTNmZOrUqVmxYkUGBwfP+DkYgJIkVS8DsKID8MiRI5kzZ05uvvnmPPzww3nmmWeyb9++PP30061r+vv7M23atOzatSuNRiOrVq1KT09Pjh071rpm48aNmTVrVvbu3ZuBgYEsXLgw8+bNy8mTJ8/oeRiAkiRVLwOwogPwtttuy3XXXXfa+0dHR9Pd3Z3+/v7Wbc1mM11dXdm2bVuSZGRkJB0dHdmxY0frmqGhoUyYMCF79uw5o+dhAEqSVL0MwIoOwCuvvDKbNm3KRz/60Vx00UV5z3vek6997Wut+w8dOpSiKDIwMND2cStXrsyaNWuSJPv3709RFDly5EjbNXPnzs3mzZvHfdxms5mjR4+2GhwcNAAlSapYBmBFB2BnZ2c6Ozvz2c9+NgMDA9m2bVsmT56cb37zm0mSAwcOpCiKDA0NtX3cunXrsnTp0iTJ9u3bM2nSpDGfe8mSJVm/fv24j9vX15eiKMZkAEqSVJ0MwIoOwI6OjnzgAx9ou+1Tn/pU3v/+9yf5rwE4PDzcds3atWuzbNmyJKcfgIsXL86GDRvGfVzfAZQkqfoZgBUdgJdcckk+/vGPt9121113ZebMmUnO3o+AX8nvAEqSVL0MwIoOwNWrV495EcimTZta3xU89SKQrVu3tu4/ceLEuC8C2blzZ+ua4eFhLwKRJOk8zwCs6AB85JFH8pa3vCV33nlnnnrqqWzfvj1Tp07Nt771rdY1/f396erqyu7du9NoNLJ69epx3wZm9uzZ2bdvXwYGBrJo0SJvAyNJ0nmeAVjRAZgk3/nOd3L11Vens7MzV1xxRdurgJP/eiPo7u7udHZ2Zv78+Wk0Gm3XHD9+PL29va03k16+fHkOHz58xs/BAJQkqXoZgBUegG8GBqAkSdXLADQASzEAJUmqXgagAViKAShJUvUyAA3AUgxASZKqlwFoAJZiAEqSVL0MQAOwFANQkqTqZQAagKUYgJIkVS8D0AAsxQCUJKl6GYAGYCkGoCRJ1csANABLMQAlSapeBqABWIoBKElS9TIADcBSDEBJkqqXAWgAlmIASpJUvQxAA7AUA1CSpOplABqApRiAkiRVLwPQACzFAJQkqXoZgAZgKQagJEnVywA0AEsxACVJql4GoAFYigEoSVL1MgANwFIMQEmSqpcBaACWYgBKklS9DEADsBQDUJKk6mUAGoClGICSJFUvA9AALMUAlCSpehmAFR2Ac+bMSVEUY/rEJz6RJBkdHU1fX196enoyefLkLFiwIAcPHmz7HM1mM729vZkxY0amTp2aFStWZHBw8FU9DwNQkqTqZQBWdAC+8MILef7551vt3bs3RVHk/vvvT5L09/dn2rRp2bVrVxqNRlatWpWenp4cO3as9Tk2btyYWbNmZe/evRkYGMjChQszb968nDx58oyfhwEoSVL1MgArOgBf6dZbb80f//EfZ3R0NKOjo+nu7k5/f3/r/mazma6urmzbti1JMjIyko6OjuzYsaN1zdDQUCZMmJA9e/ac8eMagJIkVS8D8DwYgCdOnMiMGTNy5513JkkOHTqUoigyMDDQdt3KlSuzZs2aJMn+/ftTFEWOHDnSds3cuXOzefPmM35sA1CSpOplAJ4HA3Dnzp2ZOHFihoaGkiQHDhxIURSt/33KunXrsnTp0iTJ9u3bM2nSpDGfa8mSJVm/fv1pH6vZbObo0aOtBgcHDUBJkiqWAXgeDMClS5dm+fLlrf99agAODw+3Xbd27dosW7YsyekH4OLFi7Nhw4bTPlZfX9+4Lz4xACVJqk4GYMUH4LPPPpsJEybkX/7lX1q3nc0fAfsOoCRJ1c8ArPgA7OvrS3d3d37729+2bjv1IpCtW7e2bjtx4sS4LwLZuXNn65rh4WEvApEkqQYZgBUegC+99FIuueSS3HbbbWPu6+/vT1dXV3bv3p1Go5HVq1eP+zYws2fPzr59+zIwMJBFixZ5GxhJkmqQAVjhAfjv//7vKYoiTz755Jj7Tr0RdHd3dzo7OzN//vw0Go22a44fP57e3t5Mnz49U6ZMyfLly3P48OFX9RwMQEmSqpcBWOEB+GZgAEqSVL0MQAOwlJGRkRRFkeuKP8+fFddLkqQKdF3x5ymKIiMjI+d6SpwzBmAJp15xLEmSqtfg4OC5nhLnjAFYwi9/+csURZHDhw+3vT1MnTv11jiDg4Pn/Lm8WXImzsSZOBNn8uY6j5GRkQwODuall14611PinDEASzh69OXfATx6tL6/Q/BKzmQsZzKWMxnLmYzlTMZyJu2cx2tnAJbgP7yxnMlYzmQsZzKWMxnLmYzlTNo5j9fOACzBf3hjOZOxnMlYzmQsZzKWMxnLmbRzHq+dAVhCs9lMX19fms3muX4qbxrOZCxnMpYzGcuZjOVMxnIm7ZzHa2cAAgDUjAEIAFAzBiAAQM0YgAAANWMAlvDVr341l156aTo7O3PNNdfkBz/4wbl+SmfFli1bcu211+atb31rLrroolx//fX5yU9+0nbN6Oho+vr60tPTk8mTJ2fBggU5ePBg2zXNZjO9vb2ZMWNGpk6dmhUrVpwX78K+ZcuWFEWRW2+9tXVbXc/j5z//eW644YZMnz49U6ZMybx58/KjH/2odX+dzuW3v/1t7rjjjlx66aWZPHly/vAP/zCf//zn29549nw/jwceeCDLly9PT09PiqLIvffe23b/6/X1HzlyJDfeeGPe9ra35W1ve+QzA3UAAAoOSURBVFtuvPHG/PKXvzzrX99r8fvO5De/+U0+85nP5Oqrr87UqVPT09OTv/zLv8zQ0FDb56jTmbzS+vXrUxRFvvKVr7Tdfr6dyRvBAHyNduzYkY6Ojnz961/PE088kVtvvTUXXnhhnnvuuXP91F53y5Yty913352DBw/msccey4c//OFccskl+dWvftW6pr+/P9OmTcuuXbvSaDSyatWq9PT05NixY61rNm7cmFmzZmXv3r0ZGBjIwoULM2/evJw8efJcfFmvi0ceeSSXXnpp5s6d2zYA63geR44cyZw5c3LzzTfn4YcfzjPPPJN9+/bl6aefbl1Tp3P5whe+kBkzZuTf/u3f8swzz+Sf//mf89a3vjV/8zd/07rmfD+P++67L3fccUd27do17l/sr9fX/6EPfShXX311HnzwwTz44IO5+uqrs3z58jfs63w1ft+ZjIyMZPHixdm5c2d+8pOf5KGHHsqf/umf5r3vfW/b56jTmfyue++9N/PmzcvMmTPHDMDz7UzeCAbga/S+970vGzdubLvtiiuuyO23336OntEb54UXXkhRFHnggQeSvPyv+O7u7vT397euaTab6erqyrZt25K8/AdbR0dHduzY0bpmaGgoEyZMyJ49e97YL+B18uKLL+ayyy7L3r17s2DBgtYArOt53HbbbbnuuutOe3/dzuXDH/5wPvaxj7Xd9pGPfCQ33nhjkvqdxyv/Yn+9vv4nnngiRVHkhz/8Yeuahx56KEVRjPlJxZvNf/fdruTlf2QWRdH65kJdz+TnP/95Zs2alYMHD2bOnDltA/B8P5OzxQB8DU6cOJGJEydm9+7dbbd/+tOfzvz588/Rs3rjPPXUUymKIo1GI0ly6NChFEWRgYGBtutWrlyZNWvWJEn279+foihy5MiRtmvmzp2bzZs3vzFP/HW2Zs2abNq0KUnaBmBdz+PKK6/Mpk2b8tGPfjQXXXRR3vOe9+RrX/ta6/66ncsXv/jFzJkzJ08++WSS5LHHHss73vGO/NM//VOS+p3HK/9if72+/m984xvp6uoa83hdXV35+7//+9f7y3hdnckA3Lt3by644ILWGx3X8UxeeumlLFy4sPXd81cOwPP9TM4WA/A1GBoaSlEUOXDgQNvtd955Zy6//PJz9KzeGKOjo1mxYkXbd3oOHDiQoijG/J7KunXrsnTp0iTJ9u3bM2nSpDGfb8mSJVm/fv3ZfdJnwT333JOrrroqx48fT9I+AOt4HknS2dmZzs7OfPazn83AwEC2bduWyZMn55vf/GaS+p3L6Ohobr/99lxwwQV5y1vekgsuuCBbtmxp3V+383jlX+yv19d/55135rLLLhtzzWWXXdZ23m9G/90APH78eN773vfmhhtuaN1WxzPZsmVLlixZktHR0SRjB+D5fiZniwH4GpwagA8++GDb7V/4whfyrne96xw9qzfGJz7xicyZM6ftl2tP/UE+PDzcdu3atWuzbNmyJKf/P9DFixdnw4YNZ/dJv84OHz6cd7zjHXnsscdat403AOtyHqd0dHTkAx/4QNttn/rUp/L+978/Sf3O5Z577sns2bNzzz335PHHH88//uM/Zvr06fmHf/iHJPU7j9MNwLJf/+n+4f3Od74zX/ziF1/PL+F19/sG4G9+85tcf/31+ZM/+ZO2/zdndTuTH/3oR7n44ovb/qFwpgPwfDmTs8UAfA3q+iPg3t7ezJ49Oz/72c/abq/bj7LuvffeFEWRiRMntiqKIhdccEEmTpyYp59+ulbnccoll1ySj3/842233XXXXZk5c2aS+v13Mnv27Pzt3/5t221//dd/3fpHYt3Ow4+AxzrdAPzNb36Tv/iLv8jcuXPzi1/8ou2+up3JV77yldafrb/75+2ECRMyZ86cJOf/mZwtBuBr9L73vS+33HJL221XXnnlefkikNHR0Xzyk5/MzJkz89Of/nTc+7u7u7N169bWbSdOnBj3l7l37tzZumZ4eLiSv8x+7NixNBqNtq699trceOONaTQatTuPU1avXj3mRSCbNm1qfVewbucyffr03HXXXW23bdmypfVjqLqdx+leBFL26z/1y/0PP/xw65of/vCHlfjl/vEG4Knxd9VVV+WFF14Y8zF1O5Nf/OIXY/68nTlzZm677bbW13K+n8nZYgC+RqfeBuYb3/hGnnjiiWzatCkXXnhhnn322XP91F53t9xyS7q6uvL9738/zz//fKtf//rXrWv6+/vT1dWV3bt3p9FoZPXq1eO+ncPs2bOzb9++DAwMZNGiRZV5O4v/zu/+CDip53k88sgjectb3pI777wzTz31VLZv356pU6fmW9/6VuuaOp3LTTfdlFmzZrXeBmb37t15+9vfns985jOta87383jxxRfz6KOP5tFHH01RFPnyl7+cRx99tPWK1tfr6//Qhz6UuXPn5qGHHspDDz2Ud7/73W/at/f4fWfy29/+NitXrszs2bPz2GOPtf15e+LEidbnqNOZjOeVPwJOzr8zeSMYgCV89atfzZw5czJp0qRcc801rbdFOd8URTFud999d+uaU2/o2t3dnc7OzsyfP7/1KuFTjh8/nt7e3tabBC9fvjyHDx9+g7+as+OVA7Cu5/Gd73wnV199dTo7O3PFFVe0vQo4qde5HDt2LLfeemsuueSSTJ48OX/0R3+UO+64o+0v8vP9PO6///5x/+y46aabkrx+X/9//ud/5oYbbsi0adMybdq03HDDDW/aN/j9fWfyzDPPnPbP2/vvv7/1Oep0JuMZbwCeb2fyRjAAAQBqxgAEAKgZAxAAoGYMQACAmjEAAQBqxgAEAKgZAxAAoGYMQACAmjEAAQBqxgAEAKgZAxAAoGYMQACAmjEAAQBqxgAEAKgZAxAAoGYMQACAmjEAAQBqxgAEAKgZAxAAoGYMQACAmjEAAQBqxgAEAKgZAxAAoGYMQACAmjEAAQBqxgAEAKgZAxAAoGYMQACAmjEAAQBqxgAEAKgZAxAAoGYMQACAmjEAAQBqxgAEAKgZAxAAoGYMQACAmjEAAQBqxgAEAKgZAxAAoGYMQACAmjEAAQBqxgAEAKgZAxAAoGYMQACAmjEAAQBqxgAEAKgZAxAAoGYMQACAmjEAAQBqxgAEAKgZAxAAoGYMQACAmjEAAQBqxgAEAKgZAxAAoGYMQACAmjEAAQBqxgAEAKgZAxAAoGYMQACAmjEAAQBqxgAEAKgZAxAAoGYMQACAmjEAAQBqxgAEAKgZAxAAoGYMQACAmjEAAQBqxgAEAKgZAxAAoGYMQACAmjEAAQBqxgAEAKgZAxAAoGYMQACAmjEAAQBqxgAEAKgZAxAAoGYMQACAmjEAAQBqxgAEAKgZAxAAoGYMQACAmjEAAQBqxgAEAKgZAxAAoGYMQACAmjEAAQBqxgAEAKgZAxAAoGYMQACAmjEAAQBq5v8H2Wzs80T1ru4AAAAASUVORK5CYII=\" width=\"640\">"
      ],
      "text/plain": [
       "<IPython.core.display.HTML object>"
      ]
     },
     "metadata": {},
     "output_type": "display_data"
    }
   ],
   "source": [
    "syn_data = np.zeros((721, 1440))\n",
    "\n",
    "\n",
    "# Lat values: 40.5, 55.5\n",
    "# Lon values: -5, 17.5\n",
    "\n",
    "\"\"\"\n",
    "Transform the real world coordinates into indexes to read the values from the data that are \n",
    "important for our investigations. \n",
    "For lateral values: The coordinates go from 90°N (+90) to 90°S (-90). Hence, we subtract the\n",
    "lat coordinate from 90 to have the distance (in °-units) from the north pole. Multiply this \n",
    "with 4, as we have a resolution of 1/4.\n",
    "For longitude values: The coordinates go from 180°W (-180) to 180°O (+180). Hence, we subtract the\n",
    "lon coordinate from 180 to have the distance (in °-units) from the coordinate with the same latitude \n",
    "value and longitude value = 180°W. Multiply this, as well, with 4.\n",
    "\"\"\"\n",
    "idx1_lat = int(90 - 55.5) * 4\n",
    "idx2_lat = int(90 - 40.5) * 4\n",
    "idx1_lon = 720 + 4 * (-5)\n",
    "idx2_lon = int(720 + 4 * 17.5)\n",
    "\n",
    "print(idx1_lat, idx2_lat)\n",
    "print(idx1_lon, idx2_lon)\n",
    "\n",
    "\n",
    "syn_data[idx1_lat-5 : idx1_lat+5, idx1_lon-5:idx1_lon+5] = 1\n",
    "syn_data[idx1_lat-5 : idx1_lat+5, idx2_lon-5:idx2_lon+5] = 1\n",
    "syn_data[idx2_lat-5 : idx2_lat+5, idx1_lon-5:idx1_lon+5] = 1\n",
    "syn_data[idx2_lat-5 : idx2_lat+5, idx2_lon-5:idx2_lon+5] = 1\n",
    "\n",
    "plt.imshow(syn_data)\n",
    "plt.show()"
   ]
  },
  {
   "cell_type": "markdown",
   "id": "de22037e",
   "metadata": {},
   "source": [
    "Read the data from western europe and store it in a numpy array."
   ]
  },
  {
   "cell_type": "code",
   "execution_count": 61,
   "id": "a5ecf550",
   "metadata": {},
   "outputs": [
    {
     "name": "stdout",
     "output_type": "stream",
     "text": [
      "Wall time: 6.84 s\n"
     ]
    }
   ],
   "source": [
    "%%time\n",
    "\n",
    "gr = pygrib.open(file_name)\n",
    "\n",
    "dim_lat = idx2_lat - idx1_lat\n",
    "dim_lon = idx2_lon - idx1_lon\n",
    "\n",
    "data = np.zeros((t, dim_lat, dim_lon))\n",
    "\n",
    "for idx, g in enumerate(gr):\n",
    "    data[idx, :] = g.values[idx1_lat : idx2_lat, idx1_lon : idx2_lon]"
   ]
  },
  {
   "cell_type": "code",
   "execution_count": 66,
   "id": "be988e38",
   "metadata": {},
   "outputs": [
    {
     "data": {
      "application/javascript": [
       "/* Put everything inside the global mpl namespace */\n",
       "/* global mpl */\n",
       "window.mpl = {};\n",
       "\n",
       "mpl.get_websocket_type = function () {\n",
       "    if (typeof WebSocket !== 'undefined') {\n",
       "        return WebSocket;\n",
       "    } else if (typeof MozWebSocket !== 'undefined') {\n",
       "        return MozWebSocket;\n",
       "    } else {\n",
       "        alert(\n",
       "            'Your browser does not have WebSocket support. ' +\n",
       "                'Please try Chrome, Safari or Firefox ≥ 6. ' +\n",
       "                'Firefox 4 and 5 are also supported but you ' +\n",
       "                'have to enable WebSockets in about:config.'\n",
       "        );\n",
       "    }\n",
       "};\n",
       "\n",
       "mpl.figure = function (figure_id, websocket, ondownload, parent_element) {\n",
       "    this.id = figure_id;\n",
       "\n",
       "    this.ws = websocket;\n",
       "\n",
       "    this.supports_binary = this.ws.binaryType !== undefined;\n",
       "\n",
       "    if (!this.supports_binary) {\n",
       "        var warnings = document.getElementById('mpl-warnings');\n",
       "        if (warnings) {\n",
       "            warnings.style.display = 'block';\n",
       "            warnings.textContent =\n",
       "                'This browser does not support binary websocket messages. ' +\n",
       "                'Performance may be slow.';\n",
       "        }\n",
       "    }\n",
       "\n",
       "    this.imageObj = new Image();\n",
       "\n",
       "    this.context = undefined;\n",
       "    this.message = undefined;\n",
       "    this.canvas = undefined;\n",
       "    this.rubberband_canvas = undefined;\n",
       "    this.rubberband_context = undefined;\n",
       "    this.format_dropdown = undefined;\n",
       "\n",
       "    this.image_mode = 'full';\n",
       "\n",
       "    this.root = document.createElement('div');\n",
       "    this.root.setAttribute('style', 'display: inline-block');\n",
       "    this._root_extra_style(this.root);\n",
       "\n",
       "    parent_element.appendChild(this.root);\n",
       "\n",
       "    this._init_header(this);\n",
       "    this._init_canvas(this);\n",
       "    this._init_toolbar(this);\n",
       "\n",
       "    var fig = this;\n",
       "\n",
       "    this.waiting = false;\n",
       "\n",
       "    this.ws.onopen = function () {\n",
       "        fig.send_message('supports_binary', { value: fig.supports_binary });\n",
       "        fig.send_message('send_image_mode', {});\n",
       "        if (fig.ratio !== 1) {\n",
       "            fig.send_message('set_dpi_ratio', { dpi_ratio: fig.ratio });\n",
       "        }\n",
       "        fig.send_message('refresh', {});\n",
       "    };\n",
       "\n",
       "    this.imageObj.onload = function () {\n",
       "        if (fig.image_mode === 'full') {\n",
       "            // Full images could contain transparency (where diff images\n",
       "            // almost always do), so we need to clear the canvas so that\n",
       "            // there is no ghosting.\n",
       "            fig.context.clearRect(0, 0, fig.canvas.width, fig.canvas.height);\n",
       "        }\n",
       "        fig.context.drawImage(fig.imageObj, 0, 0);\n",
       "    };\n",
       "\n",
       "    this.imageObj.onunload = function () {\n",
       "        fig.ws.close();\n",
       "    };\n",
       "\n",
       "    this.ws.onmessage = this._make_on_message_function(this);\n",
       "\n",
       "    this.ondownload = ondownload;\n",
       "};\n",
       "\n",
       "mpl.figure.prototype._init_header = function () {\n",
       "    var titlebar = document.createElement('div');\n",
       "    titlebar.classList =\n",
       "        'ui-dialog-titlebar ui-widget-header ui-corner-all ui-helper-clearfix';\n",
       "    var titletext = document.createElement('div');\n",
       "    titletext.classList = 'ui-dialog-title';\n",
       "    titletext.setAttribute(\n",
       "        'style',\n",
       "        'width: 100%; text-align: center; padding: 3px;'\n",
       "    );\n",
       "    titlebar.appendChild(titletext);\n",
       "    this.root.appendChild(titlebar);\n",
       "    this.header = titletext;\n",
       "};\n",
       "\n",
       "mpl.figure.prototype._canvas_extra_style = function (_canvas_div) {};\n",
       "\n",
       "mpl.figure.prototype._root_extra_style = function (_canvas_div) {};\n",
       "\n",
       "mpl.figure.prototype._init_canvas = function () {\n",
       "    var fig = this;\n",
       "\n",
       "    var canvas_div = (this.canvas_div = document.createElement('div'));\n",
       "    canvas_div.setAttribute(\n",
       "        'style',\n",
       "        'border: 1px solid #ddd;' +\n",
       "            'box-sizing: content-box;' +\n",
       "            'clear: both;' +\n",
       "            'min-height: 1px;' +\n",
       "            'min-width: 1px;' +\n",
       "            'outline: 0;' +\n",
       "            'overflow: hidden;' +\n",
       "            'position: relative;' +\n",
       "            'resize: both;'\n",
       "    );\n",
       "\n",
       "    function on_keyboard_event_closure(name) {\n",
       "        return function (event) {\n",
       "            return fig.key_event(event, name);\n",
       "        };\n",
       "    }\n",
       "\n",
       "    canvas_div.addEventListener(\n",
       "        'keydown',\n",
       "        on_keyboard_event_closure('key_press')\n",
       "    );\n",
       "    canvas_div.addEventListener(\n",
       "        'keyup',\n",
       "        on_keyboard_event_closure('key_release')\n",
       "    );\n",
       "\n",
       "    this._canvas_extra_style(canvas_div);\n",
       "    this.root.appendChild(canvas_div);\n",
       "\n",
       "    var canvas = (this.canvas = document.createElement('canvas'));\n",
       "    canvas.classList.add('mpl-canvas');\n",
       "    canvas.setAttribute('style', 'box-sizing: content-box;');\n",
       "\n",
       "    this.context = canvas.getContext('2d');\n",
       "\n",
       "    var backingStore =\n",
       "        this.context.backingStorePixelRatio ||\n",
       "        this.context.webkitBackingStorePixelRatio ||\n",
       "        this.context.mozBackingStorePixelRatio ||\n",
       "        this.context.msBackingStorePixelRatio ||\n",
       "        this.context.oBackingStorePixelRatio ||\n",
       "        this.context.backingStorePixelRatio ||\n",
       "        1;\n",
       "\n",
       "    this.ratio = (window.devicePixelRatio || 1) / backingStore;\n",
       "\n",
       "    var rubberband_canvas = (this.rubberband_canvas = document.createElement(\n",
       "        'canvas'\n",
       "    ));\n",
       "    rubberband_canvas.setAttribute(\n",
       "        'style',\n",
       "        'box-sizing: content-box; position: absolute; left: 0; top: 0; z-index: 1;'\n",
       "    );\n",
       "\n",
       "    // Apply a ponyfill if ResizeObserver is not implemented by browser.\n",
       "    if (this.ResizeObserver === undefined) {\n",
       "        if (window.ResizeObserver !== undefined) {\n",
       "            this.ResizeObserver = window.ResizeObserver;\n",
       "        } else {\n",
       "            var obs = _JSXTOOLS_RESIZE_OBSERVER({});\n",
       "            this.ResizeObserver = obs.ResizeObserver;\n",
       "        }\n",
       "    }\n",
       "\n",
       "    this.resizeObserverInstance = new this.ResizeObserver(function (entries) {\n",
       "        var nentries = entries.length;\n",
       "        for (var i = 0; i < nentries; i++) {\n",
       "            var entry = entries[i];\n",
       "            var width, height;\n",
       "            if (entry.contentBoxSize) {\n",
       "                if (entry.contentBoxSize instanceof Array) {\n",
       "                    // Chrome 84 implements new version of spec.\n",
       "                    width = entry.contentBoxSize[0].inlineSize;\n",
       "                    height = entry.contentBoxSize[0].blockSize;\n",
       "                } else {\n",
       "                    // Firefox implements old version of spec.\n",
       "                    width = entry.contentBoxSize.inlineSize;\n",
       "                    height = entry.contentBoxSize.blockSize;\n",
       "                }\n",
       "            } else {\n",
       "                // Chrome <84 implements even older version of spec.\n",
       "                width = entry.contentRect.width;\n",
       "                height = entry.contentRect.height;\n",
       "            }\n",
       "\n",
       "            // Keep the size of the canvas and rubber band canvas in sync with\n",
       "            // the canvas container.\n",
       "            if (entry.devicePixelContentBoxSize) {\n",
       "                // Chrome 84 implements new version of spec.\n",
       "                canvas.setAttribute(\n",
       "                    'width',\n",
       "                    entry.devicePixelContentBoxSize[0].inlineSize\n",
       "                );\n",
       "                canvas.setAttribute(\n",
       "                    'height',\n",
       "                    entry.devicePixelContentBoxSize[0].blockSize\n",
       "                );\n",
       "            } else {\n",
       "                canvas.setAttribute('width', width * fig.ratio);\n",
       "                canvas.setAttribute('height', height * fig.ratio);\n",
       "            }\n",
       "            canvas.setAttribute(\n",
       "                'style',\n",
       "                'width: ' + width + 'px; height: ' + height + 'px;'\n",
       "            );\n",
       "\n",
       "            rubberband_canvas.setAttribute('width', width);\n",
       "            rubberband_canvas.setAttribute('height', height);\n",
       "\n",
       "            // And update the size in Python. We ignore the initial 0/0 size\n",
       "            // that occurs as the element is placed into the DOM, which should\n",
       "            // otherwise not happen due to the minimum size styling.\n",
       "            if (fig.ws.readyState == 1 && width != 0 && height != 0) {\n",
       "                fig.request_resize(width, height);\n",
       "            }\n",
       "        }\n",
       "    });\n",
       "    this.resizeObserverInstance.observe(canvas_div);\n",
       "\n",
       "    function on_mouse_event_closure(name) {\n",
       "        return function (event) {\n",
       "            return fig.mouse_event(event, name);\n",
       "        };\n",
       "    }\n",
       "\n",
       "    rubberband_canvas.addEventListener(\n",
       "        'mousedown',\n",
       "        on_mouse_event_closure('button_press')\n",
       "    );\n",
       "    rubberband_canvas.addEventListener(\n",
       "        'mouseup',\n",
       "        on_mouse_event_closure('button_release')\n",
       "    );\n",
       "    // Throttle sequential mouse events to 1 every 20ms.\n",
       "    rubberband_canvas.addEventListener(\n",
       "        'mousemove',\n",
       "        on_mouse_event_closure('motion_notify')\n",
       "    );\n",
       "\n",
       "    rubberband_canvas.addEventListener(\n",
       "        'mouseenter',\n",
       "        on_mouse_event_closure('figure_enter')\n",
       "    );\n",
       "    rubberband_canvas.addEventListener(\n",
       "        'mouseleave',\n",
       "        on_mouse_event_closure('figure_leave')\n",
       "    );\n",
       "\n",
       "    canvas_div.addEventListener('wheel', function (event) {\n",
       "        if (event.deltaY < 0) {\n",
       "            event.step = 1;\n",
       "        } else {\n",
       "            event.step = -1;\n",
       "        }\n",
       "        on_mouse_event_closure('scroll')(event);\n",
       "    });\n",
       "\n",
       "    canvas_div.appendChild(canvas);\n",
       "    canvas_div.appendChild(rubberband_canvas);\n",
       "\n",
       "    this.rubberband_context = rubberband_canvas.getContext('2d');\n",
       "    this.rubberband_context.strokeStyle = '#000000';\n",
       "\n",
       "    this._resize_canvas = function (width, height, forward) {\n",
       "        if (forward) {\n",
       "            canvas_div.style.width = width + 'px';\n",
       "            canvas_div.style.height = height + 'px';\n",
       "        }\n",
       "    };\n",
       "\n",
       "    // Disable right mouse context menu.\n",
       "    this.rubberband_canvas.addEventListener('contextmenu', function (_e) {\n",
       "        event.preventDefault();\n",
       "        return false;\n",
       "    });\n",
       "\n",
       "    function set_focus() {\n",
       "        canvas.focus();\n",
       "        canvas_div.focus();\n",
       "    }\n",
       "\n",
       "    window.setTimeout(set_focus, 100);\n",
       "};\n",
       "\n",
       "mpl.figure.prototype._init_toolbar = function () {\n",
       "    var fig = this;\n",
       "\n",
       "    var toolbar = document.createElement('div');\n",
       "    toolbar.classList = 'mpl-toolbar';\n",
       "    this.root.appendChild(toolbar);\n",
       "\n",
       "    function on_click_closure(name) {\n",
       "        return function (_event) {\n",
       "            return fig.toolbar_button_onclick(name);\n",
       "        };\n",
       "    }\n",
       "\n",
       "    function on_mouseover_closure(tooltip) {\n",
       "        return function (event) {\n",
       "            if (!event.currentTarget.disabled) {\n",
       "                return fig.toolbar_button_onmouseover(tooltip);\n",
       "            }\n",
       "        };\n",
       "    }\n",
       "\n",
       "    fig.buttons = {};\n",
       "    var buttonGroup = document.createElement('div');\n",
       "    buttonGroup.classList = 'mpl-button-group';\n",
       "    for (var toolbar_ind in mpl.toolbar_items) {\n",
       "        var name = mpl.toolbar_items[toolbar_ind][0];\n",
       "        var tooltip = mpl.toolbar_items[toolbar_ind][1];\n",
       "        var image = mpl.toolbar_items[toolbar_ind][2];\n",
       "        var method_name = mpl.toolbar_items[toolbar_ind][3];\n",
       "\n",
       "        if (!name) {\n",
       "            /* Instead of a spacer, we start a new button group. */\n",
       "            if (buttonGroup.hasChildNodes()) {\n",
       "                toolbar.appendChild(buttonGroup);\n",
       "            }\n",
       "            buttonGroup = document.createElement('div');\n",
       "            buttonGroup.classList = 'mpl-button-group';\n",
       "            continue;\n",
       "        }\n",
       "\n",
       "        var button = (fig.buttons[name] = document.createElement('button'));\n",
       "        button.classList = 'mpl-widget';\n",
       "        button.setAttribute('role', 'button');\n",
       "        button.setAttribute('aria-disabled', 'false');\n",
       "        button.addEventListener('click', on_click_closure(method_name));\n",
       "        button.addEventListener('mouseover', on_mouseover_closure(tooltip));\n",
       "\n",
       "        var icon_img = document.createElement('img');\n",
       "        icon_img.src = '_images/' + image + '.png';\n",
       "        icon_img.srcset = '_images/' + image + '_large.png 2x';\n",
       "        icon_img.alt = tooltip;\n",
       "        button.appendChild(icon_img);\n",
       "\n",
       "        buttonGroup.appendChild(button);\n",
       "    }\n",
       "\n",
       "    if (buttonGroup.hasChildNodes()) {\n",
       "        toolbar.appendChild(buttonGroup);\n",
       "    }\n",
       "\n",
       "    var fmt_picker = document.createElement('select');\n",
       "    fmt_picker.classList = 'mpl-widget';\n",
       "    toolbar.appendChild(fmt_picker);\n",
       "    this.format_dropdown = fmt_picker;\n",
       "\n",
       "    for (var ind in mpl.extensions) {\n",
       "        var fmt = mpl.extensions[ind];\n",
       "        var option = document.createElement('option');\n",
       "        option.selected = fmt === mpl.default_extension;\n",
       "        option.innerHTML = fmt;\n",
       "        fmt_picker.appendChild(option);\n",
       "    }\n",
       "\n",
       "    var status_bar = document.createElement('span');\n",
       "    status_bar.classList = 'mpl-message';\n",
       "    toolbar.appendChild(status_bar);\n",
       "    this.message = status_bar;\n",
       "};\n",
       "\n",
       "mpl.figure.prototype.request_resize = function (x_pixels, y_pixels) {\n",
       "    // Request matplotlib to resize the figure. Matplotlib will then trigger a resize in the client,\n",
       "    // which will in turn request a refresh of the image.\n",
       "    this.send_message('resize', { width: x_pixels, height: y_pixels });\n",
       "};\n",
       "\n",
       "mpl.figure.prototype.send_message = function (type, properties) {\n",
       "    properties['type'] = type;\n",
       "    properties['figure_id'] = this.id;\n",
       "    this.ws.send(JSON.stringify(properties));\n",
       "};\n",
       "\n",
       "mpl.figure.prototype.send_draw_message = function () {\n",
       "    if (!this.waiting) {\n",
       "        this.waiting = true;\n",
       "        this.ws.send(JSON.stringify({ type: 'draw', figure_id: this.id }));\n",
       "    }\n",
       "};\n",
       "\n",
       "mpl.figure.prototype.handle_save = function (fig, _msg) {\n",
       "    var format_dropdown = fig.format_dropdown;\n",
       "    var format = format_dropdown.options[format_dropdown.selectedIndex].value;\n",
       "    fig.ondownload(fig, format);\n",
       "};\n",
       "\n",
       "mpl.figure.prototype.handle_resize = function (fig, msg) {\n",
       "    var size = msg['size'];\n",
       "    if (size[0] !== fig.canvas.width || size[1] !== fig.canvas.height) {\n",
       "        fig._resize_canvas(size[0], size[1], msg['forward']);\n",
       "        fig.send_message('refresh', {});\n",
       "    }\n",
       "};\n",
       "\n",
       "mpl.figure.prototype.handle_rubberband = function (fig, msg) {\n",
       "    var x0 = msg['x0'] / fig.ratio;\n",
       "    var y0 = (fig.canvas.height - msg['y0']) / fig.ratio;\n",
       "    var x1 = msg['x1'] / fig.ratio;\n",
       "    var y1 = (fig.canvas.height - msg['y1']) / fig.ratio;\n",
       "    x0 = Math.floor(x0) + 0.5;\n",
       "    y0 = Math.floor(y0) + 0.5;\n",
       "    x1 = Math.floor(x1) + 0.5;\n",
       "    y1 = Math.floor(y1) + 0.5;\n",
       "    var min_x = Math.min(x0, x1);\n",
       "    var min_y = Math.min(y0, y1);\n",
       "    var width = Math.abs(x1 - x0);\n",
       "    var height = Math.abs(y1 - y0);\n",
       "\n",
       "    fig.rubberband_context.clearRect(\n",
       "        0,\n",
       "        0,\n",
       "        fig.canvas.width / fig.ratio,\n",
       "        fig.canvas.height / fig.ratio\n",
       "    );\n",
       "\n",
       "    fig.rubberband_context.strokeRect(min_x, min_y, width, height);\n",
       "};\n",
       "\n",
       "mpl.figure.prototype.handle_figure_label = function (fig, msg) {\n",
       "    // Updates the figure title.\n",
       "    fig.header.textContent = msg['label'];\n",
       "};\n",
       "\n",
       "mpl.figure.prototype.handle_cursor = function (fig, msg) {\n",
       "    var cursor = msg['cursor'];\n",
       "    switch (cursor) {\n",
       "        case 0:\n",
       "            cursor = 'pointer';\n",
       "            break;\n",
       "        case 1:\n",
       "            cursor = 'default';\n",
       "            break;\n",
       "        case 2:\n",
       "            cursor = 'crosshair';\n",
       "            break;\n",
       "        case 3:\n",
       "            cursor = 'move';\n",
       "            break;\n",
       "    }\n",
       "    fig.rubberband_canvas.style.cursor = cursor;\n",
       "};\n",
       "\n",
       "mpl.figure.prototype.handle_message = function (fig, msg) {\n",
       "    fig.message.textContent = msg['message'];\n",
       "};\n",
       "\n",
       "mpl.figure.prototype.handle_draw = function (fig, _msg) {\n",
       "    // Request the server to send over a new figure.\n",
       "    fig.send_draw_message();\n",
       "};\n",
       "\n",
       "mpl.figure.prototype.handle_image_mode = function (fig, msg) {\n",
       "    fig.image_mode = msg['mode'];\n",
       "};\n",
       "\n",
       "mpl.figure.prototype.handle_history_buttons = function (fig, msg) {\n",
       "    for (var key in msg) {\n",
       "        if (!(key in fig.buttons)) {\n",
       "            continue;\n",
       "        }\n",
       "        fig.buttons[key].disabled = !msg[key];\n",
       "        fig.buttons[key].setAttribute('aria-disabled', !msg[key]);\n",
       "    }\n",
       "};\n",
       "\n",
       "mpl.figure.prototype.handle_navigate_mode = function (fig, msg) {\n",
       "    if (msg['mode'] === 'PAN') {\n",
       "        fig.buttons['Pan'].classList.add('active');\n",
       "        fig.buttons['Zoom'].classList.remove('active');\n",
       "    } else if (msg['mode'] === 'ZOOM') {\n",
       "        fig.buttons['Pan'].classList.remove('active');\n",
       "        fig.buttons['Zoom'].classList.add('active');\n",
       "    } else {\n",
       "        fig.buttons['Pan'].classList.remove('active');\n",
       "        fig.buttons['Zoom'].classList.remove('active');\n",
       "    }\n",
       "};\n",
       "\n",
       "mpl.figure.prototype.updated_canvas_event = function () {\n",
       "    // Called whenever the canvas gets updated.\n",
       "    this.send_message('ack', {});\n",
       "};\n",
       "\n",
       "// A function to construct a web socket function for onmessage handling.\n",
       "// Called in the figure constructor.\n",
       "mpl.figure.prototype._make_on_message_function = function (fig) {\n",
       "    return function socket_on_message(evt) {\n",
       "        if (evt.data instanceof Blob) {\n",
       "            /* FIXME: We get \"Resource interpreted as Image but\n",
       "             * transferred with MIME type text/plain:\" errors on\n",
       "             * Chrome.  But how to set the MIME type?  It doesn't seem\n",
       "             * to be part of the websocket stream */\n",
       "            evt.data.type = 'image/png';\n",
       "\n",
       "            /* Free the memory for the previous frames */\n",
       "            if (fig.imageObj.src) {\n",
       "                (window.URL || window.webkitURL).revokeObjectURL(\n",
       "                    fig.imageObj.src\n",
       "                );\n",
       "            }\n",
       "\n",
       "            fig.imageObj.src = (window.URL || window.webkitURL).createObjectURL(\n",
       "                evt.data\n",
       "            );\n",
       "            fig.updated_canvas_event();\n",
       "            fig.waiting = false;\n",
       "            return;\n",
       "        } else if (\n",
       "            typeof evt.data === 'string' &&\n",
       "            evt.data.slice(0, 21) === 'data:image/png;base64'\n",
       "        ) {\n",
       "            fig.imageObj.src = evt.data;\n",
       "            fig.updated_canvas_event();\n",
       "            fig.waiting = false;\n",
       "            return;\n",
       "        }\n",
       "\n",
       "        var msg = JSON.parse(evt.data);\n",
       "        var msg_type = msg['type'];\n",
       "\n",
       "        // Call the  \"handle_{type}\" callback, which takes\n",
       "        // the figure and JSON message as its only arguments.\n",
       "        try {\n",
       "            var callback = fig['handle_' + msg_type];\n",
       "        } catch (e) {\n",
       "            console.log(\n",
       "                \"No handler for the '\" + msg_type + \"' message type: \",\n",
       "                msg\n",
       "            );\n",
       "            return;\n",
       "        }\n",
       "\n",
       "        if (callback) {\n",
       "            try {\n",
       "                // console.log(\"Handling '\" + msg_type + \"' message: \", msg);\n",
       "                callback(fig, msg);\n",
       "            } catch (e) {\n",
       "                console.log(\n",
       "                    \"Exception inside the 'handler_\" + msg_type + \"' callback:\",\n",
       "                    e,\n",
       "                    e.stack,\n",
       "                    msg\n",
       "                );\n",
       "            }\n",
       "        }\n",
       "    };\n",
       "};\n",
       "\n",
       "// from http://stackoverflow.com/questions/1114465/getting-mouse-location-in-canvas\n",
       "mpl.findpos = function (e) {\n",
       "    //this section is from http://www.quirksmode.org/js/events_properties.html\n",
       "    var targ;\n",
       "    if (!e) {\n",
       "        e = window.event;\n",
       "    }\n",
       "    if (e.target) {\n",
       "        targ = e.target;\n",
       "    } else if (e.srcElement) {\n",
       "        targ = e.srcElement;\n",
       "    }\n",
       "    if (targ.nodeType === 3) {\n",
       "        // defeat Safari bug\n",
       "        targ = targ.parentNode;\n",
       "    }\n",
       "\n",
       "    // pageX,Y are the mouse positions relative to the document\n",
       "    var boundingRect = targ.getBoundingClientRect();\n",
       "    var x = e.pageX - (boundingRect.left + document.body.scrollLeft);\n",
       "    var y = e.pageY - (boundingRect.top + document.body.scrollTop);\n",
       "\n",
       "    return { x: x, y: y };\n",
       "};\n",
       "\n",
       "/*\n",
       " * return a copy of an object with only non-object keys\n",
       " * we need this to avoid circular references\n",
       " * http://stackoverflow.com/a/24161582/3208463\n",
       " */\n",
       "function simpleKeys(original) {\n",
       "    return Object.keys(original).reduce(function (obj, key) {\n",
       "        if (typeof original[key] !== 'object') {\n",
       "            obj[key] = original[key];\n",
       "        }\n",
       "        return obj;\n",
       "    }, {});\n",
       "}\n",
       "\n",
       "mpl.figure.prototype.mouse_event = function (event, name) {\n",
       "    var canvas_pos = mpl.findpos(event);\n",
       "\n",
       "    if (name === 'button_press') {\n",
       "        this.canvas.focus();\n",
       "        this.canvas_div.focus();\n",
       "    }\n",
       "\n",
       "    var x = canvas_pos.x * this.ratio;\n",
       "    var y = canvas_pos.y * this.ratio;\n",
       "\n",
       "    this.send_message(name, {\n",
       "        x: x,\n",
       "        y: y,\n",
       "        button: event.button,\n",
       "        step: event.step,\n",
       "        guiEvent: simpleKeys(event),\n",
       "    });\n",
       "\n",
       "    /* This prevents the web browser from automatically changing to\n",
       "     * the text insertion cursor when the button is pressed.  We want\n",
       "     * to control all of the cursor setting manually through the\n",
       "     * 'cursor' event from matplotlib */\n",
       "    event.preventDefault();\n",
       "    return false;\n",
       "};\n",
       "\n",
       "mpl.figure.prototype._key_event_extra = function (_event, _name) {\n",
       "    // Handle any extra behaviour associated with a key event\n",
       "};\n",
       "\n",
       "mpl.figure.prototype.key_event = function (event, name) {\n",
       "    // Prevent repeat events\n",
       "    if (name === 'key_press') {\n",
       "        if (event.which === this._key) {\n",
       "            return;\n",
       "        } else {\n",
       "            this._key = event.which;\n",
       "        }\n",
       "    }\n",
       "    if (name === 'key_release') {\n",
       "        this._key = null;\n",
       "    }\n",
       "\n",
       "    var value = '';\n",
       "    if (event.ctrlKey && event.which !== 17) {\n",
       "        value += 'ctrl+';\n",
       "    }\n",
       "    if (event.altKey && event.which !== 18) {\n",
       "        value += 'alt+';\n",
       "    }\n",
       "    if (event.shiftKey && event.which !== 16) {\n",
       "        value += 'shift+';\n",
       "    }\n",
       "\n",
       "    value += 'k';\n",
       "    value += event.which.toString();\n",
       "\n",
       "    this._key_event_extra(event, name);\n",
       "\n",
       "    this.send_message(name, { key: value, guiEvent: simpleKeys(event) });\n",
       "    return false;\n",
       "};\n",
       "\n",
       "mpl.figure.prototype.toolbar_button_onclick = function (name) {\n",
       "    if (name === 'download') {\n",
       "        this.handle_save(this, null);\n",
       "    } else {\n",
       "        this.send_message('toolbar_button', { name: name });\n",
       "    }\n",
       "};\n",
       "\n",
       "mpl.figure.prototype.toolbar_button_onmouseover = function (tooltip) {\n",
       "    this.message.textContent = tooltip;\n",
       "};\n",
       "\n",
       "///////////////// REMAINING CONTENT GENERATED BY embed_js.py /////////////////\n",
       "// prettier-ignore\n",
       "var _JSXTOOLS_RESIZE_OBSERVER=function(A){var t,i=new WeakMap,n=new WeakMap,a=new WeakMap,r=new WeakMap,o=new Set;function s(e){if(!(this instanceof s))throw new TypeError(\"Constructor requires 'new' operator\");i.set(this,e)}function h(){throw new TypeError(\"Function is not a constructor\")}function c(e,t,i,n){e=0 in arguments?Number(arguments[0]):0,t=1 in arguments?Number(arguments[1]):0,i=2 in arguments?Number(arguments[2]):0,n=3 in arguments?Number(arguments[3]):0,this.right=(this.x=this.left=e)+(this.width=i),this.bottom=(this.y=this.top=t)+(this.height=n),Object.freeze(this)}function d(){t=requestAnimationFrame(d);var s=new WeakMap,p=new Set;o.forEach((function(t){r.get(t).forEach((function(i){var r=t instanceof window.SVGElement,o=a.get(t),d=r?0:parseFloat(o.paddingTop),f=r?0:parseFloat(o.paddingRight),l=r?0:parseFloat(o.paddingBottom),u=r?0:parseFloat(o.paddingLeft),g=r?0:parseFloat(o.borderTopWidth),m=r?0:parseFloat(o.borderRightWidth),w=r?0:parseFloat(o.borderBottomWidth),b=u+f,F=d+l,v=(r?0:parseFloat(o.borderLeftWidth))+m,W=g+w,y=r?0:t.offsetHeight-W-t.clientHeight,E=r?0:t.offsetWidth-v-t.clientWidth,R=b+v,z=F+W,M=r?t.width:parseFloat(o.width)-R-E,O=r?t.height:parseFloat(o.height)-z-y;if(n.has(t)){var k=n.get(t);if(k[0]===M&&k[1]===O)return}n.set(t,[M,O]);var S=Object.create(h.prototype);S.target=t,S.contentRect=new c(u,d,M,O),s.has(i)||(s.set(i,[]),p.add(i)),s.get(i).push(S)}))})),p.forEach((function(e){i.get(e).call(e,s.get(e),e)}))}return s.prototype.observe=function(i){if(i instanceof window.Element){r.has(i)||(r.set(i,new Set),o.add(i),a.set(i,window.getComputedStyle(i)));var n=r.get(i);n.has(this)||n.add(this),cancelAnimationFrame(t),t=requestAnimationFrame(d)}},s.prototype.unobserve=function(i){if(i instanceof window.Element&&r.has(i)){var n=r.get(i);n.has(this)&&(n.delete(this),n.size||(r.delete(i),o.delete(i))),n.size||r.delete(i),o.size||cancelAnimationFrame(t)}},A.DOMRectReadOnly=c,A.ResizeObserver=s,A.ResizeObserverEntry=h,A}; // eslint-disable-line\n",
       "mpl.toolbar_items = [[\"Home\", \"Reset original view\", \"fa fa-home icon-home\", \"home\"], [\"Back\", \"Back to previous view\", \"fa fa-arrow-left icon-arrow-left\", \"back\"], [\"Forward\", \"Forward to next view\", \"fa fa-arrow-right icon-arrow-right\", \"forward\"], [\"\", \"\", \"\", \"\"], [\"Pan\", \"Left button pans, Right button zooms\\nx/y fixes axis, CTRL fixes aspect\", \"fa fa-arrows icon-move\", \"pan\"], [\"Zoom\", \"Zoom to rectangle\\nx/y fixes axis, CTRL fixes aspect\", \"fa fa-square-o icon-check-empty\", \"zoom\"], [\"\", \"\", \"\", \"\"], [\"Download\", \"Download plot\", \"fa fa-floppy-o icon-save\", \"download\"]];\n",
       "\n",
       "mpl.extensions = [\"eps\", \"jpeg\", \"pdf\", \"png\", \"ps\", \"raw\", \"svg\", \"tif\"];\n",
       "\n",
       "mpl.default_extension = \"png\";/* global mpl */\n",
       "\n",
       "var comm_websocket_adapter = function (comm) {\n",
       "    // Create a \"websocket\"-like object which calls the given IPython comm\n",
       "    // object with the appropriate methods. Currently this is a non binary\n",
       "    // socket, so there is still some room for performance tuning.\n",
       "    var ws = {};\n",
       "\n",
       "    ws.close = function () {\n",
       "        comm.close();\n",
       "    };\n",
       "    ws.send = function (m) {\n",
       "        //console.log('sending', m);\n",
       "        comm.send(m);\n",
       "    };\n",
       "    // Register the callback with on_msg.\n",
       "    comm.on_msg(function (msg) {\n",
       "        //console.log('receiving', msg['content']['data'], msg);\n",
       "        // Pass the mpl event to the overridden (by mpl) onmessage function.\n",
       "        ws.onmessage(msg['content']['data']);\n",
       "    });\n",
       "    return ws;\n",
       "};\n",
       "\n",
       "mpl.mpl_figure_comm = function (comm, msg) {\n",
       "    // This is the function which gets called when the mpl process\n",
       "    // starts-up an IPython Comm through the \"matplotlib\" channel.\n",
       "\n",
       "    var id = msg.content.data.id;\n",
       "    // Get hold of the div created by the display call when the Comm\n",
       "    // socket was opened in Python.\n",
       "    var element = document.getElementById(id);\n",
       "    var ws_proxy = comm_websocket_adapter(comm);\n",
       "\n",
       "    function ondownload(figure, _format) {\n",
       "        window.open(figure.canvas.toDataURL());\n",
       "    }\n",
       "\n",
       "    var fig = new mpl.figure(id, ws_proxy, ondownload, element);\n",
       "\n",
       "    // Call onopen now - mpl needs it, as it is assuming we've passed it a real\n",
       "    // web socket which is closed, not our websocket->open comm proxy.\n",
       "    ws_proxy.onopen();\n",
       "\n",
       "    fig.parent_element = element;\n",
       "    fig.cell_info = mpl.find_output_cell(\"<div id='\" + id + \"'></div>\");\n",
       "    if (!fig.cell_info) {\n",
       "        console.error('Failed to find cell for figure', id, fig);\n",
       "        return;\n",
       "    }\n",
       "    fig.cell_info[0].output_area.element.on(\n",
       "        'cleared',\n",
       "        { fig: fig },\n",
       "        fig._remove_fig_handler\n",
       "    );\n",
       "};\n",
       "\n",
       "mpl.figure.prototype.handle_close = function (fig, msg) {\n",
       "    var width = fig.canvas.width / fig.ratio;\n",
       "    fig.cell_info[0].output_area.element.off(\n",
       "        'cleared',\n",
       "        fig._remove_fig_handler\n",
       "    );\n",
       "    fig.resizeObserverInstance.unobserve(fig.canvas_div);\n",
       "\n",
       "    // Update the output cell to use the data from the current canvas.\n",
       "    fig.push_to_output();\n",
       "    var dataURL = fig.canvas.toDataURL();\n",
       "    // Re-enable the keyboard manager in IPython - without this line, in FF,\n",
       "    // the notebook keyboard shortcuts fail.\n",
       "    IPython.keyboard_manager.enable();\n",
       "    fig.parent_element.innerHTML =\n",
       "        '<img src=\"' + dataURL + '\" width=\"' + width + '\">';\n",
       "    fig.close_ws(fig, msg);\n",
       "};\n",
       "\n",
       "mpl.figure.prototype.close_ws = function (fig, msg) {\n",
       "    fig.send_message('closing', msg);\n",
       "    // fig.ws.close()\n",
       "};\n",
       "\n",
       "mpl.figure.prototype.push_to_output = function (_remove_interactive) {\n",
       "    // Turn the data on the canvas into data in the output cell.\n",
       "    var width = this.canvas.width / this.ratio;\n",
       "    var dataURL = this.canvas.toDataURL();\n",
       "    this.cell_info[1]['text/html'] =\n",
       "        '<img src=\"' + dataURL + '\" width=\"' + width + '\">';\n",
       "};\n",
       "\n",
       "mpl.figure.prototype.updated_canvas_event = function () {\n",
       "    // Tell IPython that the notebook contents must change.\n",
       "    IPython.notebook.set_dirty(true);\n",
       "    this.send_message('ack', {});\n",
       "    var fig = this;\n",
       "    // Wait a second, then push the new image to the DOM so\n",
       "    // that it is saved nicely (might be nice to debounce this).\n",
       "    setTimeout(function () {\n",
       "        fig.push_to_output();\n",
       "    }, 1000);\n",
       "};\n",
       "\n",
       "mpl.figure.prototype._init_toolbar = function () {\n",
       "    var fig = this;\n",
       "\n",
       "    var toolbar = document.createElement('div');\n",
       "    toolbar.classList = 'btn-toolbar';\n",
       "    this.root.appendChild(toolbar);\n",
       "\n",
       "    function on_click_closure(name) {\n",
       "        return function (_event) {\n",
       "            return fig.toolbar_button_onclick(name);\n",
       "        };\n",
       "    }\n",
       "\n",
       "    function on_mouseover_closure(tooltip) {\n",
       "        return function (event) {\n",
       "            if (!event.currentTarget.disabled) {\n",
       "                return fig.toolbar_button_onmouseover(tooltip);\n",
       "            }\n",
       "        };\n",
       "    }\n",
       "\n",
       "    fig.buttons = {};\n",
       "    var buttonGroup = document.createElement('div');\n",
       "    buttonGroup.classList = 'btn-group';\n",
       "    var button;\n",
       "    for (var toolbar_ind in mpl.toolbar_items) {\n",
       "        var name = mpl.toolbar_items[toolbar_ind][0];\n",
       "        var tooltip = mpl.toolbar_items[toolbar_ind][1];\n",
       "        var image = mpl.toolbar_items[toolbar_ind][2];\n",
       "        var method_name = mpl.toolbar_items[toolbar_ind][3];\n",
       "\n",
       "        if (!name) {\n",
       "            /* Instead of a spacer, we start a new button group. */\n",
       "            if (buttonGroup.hasChildNodes()) {\n",
       "                toolbar.appendChild(buttonGroup);\n",
       "            }\n",
       "            buttonGroup = document.createElement('div');\n",
       "            buttonGroup.classList = 'btn-group';\n",
       "            continue;\n",
       "        }\n",
       "\n",
       "        button = fig.buttons[name] = document.createElement('button');\n",
       "        button.classList = 'btn btn-default';\n",
       "        button.href = '#';\n",
       "        button.title = name;\n",
       "        button.innerHTML = '<i class=\"fa ' + image + ' fa-lg\"></i>';\n",
       "        button.addEventListener('click', on_click_closure(method_name));\n",
       "        button.addEventListener('mouseover', on_mouseover_closure(tooltip));\n",
       "        buttonGroup.appendChild(button);\n",
       "    }\n",
       "\n",
       "    if (buttonGroup.hasChildNodes()) {\n",
       "        toolbar.appendChild(buttonGroup);\n",
       "    }\n",
       "\n",
       "    // Add the status bar.\n",
       "    var status_bar = document.createElement('span');\n",
       "    status_bar.classList = 'mpl-message pull-right';\n",
       "    toolbar.appendChild(status_bar);\n",
       "    this.message = status_bar;\n",
       "\n",
       "    // Add the close button to the window.\n",
       "    var buttongrp = document.createElement('div');\n",
       "    buttongrp.classList = 'btn-group inline pull-right';\n",
       "    button = document.createElement('button');\n",
       "    button.classList = 'btn btn-mini btn-primary';\n",
       "    button.href = '#';\n",
       "    button.title = 'Stop Interaction';\n",
       "    button.innerHTML = '<i class=\"fa fa-power-off icon-remove icon-large\"></i>';\n",
       "    button.addEventListener('click', function (_evt) {\n",
       "        fig.handle_close(fig, {});\n",
       "    });\n",
       "    button.addEventListener(\n",
       "        'mouseover',\n",
       "        on_mouseover_closure('Stop Interaction')\n",
       "    );\n",
       "    buttongrp.appendChild(button);\n",
       "    var titlebar = this.root.querySelector('.ui-dialog-titlebar');\n",
       "    titlebar.insertBefore(buttongrp, titlebar.firstChild);\n",
       "};\n",
       "\n",
       "mpl.figure.prototype._remove_fig_handler = function (event) {\n",
       "    var fig = event.data.fig;\n",
       "    if (event.target !== this) {\n",
       "        // Ignore bubbled events from children.\n",
       "        return;\n",
       "    }\n",
       "    fig.close_ws(fig, {});\n",
       "};\n",
       "\n",
       "mpl.figure.prototype._root_extra_style = function (el) {\n",
       "    el.style.boxSizing = 'content-box'; // override notebook setting of border-box.\n",
       "};\n",
       "\n",
       "mpl.figure.prototype._canvas_extra_style = function (el) {\n",
       "    // this is important to make the div 'focusable\n",
       "    el.setAttribute('tabindex', 0);\n",
       "    // reach out to IPython and tell the keyboard manager to turn it's self\n",
       "    // off when our div gets focus\n",
       "\n",
       "    // location in version 3\n",
       "    if (IPython.notebook.keyboard_manager) {\n",
       "        IPython.notebook.keyboard_manager.register_events(el);\n",
       "    } else {\n",
       "        // location in version 2\n",
       "        IPython.keyboard_manager.register_events(el);\n",
       "    }\n",
       "};\n",
       "\n",
       "mpl.figure.prototype._key_event_extra = function (event, _name) {\n",
       "    var manager = IPython.notebook.keyboard_manager;\n",
       "    if (!manager) {\n",
       "        manager = IPython.keyboard_manager;\n",
       "    }\n",
       "\n",
       "    // Check for shift+enter\n",
       "    if (event.shiftKey && event.which === 13) {\n",
       "        this.canvas_div.blur();\n",
       "        // select the cell after this one\n",
       "        var index = IPython.notebook.find_cell_index(this.cell_info[0]);\n",
       "        IPython.notebook.select(index + 1);\n",
       "    }\n",
       "};\n",
       "\n",
       "mpl.figure.prototype.handle_save = function (fig, _msg) {\n",
       "    fig.ondownload(fig, null);\n",
       "};\n",
       "\n",
       "mpl.find_output_cell = function (html_output) {\n",
       "    // Return the cell and output element which can be found *uniquely* in the notebook.\n",
       "    // Note - this is a bit hacky, but it is done because the \"notebook_saving.Notebook\"\n",
       "    // IPython event is triggered only after the cells have been serialised, which for\n",
       "    // our purposes (turning an active figure into a static one), is too late.\n",
       "    var cells = IPython.notebook.get_cells();\n",
       "    var ncells = cells.length;\n",
       "    for (var i = 0; i < ncells; i++) {\n",
       "        var cell = cells[i];\n",
       "        if (cell.cell_type === 'code') {\n",
       "            for (var j = 0; j < cell.output_area.outputs.length; j++) {\n",
       "                var data = cell.output_area.outputs[j];\n",
       "                if (data.data) {\n",
       "                    // IPython >= 3 moved mimebundle to data attribute of output\n",
       "                    data = data.data;\n",
       "                }\n",
       "                if (data['text/html'] === html_output) {\n",
       "                    return [cell, data, j];\n",
       "                }\n",
       "            }\n",
       "        }\n",
       "    }\n",
       "};\n",
       "\n",
       "// Register the function which deals with the matplotlib target/channel.\n",
       "// The kernel may be null if the page has been refreshed.\n",
       "if (IPython.notebook.kernel !== null) {\n",
       "    IPython.notebook.kernel.comm_manager.register_target(\n",
       "        'matplotlib',\n",
       "        mpl.mpl_figure_comm\n",
       "    );\n",
       "}\n"
      ],
      "text/plain": [
       "<IPython.core.display.Javascript object>"
      ]
     },
     "metadata": {},
     "output_type": "display_data"
    },
    {
     "data": {
      "text/html": [
       "<img src=\"data:image/png;base64,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\" width=\"800\">"
      ],
      "text/plain": [
       "<IPython.core.display.HTML object>"
      ]
     },
     "metadata": {},
     "output_type": "display_data"
    }
   ],
   "source": [
    "%matplotlib notebook    \n",
    "\n",
    "import time\n",
    "\n",
    "def update(t, data):\n",
    "    time.sleep(0.1)\n",
    "    ax.imshow(data[t])\n",
    "    return None\n",
    "\n",
    "fig, ax = plt.subplots(1, 1, figsize=[8, 4])\n",
    "ITERATIONS = data.shape[0]\n",
    "\n",
    "anim = FuncAnimation(fig, update, frames=ITERATIONS, interval=50, blit=True, \n",
    "                     fargs=([data]))"
   ]
  },
  {
   "cell_type": "markdown",
   "id": "4bbfcc28",
   "metadata": {},
   "source": [
    "The visualization of the data does not appear to be smooth. However, since the data comes with a monthly resolution, this is not too suprising. However, some parts of the data seems to be poorly reanalyzed (especially in the upper right). This could lead to wrong conclusions in our results (we might detect communities even if there are none).\n",
    "\n",
    "\n",
    "Next, store the data to save some space."
   ]
  },
  {
   "cell_type": "code",
   "execution_count": 63,
   "id": "03e7ae4b",
   "metadata": {},
   "outputs": [],
   "source": [
    "np.save('data.npy', data)"
   ]
  },
  {
   "cell_type": "code",
   "execution_count": null,
   "id": "b6157582",
   "metadata": {},
   "outputs": [],
   "source": []
  }
 ],
 "metadata": {
  "kernelspec": {
   "display_name": "Python 3",
   "language": "python",
   "name": "python3"
  },
  "language_info": {
   "codemirror_mode": {
    "name": "ipython",
    "version": 3
   },
   "file_extension": ".py",
   "mimetype": "text/x-python",
   "name": "python",
   "nbconvert_exporter": "python",
   "pygments_lexer": "ipython3",
   "version": "3.9.5"
  }
 },
 "nbformat": 4,
 "nbformat_minor": 5
}
