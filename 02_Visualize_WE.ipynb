{
 "cells": [
  {
   "cell_type": "code",
   "execution_count": 47,
   "id": "35f4d671",
   "metadata": {},
   "outputs": [],
   "source": [
    "import pygrib\n",
    "import matplotlib.pyplot as plt\n",
    "from matplotlib.animation import FuncAnimation\n",
    "import numpy as np\n",
    "import pandas as pd\n",
    "import plotly.graph_objects as go\n",
    "\n",
    "import time\n",
    "\n",
    "import datetime as dt\n",
    "from dateutil.relativedelta import relativedelta"
   ]
  },
  {
   "cell_type": "code",
   "execution_count": 73,
   "id": "08865bd7",
   "metadata": {},
   "outputs": [],
   "source": [
    "file_name = \"adaptor.mars.internal-1622846426.3351655-26320-29-d3ec277c-a906-49aa-8941-9746ec5f867d.grib\"\n",
    "t = 508\n",
    "\n",
    "START_DATE = dt.datetime(1979, 1, 1)"
   ]
  },
  {
   "cell_type": "markdown",
   "id": "60e49441",
   "metadata": {},
   "source": [
    "We consider the region within the coordinates 55.5 x 17.5 - 40.5 x -5 as Western Europe. We only take the corresponding data to reduce the amount of data considered."
   ]
  },
  {
   "cell_type": "code",
   "execution_count": 49,
   "id": "0e1fba47",
   "metadata": {},
   "outputs": [
    {
     "data": {
      "application/vnd.plotly.v1+json": {
       "config": {
        "plotlyServerURL": "https://plot.ly"
       },
       "data": [
        {
         "lat": [
          55.5,
          40.5,
          55.5,
          40.5
         ],
         "lon": [
          17.5,
          17.5,
          -5,
          -5
         ],
         "marker": {
          "color": "rgb(255, 0, 0)",
          "line": {
           "color": "rgba(68, 68, 68, 0)",
           "width": 3
          },
          "size": 7
         },
         "mode": "markers",
         "type": "scattergeo"
        }
       ],
       "layout": {
        "geo": {
         "scope": "europe"
        },
        "template": {
         "data": {
          "bar": [
           {
            "error_x": {
             "color": "#2a3f5f"
            },
            "error_y": {
             "color": "#2a3f5f"
            },
            "marker": {
             "line": {
              "color": "#E5ECF6",
              "width": 0.5
             }
            },
            "type": "bar"
           }
          ],
          "barpolar": [
           {
            "marker": {
             "line": {
              "color": "#E5ECF6",
              "width": 0.5
             }
            },
            "type": "barpolar"
           }
          ],
          "carpet": [
           {
            "aaxis": {
             "endlinecolor": "#2a3f5f",
             "gridcolor": "white",
             "linecolor": "white",
             "minorgridcolor": "white",
             "startlinecolor": "#2a3f5f"
            },
            "baxis": {
             "endlinecolor": "#2a3f5f",
             "gridcolor": "white",
             "linecolor": "white",
             "minorgridcolor": "white",
             "startlinecolor": "#2a3f5f"
            },
            "type": "carpet"
           }
          ],
          "choropleth": [
           {
            "colorbar": {
             "outlinewidth": 0,
             "ticks": ""
            },
            "type": "choropleth"
           }
          ],
          "contour": [
           {
            "colorbar": {
             "outlinewidth": 0,
             "ticks": ""
            },
            "colorscale": [
             [
              0,
              "#0d0887"
             ],
             [
              0.1111111111111111,
              "#46039f"
             ],
             [
              0.2222222222222222,
              "#7201a8"
             ],
             [
              0.3333333333333333,
              "#9c179e"
             ],
             [
              0.4444444444444444,
              "#bd3786"
             ],
             [
              0.5555555555555556,
              "#d8576b"
             ],
             [
              0.6666666666666666,
              "#ed7953"
             ],
             [
              0.7777777777777778,
              "#fb9f3a"
             ],
             [
              0.8888888888888888,
              "#fdca26"
             ],
             [
              1,
              "#f0f921"
             ]
            ],
            "type": "contour"
           }
          ],
          "contourcarpet": [
           {
            "colorbar": {
             "outlinewidth": 0,
             "ticks": ""
            },
            "type": "contourcarpet"
           }
          ],
          "heatmap": [
           {
            "colorbar": {
             "outlinewidth": 0,
             "ticks": ""
            },
            "colorscale": [
             [
              0,
              "#0d0887"
             ],
             [
              0.1111111111111111,
              "#46039f"
             ],
             [
              0.2222222222222222,
              "#7201a8"
             ],
             [
              0.3333333333333333,
              "#9c179e"
             ],
             [
              0.4444444444444444,
              "#bd3786"
             ],
             [
              0.5555555555555556,
              "#d8576b"
             ],
             [
              0.6666666666666666,
              "#ed7953"
             ],
             [
              0.7777777777777778,
              "#fb9f3a"
             ],
             [
              0.8888888888888888,
              "#fdca26"
             ],
             [
              1,
              "#f0f921"
             ]
            ],
            "type": "heatmap"
           }
          ],
          "heatmapgl": [
           {
            "colorbar": {
             "outlinewidth": 0,
             "ticks": ""
            },
            "colorscale": [
             [
              0,
              "#0d0887"
             ],
             [
              0.1111111111111111,
              "#46039f"
             ],
             [
              0.2222222222222222,
              "#7201a8"
             ],
             [
              0.3333333333333333,
              "#9c179e"
             ],
             [
              0.4444444444444444,
              "#bd3786"
             ],
             [
              0.5555555555555556,
              "#d8576b"
             ],
             [
              0.6666666666666666,
              "#ed7953"
             ],
             [
              0.7777777777777778,
              "#fb9f3a"
             ],
             [
              0.8888888888888888,
              "#fdca26"
             ],
             [
              1,
              "#f0f921"
             ]
            ],
            "type": "heatmapgl"
           }
          ],
          "histogram": [
           {
            "marker": {
             "colorbar": {
              "outlinewidth": 0,
              "ticks": ""
             }
            },
            "type": "histogram"
           }
          ],
          "histogram2d": [
           {
            "colorbar": {
             "outlinewidth": 0,
             "ticks": ""
            },
            "colorscale": [
             [
              0,
              "#0d0887"
             ],
             [
              0.1111111111111111,
              "#46039f"
             ],
             [
              0.2222222222222222,
              "#7201a8"
             ],
             [
              0.3333333333333333,
              "#9c179e"
             ],
             [
              0.4444444444444444,
              "#bd3786"
             ],
             [
              0.5555555555555556,
              "#d8576b"
             ],
             [
              0.6666666666666666,
              "#ed7953"
             ],
             [
              0.7777777777777778,
              "#fb9f3a"
             ],
             [
              0.8888888888888888,
              "#fdca26"
             ],
             [
              1,
              "#f0f921"
             ]
            ],
            "type": "histogram2d"
           }
          ],
          "histogram2dcontour": [
           {
            "colorbar": {
             "outlinewidth": 0,
             "ticks": ""
            },
            "colorscale": [
             [
              0,
              "#0d0887"
             ],
             [
              0.1111111111111111,
              "#46039f"
             ],
             [
              0.2222222222222222,
              "#7201a8"
             ],
             [
              0.3333333333333333,
              "#9c179e"
             ],
             [
              0.4444444444444444,
              "#bd3786"
             ],
             [
              0.5555555555555556,
              "#d8576b"
             ],
             [
              0.6666666666666666,
              "#ed7953"
             ],
             [
              0.7777777777777778,
              "#fb9f3a"
             ],
             [
              0.8888888888888888,
              "#fdca26"
             ],
             [
              1,
              "#f0f921"
             ]
            ],
            "type": "histogram2dcontour"
           }
          ],
          "mesh3d": [
           {
            "colorbar": {
             "outlinewidth": 0,
             "ticks": ""
            },
            "type": "mesh3d"
           }
          ],
          "parcoords": [
           {
            "line": {
             "colorbar": {
              "outlinewidth": 0,
              "ticks": ""
             }
            },
            "type": "parcoords"
           }
          ],
          "pie": [
           {
            "automargin": true,
            "type": "pie"
           }
          ],
          "scatter": [
           {
            "marker": {
             "colorbar": {
              "outlinewidth": 0,
              "ticks": ""
             }
            },
            "type": "scatter"
           }
          ],
          "scatter3d": [
           {
            "line": {
             "colorbar": {
              "outlinewidth": 0,
              "ticks": ""
             }
            },
            "marker": {
             "colorbar": {
              "outlinewidth": 0,
              "ticks": ""
             }
            },
            "type": "scatter3d"
           }
          ],
          "scattercarpet": [
           {
            "marker": {
             "colorbar": {
              "outlinewidth": 0,
              "ticks": ""
             }
            },
            "type": "scattercarpet"
           }
          ],
          "scattergeo": [
           {
            "marker": {
             "colorbar": {
              "outlinewidth": 0,
              "ticks": ""
             }
            },
            "type": "scattergeo"
           }
          ],
          "scattergl": [
           {
            "marker": {
             "colorbar": {
              "outlinewidth": 0,
              "ticks": ""
             }
            },
            "type": "scattergl"
           }
          ],
          "scattermapbox": [
           {
            "marker": {
             "colorbar": {
              "outlinewidth": 0,
              "ticks": ""
             }
            },
            "type": "scattermapbox"
           }
          ],
          "scatterpolar": [
           {
            "marker": {
             "colorbar": {
              "outlinewidth": 0,
              "ticks": ""
             }
            },
            "type": "scatterpolar"
           }
          ],
          "scatterpolargl": [
           {
            "marker": {
             "colorbar": {
              "outlinewidth": 0,
              "ticks": ""
             }
            },
            "type": "scatterpolargl"
           }
          ],
          "scatterternary": [
           {
            "marker": {
             "colorbar": {
              "outlinewidth": 0,
              "ticks": ""
             }
            },
            "type": "scatterternary"
           }
          ],
          "surface": [
           {
            "colorbar": {
             "outlinewidth": 0,
             "ticks": ""
            },
            "colorscale": [
             [
              0,
              "#0d0887"
             ],
             [
              0.1111111111111111,
              "#46039f"
             ],
             [
              0.2222222222222222,
              "#7201a8"
             ],
             [
              0.3333333333333333,
              "#9c179e"
             ],
             [
              0.4444444444444444,
              "#bd3786"
             ],
             [
              0.5555555555555556,
              "#d8576b"
             ],
             [
              0.6666666666666666,
              "#ed7953"
             ],
             [
              0.7777777777777778,
              "#fb9f3a"
             ],
             [
              0.8888888888888888,
              "#fdca26"
             ],
             [
              1,
              "#f0f921"
             ]
            ],
            "type": "surface"
           }
          ],
          "table": [
           {
            "cells": {
             "fill": {
              "color": "#EBF0F8"
             },
             "line": {
              "color": "white"
             }
            },
            "header": {
             "fill": {
              "color": "#C8D4E3"
             },
             "line": {
              "color": "white"
             }
            },
            "type": "table"
           }
          ]
         },
         "layout": {
          "annotationdefaults": {
           "arrowcolor": "#2a3f5f",
           "arrowhead": 0,
           "arrowwidth": 1
          },
          "autotypenumbers": "strict",
          "coloraxis": {
           "colorbar": {
            "outlinewidth": 0,
            "ticks": ""
           }
          },
          "colorscale": {
           "diverging": [
            [
             0,
             "#8e0152"
            ],
            [
             0.1,
             "#c51b7d"
            ],
            [
             0.2,
             "#de77ae"
            ],
            [
             0.3,
             "#f1b6da"
            ],
            [
             0.4,
             "#fde0ef"
            ],
            [
             0.5,
             "#f7f7f7"
            ],
            [
             0.6,
             "#e6f5d0"
            ],
            [
             0.7,
             "#b8e186"
            ],
            [
             0.8,
             "#7fbc41"
            ],
            [
             0.9,
             "#4d9221"
            ],
            [
             1,
             "#276419"
            ]
           ],
           "sequential": [
            [
             0,
             "#0d0887"
            ],
            [
             0.1111111111111111,
             "#46039f"
            ],
            [
             0.2222222222222222,
             "#7201a8"
            ],
            [
             0.3333333333333333,
             "#9c179e"
            ],
            [
             0.4444444444444444,
             "#bd3786"
            ],
            [
             0.5555555555555556,
             "#d8576b"
            ],
            [
             0.6666666666666666,
             "#ed7953"
            ],
            [
             0.7777777777777778,
             "#fb9f3a"
            ],
            [
             0.8888888888888888,
             "#fdca26"
            ],
            [
             1,
             "#f0f921"
            ]
           ],
           "sequentialminus": [
            [
             0,
             "#0d0887"
            ],
            [
             0.1111111111111111,
             "#46039f"
            ],
            [
             0.2222222222222222,
             "#7201a8"
            ],
            [
             0.3333333333333333,
             "#9c179e"
            ],
            [
             0.4444444444444444,
             "#bd3786"
            ],
            [
             0.5555555555555556,
             "#d8576b"
            ],
            [
             0.6666666666666666,
             "#ed7953"
            ],
            [
             0.7777777777777778,
             "#fb9f3a"
            ],
            [
             0.8888888888888888,
             "#fdca26"
            ],
            [
             1,
             "#f0f921"
            ]
           ]
          },
          "colorway": [
           "#636efa",
           "#EF553B",
           "#00cc96",
           "#ab63fa",
           "#FFA15A",
           "#19d3f3",
           "#FF6692",
           "#B6E880",
           "#FF97FF",
           "#FECB52"
          ],
          "font": {
           "color": "#2a3f5f"
          },
          "geo": {
           "bgcolor": "white",
           "lakecolor": "white",
           "landcolor": "#E5ECF6",
           "showlakes": true,
           "showland": true,
           "subunitcolor": "white"
          },
          "hoverlabel": {
           "align": "left"
          },
          "hovermode": "closest",
          "mapbox": {
           "style": "light"
          },
          "paper_bgcolor": "white",
          "plot_bgcolor": "#E5ECF6",
          "polar": {
           "angularaxis": {
            "gridcolor": "white",
            "linecolor": "white",
            "ticks": ""
           },
           "bgcolor": "#E5ECF6",
           "radialaxis": {
            "gridcolor": "white",
            "linecolor": "white",
            "ticks": ""
           }
          },
          "scene": {
           "xaxis": {
            "backgroundcolor": "#E5ECF6",
            "gridcolor": "white",
            "gridwidth": 2,
            "linecolor": "white",
            "showbackground": true,
            "ticks": "",
            "zerolinecolor": "white"
           },
           "yaxis": {
            "backgroundcolor": "#E5ECF6",
            "gridcolor": "white",
            "gridwidth": 2,
            "linecolor": "white",
            "showbackground": true,
            "ticks": "",
            "zerolinecolor": "white"
           },
           "zaxis": {
            "backgroundcolor": "#E5ECF6",
            "gridcolor": "white",
            "gridwidth": 2,
            "linecolor": "white",
            "showbackground": true,
            "ticks": "",
            "zerolinecolor": "white"
           }
          },
          "shapedefaults": {
           "line": {
            "color": "#2a3f5f"
           }
          },
          "ternary": {
           "aaxis": {
            "gridcolor": "white",
            "linecolor": "white",
            "ticks": ""
           },
           "baxis": {
            "gridcolor": "white",
            "linecolor": "white",
            "ticks": ""
           },
           "bgcolor": "#E5ECF6",
           "caxis": {
            "gridcolor": "white",
            "linecolor": "white",
            "ticks": ""
           }
          },
          "title": {
           "x": 0.05
          },
          "xaxis": {
           "automargin": true,
           "gridcolor": "white",
           "linecolor": "white",
           "ticks": "",
           "title": {
            "standoff": 15
           },
           "zerolinecolor": "white",
           "zerolinewidth": 2
          },
          "yaxis": {
           "automargin": true,
           "gridcolor": "white",
           "linecolor": "white",
           "ticks": "",
           "title": {
            "standoff": 15
           },
           "zerolinecolor": "white",
           "zerolinewidth": 2
          }
         }
        }
       }
      },
      "text/html": [
       "<div>                            <div id=\"8f5b5e22-4303-4f84-ad7b-b46c87f66799\" class=\"plotly-graph-div\" style=\"height:525px; width:100%;\"></div>            <script type=\"text/javascript\">                require([\"plotly\"], function(Plotly) {                    window.PLOTLYENV=window.PLOTLYENV || {};                                    if (document.getElementById(\"8f5b5e22-4303-4f84-ad7b-b46c87f66799\")) {                    Plotly.newPlot(                        \"8f5b5e22-4303-4f84-ad7b-b46c87f66799\",                        [{\"lat\": [55.5, 40.5, 55.5, 40.5], \"lon\": [17.5, 17.5, -5, -5], \"marker\": {\"color\": \"rgb(255, 0, 0)\", \"line\": {\"color\": \"rgba(68, 68, 68, 0)\", \"width\": 3}, \"size\": 7}, \"mode\": \"markers\", \"type\": \"scattergeo\"}],                        {\"geo\": {\"scope\": \"europe\"}, \"template\": {\"data\": {\"bar\": [{\"error_x\": {\"color\": \"#2a3f5f\"}, \"error_y\": {\"color\": \"#2a3f5f\"}, \"marker\": {\"line\": {\"color\": \"#E5ECF6\", \"width\": 0.5}}, \"type\": \"bar\"}], \"barpolar\": [{\"marker\": {\"line\": {\"color\": \"#E5ECF6\", \"width\": 0.5}}, \"type\": \"barpolar\"}], \"carpet\": [{\"aaxis\": {\"endlinecolor\": \"#2a3f5f\", \"gridcolor\": \"white\", \"linecolor\": \"white\", \"minorgridcolor\": \"white\", \"startlinecolor\": \"#2a3f5f\"}, \"baxis\": {\"endlinecolor\": \"#2a3f5f\", \"gridcolor\": \"white\", \"linecolor\": \"white\", \"minorgridcolor\": \"white\", \"startlinecolor\": \"#2a3f5f\"}, \"type\": \"carpet\"}], \"choropleth\": [{\"colorbar\": {\"outlinewidth\": 0, \"ticks\": \"\"}, \"type\": \"choropleth\"}], \"contour\": [{\"colorbar\": {\"outlinewidth\": 0, \"ticks\": \"\"}, \"colorscale\": [[0.0, \"#0d0887\"], [0.1111111111111111, \"#46039f\"], [0.2222222222222222, \"#7201a8\"], [0.3333333333333333, \"#9c179e\"], [0.4444444444444444, \"#bd3786\"], [0.5555555555555556, \"#d8576b\"], [0.6666666666666666, \"#ed7953\"], [0.7777777777777778, \"#fb9f3a\"], [0.8888888888888888, \"#fdca26\"], [1.0, \"#f0f921\"]], \"type\": \"contour\"}], \"contourcarpet\": [{\"colorbar\": {\"outlinewidth\": 0, \"ticks\": \"\"}, \"type\": \"contourcarpet\"}], \"heatmap\": [{\"colorbar\": {\"outlinewidth\": 0, \"ticks\": \"\"}, \"colorscale\": [[0.0, \"#0d0887\"], [0.1111111111111111, \"#46039f\"], [0.2222222222222222, \"#7201a8\"], [0.3333333333333333, \"#9c179e\"], [0.4444444444444444, \"#bd3786\"], [0.5555555555555556, \"#d8576b\"], [0.6666666666666666, \"#ed7953\"], [0.7777777777777778, \"#fb9f3a\"], [0.8888888888888888, \"#fdca26\"], [1.0, \"#f0f921\"]], \"type\": \"heatmap\"}], \"heatmapgl\": [{\"colorbar\": {\"outlinewidth\": 0, \"ticks\": \"\"}, \"colorscale\": [[0.0, \"#0d0887\"], [0.1111111111111111, \"#46039f\"], [0.2222222222222222, \"#7201a8\"], [0.3333333333333333, \"#9c179e\"], [0.4444444444444444, \"#bd3786\"], [0.5555555555555556, \"#d8576b\"], [0.6666666666666666, \"#ed7953\"], [0.7777777777777778, \"#fb9f3a\"], [0.8888888888888888, \"#fdca26\"], [1.0, \"#f0f921\"]], \"type\": \"heatmapgl\"}], \"histogram\": [{\"marker\": {\"colorbar\": {\"outlinewidth\": 0, \"ticks\": \"\"}}, \"type\": \"histogram\"}], \"histogram2d\": [{\"colorbar\": {\"outlinewidth\": 0, \"ticks\": \"\"}, \"colorscale\": [[0.0, \"#0d0887\"], [0.1111111111111111, \"#46039f\"], [0.2222222222222222, \"#7201a8\"], [0.3333333333333333, \"#9c179e\"], [0.4444444444444444, \"#bd3786\"], [0.5555555555555556, \"#d8576b\"], [0.6666666666666666, \"#ed7953\"], [0.7777777777777778, \"#fb9f3a\"], [0.8888888888888888, \"#fdca26\"], [1.0, \"#f0f921\"]], \"type\": \"histogram2d\"}], \"histogram2dcontour\": [{\"colorbar\": {\"outlinewidth\": 0, \"ticks\": \"\"}, \"colorscale\": [[0.0, \"#0d0887\"], [0.1111111111111111, \"#46039f\"], [0.2222222222222222, \"#7201a8\"], [0.3333333333333333, \"#9c179e\"], [0.4444444444444444, \"#bd3786\"], [0.5555555555555556, \"#d8576b\"], [0.6666666666666666, \"#ed7953\"], [0.7777777777777778, \"#fb9f3a\"], [0.8888888888888888, \"#fdca26\"], [1.0, \"#f0f921\"]], \"type\": \"histogram2dcontour\"}], \"mesh3d\": [{\"colorbar\": {\"outlinewidth\": 0, \"ticks\": \"\"}, \"type\": \"mesh3d\"}], \"parcoords\": [{\"line\": {\"colorbar\": {\"outlinewidth\": 0, \"ticks\": \"\"}}, \"type\": \"parcoords\"}], \"pie\": [{\"automargin\": true, \"type\": \"pie\"}], \"scatter\": [{\"marker\": {\"colorbar\": {\"outlinewidth\": 0, \"ticks\": \"\"}}, \"type\": \"scatter\"}], \"scatter3d\": [{\"line\": {\"colorbar\": {\"outlinewidth\": 0, \"ticks\": \"\"}}, \"marker\": {\"colorbar\": {\"outlinewidth\": 0, \"ticks\": \"\"}}, \"type\": \"scatter3d\"}], \"scattercarpet\": [{\"marker\": {\"colorbar\": {\"outlinewidth\": 0, \"ticks\": \"\"}}, \"type\": \"scattercarpet\"}], \"scattergeo\": [{\"marker\": {\"colorbar\": {\"outlinewidth\": 0, \"ticks\": \"\"}}, \"type\": \"scattergeo\"}], \"scattergl\": [{\"marker\": {\"colorbar\": {\"outlinewidth\": 0, \"ticks\": \"\"}}, \"type\": \"scattergl\"}], \"scattermapbox\": [{\"marker\": {\"colorbar\": {\"outlinewidth\": 0, \"ticks\": \"\"}}, \"type\": \"scattermapbox\"}], \"scatterpolar\": [{\"marker\": {\"colorbar\": {\"outlinewidth\": 0, \"ticks\": \"\"}}, \"type\": \"scatterpolar\"}], \"scatterpolargl\": [{\"marker\": {\"colorbar\": {\"outlinewidth\": 0, \"ticks\": \"\"}}, \"type\": \"scatterpolargl\"}], \"scatterternary\": [{\"marker\": {\"colorbar\": {\"outlinewidth\": 0, \"ticks\": \"\"}}, \"type\": \"scatterternary\"}], \"surface\": [{\"colorbar\": {\"outlinewidth\": 0, \"ticks\": \"\"}, \"colorscale\": [[0.0, \"#0d0887\"], [0.1111111111111111, \"#46039f\"], [0.2222222222222222, \"#7201a8\"], [0.3333333333333333, \"#9c179e\"], [0.4444444444444444, \"#bd3786\"], [0.5555555555555556, \"#d8576b\"], [0.6666666666666666, \"#ed7953\"], [0.7777777777777778, \"#fb9f3a\"], [0.8888888888888888, \"#fdca26\"], [1.0, \"#f0f921\"]], \"type\": \"surface\"}], \"table\": [{\"cells\": {\"fill\": {\"color\": \"#EBF0F8\"}, \"line\": {\"color\": \"white\"}}, \"header\": {\"fill\": {\"color\": \"#C8D4E3\"}, \"line\": {\"color\": \"white\"}}, \"type\": \"table\"}]}, \"layout\": {\"annotationdefaults\": {\"arrowcolor\": \"#2a3f5f\", \"arrowhead\": 0, \"arrowwidth\": 1}, \"autotypenumbers\": \"strict\", \"coloraxis\": {\"colorbar\": {\"outlinewidth\": 0, \"ticks\": \"\"}}, \"colorscale\": {\"diverging\": [[0, \"#8e0152\"], [0.1, \"#c51b7d\"], [0.2, \"#de77ae\"], [0.3, \"#f1b6da\"], [0.4, \"#fde0ef\"], [0.5, \"#f7f7f7\"], [0.6, \"#e6f5d0\"], [0.7, \"#b8e186\"], [0.8, \"#7fbc41\"], [0.9, \"#4d9221\"], [1, \"#276419\"]], \"sequential\": [[0.0, \"#0d0887\"], [0.1111111111111111, \"#46039f\"], [0.2222222222222222, \"#7201a8\"], [0.3333333333333333, \"#9c179e\"], [0.4444444444444444, \"#bd3786\"], [0.5555555555555556, \"#d8576b\"], [0.6666666666666666, \"#ed7953\"], [0.7777777777777778, \"#fb9f3a\"], [0.8888888888888888, \"#fdca26\"], [1.0, \"#f0f921\"]], \"sequentialminus\": [[0.0, \"#0d0887\"], [0.1111111111111111, \"#46039f\"], [0.2222222222222222, \"#7201a8\"], [0.3333333333333333, \"#9c179e\"], [0.4444444444444444, \"#bd3786\"], [0.5555555555555556, \"#d8576b\"], [0.6666666666666666, \"#ed7953\"], [0.7777777777777778, \"#fb9f3a\"], [0.8888888888888888, \"#fdca26\"], [1.0, \"#f0f921\"]]}, \"colorway\": [\"#636efa\", \"#EF553B\", \"#00cc96\", \"#ab63fa\", \"#FFA15A\", \"#19d3f3\", \"#FF6692\", \"#B6E880\", \"#FF97FF\", \"#FECB52\"], \"font\": {\"color\": \"#2a3f5f\"}, \"geo\": {\"bgcolor\": \"white\", \"lakecolor\": \"white\", \"landcolor\": \"#E5ECF6\", \"showlakes\": true, \"showland\": true, \"subunitcolor\": \"white\"}, \"hoverlabel\": {\"align\": \"left\"}, \"hovermode\": \"closest\", \"mapbox\": {\"style\": \"light\"}, \"paper_bgcolor\": \"white\", \"plot_bgcolor\": \"#E5ECF6\", \"polar\": {\"angularaxis\": {\"gridcolor\": \"white\", \"linecolor\": \"white\", \"ticks\": \"\"}, \"bgcolor\": \"#E5ECF6\", \"radialaxis\": {\"gridcolor\": \"white\", \"linecolor\": \"white\", \"ticks\": \"\"}}, \"scene\": {\"xaxis\": {\"backgroundcolor\": \"#E5ECF6\", \"gridcolor\": \"white\", \"gridwidth\": 2, \"linecolor\": \"white\", \"showbackground\": true, \"ticks\": \"\", \"zerolinecolor\": \"white\"}, \"yaxis\": {\"backgroundcolor\": \"#E5ECF6\", \"gridcolor\": \"white\", \"gridwidth\": 2, \"linecolor\": \"white\", \"showbackground\": true, \"ticks\": \"\", \"zerolinecolor\": \"white\"}, \"zaxis\": {\"backgroundcolor\": \"#E5ECF6\", \"gridcolor\": \"white\", \"gridwidth\": 2, \"linecolor\": \"white\", \"showbackground\": true, \"ticks\": \"\", \"zerolinecolor\": \"white\"}}, \"shapedefaults\": {\"line\": {\"color\": \"#2a3f5f\"}}, \"ternary\": {\"aaxis\": {\"gridcolor\": \"white\", \"linecolor\": \"white\", \"ticks\": \"\"}, \"baxis\": {\"gridcolor\": \"white\", \"linecolor\": \"white\", \"ticks\": \"\"}, \"bgcolor\": \"#E5ECF6\", \"caxis\": {\"gridcolor\": \"white\", \"linecolor\": \"white\", \"ticks\": \"\"}}, \"title\": {\"x\": 0.05}, \"xaxis\": {\"automargin\": true, \"gridcolor\": \"white\", \"linecolor\": \"white\", \"ticks\": \"\", \"title\": {\"standoff\": 15}, \"zerolinecolor\": \"white\", \"zerolinewidth\": 2}, \"yaxis\": {\"automargin\": true, \"gridcolor\": \"white\", \"linecolor\": \"white\", \"ticks\": \"\", \"title\": {\"standoff\": 15}, \"zerolinecolor\": \"white\", \"zerolinewidth\": 2}}}},                        {\"responsive\": true}                    ).then(function(){\n",
       "                            \n",
       "var gd = document.getElementById('8f5b5e22-4303-4f84-ad7b-b46c87f66799');\n",
       "var x = new MutationObserver(function (mutations, observer) {{\n",
       "        var display = window.getComputedStyle(gd).display;\n",
       "        if (!display || display === 'none') {{\n",
       "            console.log([gd, 'removed!']);\n",
       "            Plotly.purge(gd);\n",
       "            observer.disconnect();\n",
       "        }}\n",
       "}});\n",
       "\n",
       "// Listen for the removal of the full notebook cells\n",
       "var notebookContainer = gd.closest('#notebook-container');\n",
       "if (notebookContainer) {{\n",
       "    x.observe(notebookContainer, {childList: true});\n",
       "}}\n",
       "\n",
       "// Listen for the clearing of the current output cell\n",
       "var outputEl = gd.closest('.output');\n",
       "if (outputEl) {{\n",
       "    x.observe(outputEl, {childList: true});\n",
       "}}\n",
       "\n",
       "                        })                };                });            </script>        </div>"
      ]
     },
     "metadata": {},
     "output_type": "display_data"
    }
   ],
   "source": [
    "fig = go.Figure()\n",
    "\n",
    "long_value = [17.5, 17.5, -5, -5]\n",
    "lat_value = [55.5, 40.5, 55.5, 40.5]\n",
    "\n",
    "fig.add_trace(go.Scattergeo(\n",
    "    lon = long_value,\n",
    "    lat = lat_value,\n",
    "    mode = 'markers',\n",
    "    marker = dict(\n",
    "        size = 7,\n",
    "        color = 'rgb(255, 0, 0)',\n",
    "        line = dict(\n",
    "            width = 3,\n",
    "            color = 'rgba(68, 68, 68, 0)'\n",
    "        )\n",
    "    )\n",
    "))\n",
    "fig.update_layout(\n",
    "        geo_scope='europe',\n",
    "    )\n",
    "fig.show()"
   ]
  },
  {
   "cell_type": "markdown",
   "id": "fadcce97",
   "metadata": {},
   "source": [
    "To make sure that we take the correct values from the matrix, plot both the real world coordinates (that serve as the boundary for the area we consider) and the indexes we use to take the data from our numpy array (that serve as the \"boundary\" for the part of the matrix we consider.\n",
    "We can see, that the following two plots match. Hence, the indexes 136x700 - 196x790 can to slice the data necessary for us from all data arrays."
   ]
  },
  {
   "cell_type": "code",
   "execution_count": 50,
   "id": "14ed2402",
   "metadata": {},
   "outputs": [
    {
     "data": {
      "application/vnd.plotly.v1+json": {
       "config": {
        "plotlyServerURL": "https://plot.ly"
       },
       "data": [
        {
         "lat": [
          55.5,
          40.5,
          55.5,
          40.5
         ],
         "lon": [
          17.5,
          17.5,
          -5,
          -5
         ],
         "marker": {
          "color": "rgb(255, 0, 0)",
          "line": {
           "color": "rgba(68, 68, 68, 0)",
           "width": 3
          },
          "size": 7
         },
         "mode": "markers",
         "type": "scattergeo"
        }
       ],
       "layout": {
        "template": {
         "data": {
          "bar": [
           {
            "error_x": {
             "color": "#2a3f5f"
            },
            "error_y": {
             "color": "#2a3f5f"
            },
            "marker": {
             "line": {
              "color": "#E5ECF6",
              "width": 0.5
             }
            },
            "type": "bar"
           }
          ],
          "barpolar": [
           {
            "marker": {
             "line": {
              "color": "#E5ECF6",
              "width": 0.5
             }
            },
            "type": "barpolar"
           }
          ],
          "carpet": [
           {
            "aaxis": {
             "endlinecolor": "#2a3f5f",
             "gridcolor": "white",
             "linecolor": "white",
             "minorgridcolor": "white",
             "startlinecolor": "#2a3f5f"
            },
            "baxis": {
             "endlinecolor": "#2a3f5f",
             "gridcolor": "white",
             "linecolor": "white",
             "minorgridcolor": "white",
             "startlinecolor": "#2a3f5f"
            },
            "type": "carpet"
           }
          ],
          "choropleth": [
           {
            "colorbar": {
             "outlinewidth": 0,
             "ticks": ""
            },
            "type": "choropleth"
           }
          ],
          "contour": [
           {
            "colorbar": {
             "outlinewidth": 0,
             "ticks": ""
            },
            "colorscale": [
             [
              0,
              "#0d0887"
             ],
             [
              0.1111111111111111,
              "#46039f"
             ],
             [
              0.2222222222222222,
              "#7201a8"
             ],
             [
              0.3333333333333333,
              "#9c179e"
             ],
             [
              0.4444444444444444,
              "#bd3786"
             ],
             [
              0.5555555555555556,
              "#d8576b"
             ],
             [
              0.6666666666666666,
              "#ed7953"
             ],
             [
              0.7777777777777778,
              "#fb9f3a"
             ],
             [
              0.8888888888888888,
              "#fdca26"
             ],
             [
              1,
              "#f0f921"
             ]
            ],
            "type": "contour"
           }
          ],
          "contourcarpet": [
           {
            "colorbar": {
             "outlinewidth": 0,
             "ticks": ""
            },
            "type": "contourcarpet"
           }
          ],
          "heatmap": [
           {
            "colorbar": {
             "outlinewidth": 0,
             "ticks": ""
            },
            "colorscale": [
             [
              0,
              "#0d0887"
             ],
             [
              0.1111111111111111,
              "#46039f"
             ],
             [
              0.2222222222222222,
              "#7201a8"
             ],
             [
              0.3333333333333333,
              "#9c179e"
             ],
             [
              0.4444444444444444,
              "#bd3786"
             ],
             [
              0.5555555555555556,
              "#d8576b"
             ],
             [
              0.6666666666666666,
              "#ed7953"
             ],
             [
              0.7777777777777778,
              "#fb9f3a"
             ],
             [
              0.8888888888888888,
              "#fdca26"
             ],
             [
              1,
              "#f0f921"
             ]
            ],
            "type": "heatmap"
           }
          ],
          "heatmapgl": [
           {
            "colorbar": {
             "outlinewidth": 0,
             "ticks": ""
            },
            "colorscale": [
             [
              0,
              "#0d0887"
             ],
             [
              0.1111111111111111,
              "#46039f"
             ],
             [
              0.2222222222222222,
              "#7201a8"
             ],
             [
              0.3333333333333333,
              "#9c179e"
             ],
             [
              0.4444444444444444,
              "#bd3786"
             ],
             [
              0.5555555555555556,
              "#d8576b"
             ],
             [
              0.6666666666666666,
              "#ed7953"
             ],
             [
              0.7777777777777778,
              "#fb9f3a"
             ],
             [
              0.8888888888888888,
              "#fdca26"
             ],
             [
              1,
              "#f0f921"
             ]
            ],
            "type": "heatmapgl"
           }
          ],
          "histogram": [
           {
            "marker": {
             "colorbar": {
              "outlinewidth": 0,
              "ticks": ""
             }
            },
            "type": "histogram"
           }
          ],
          "histogram2d": [
           {
            "colorbar": {
             "outlinewidth": 0,
             "ticks": ""
            },
            "colorscale": [
             [
              0,
              "#0d0887"
             ],
             [
              0.1111111111111111,
              "#46039f"
             ],
             [
              0.2222222222222222,
              "#7201a8"
             ],
             [
              0.3333333333333333,
              "#9c179e"
             ],
             [
              0.4444444444444444,
              "#bd3786"
             ],
             [
              0.5555555555555556,
              "#d8576b"
             ],
             [
              0.6666666666666666,
              "#ed7953"
             ],
             [
              0.7777777777777778,
              "#fb9f3a"
             ],
             [
              0.8888888888888888,
              "#fdca26"
             ],
             [
              1,
              "#f0f921"
             ]
            ],
            "type": "histogram2d"
           }
          ],
          "histogram2dcontour": [
           {
            "colorbar": {
             "outlinewidth": 0,
             "ticks": ""
            },
            "colorscale": [
             [
              0,
              "#0d0887"
             ],
             [
              0.1111111111111111,
              "#46039f"
             ],
             [
              0.2222222222222222,
              "#7201a8"
             ],
             [
              0.3333333333333333,
              "#9c179e"
             ],
             [
              0.4444444444444444,
              "#bd3786"
             ],
             [
              0.5555555555555556,
              "#d8576b"
             ],
             [
              0.6666666666666666,
              "#ed7953"
             ],
             [
              0.7777777777777778,
              "#fb9f3a"
             ],
             [
              0.8888888888888888,
              "#fdca26"
             ],
             [
              1,
              "#f0f921"
             ]
            ],
            "type": "histogram2dcontour"
           }
          ],
          "mesh3d": [
           {
            "colorbar": {
             "outlinewidth": 0,
             "ticks": ""
            },
            "type": "mesh3d"
           }
          ],
          "parcoords": [
           {
            "line": {
             "colorbar": {
              "outlinewidth": 0,
              "ticks": ""
             }
            },
            "type": "parcoords"
           }
          ],
          "pie": [
           {
            "automargin": true,
            "type": "pie"
           }
          ],
          "scatter": [
           {
            "marker": {
             "colorbar": {
              "outlinewidth": 0,
              "ticks": ""
             }
            },
            "type": "scatter"
           }
          ],
          "scatter3d": [
           {
            "line": {
             "colorbar": {
              "outlinewidth": 0,
              "ticks": ""
             }
            },
            "marker": {
             "colorbar": {
              "outlinewidth": 0,
              "ticks": ""
             }
            },
            "type": "scatter3d"
           }
          ],
          "scattercarpet": [
           {
            "marker": {
             "colorbar": {
              "outlinewidth": 0,
              "ticks": ""
             }
            },
            "type": "scattercarpet"
           }
          ],
          "scattergeo": [
           {
            "marker": {
             "colorbar": {
              "outlinewidth": 0,
              "ticks": ""
             }
            },
            "type": "scattergeo"
           }
          ],
          "scattergl": [
           {
            "marker": {
             "colorbar": {
              "outlinewidth": 0,
              "ticks": ""
             }
            },
            "type": "scattergl"
           }
          ],
          "scattermapbox": [
           {
            "marker": {
             "colorbar": {
              "outlinewidth": 0,
              "ticks": ""
             }
            },
            "type": "scattermapbox"
           }
          ],
          "scatterpolar": [
           {
            "marker": {
             "colorbar": {
              "outlinewidth": 0,
              "ticks": ""
             }
            },
            "type": "scatterpolar"
           }
          ],
          "scatterpolargl": [
           {
            "marker": {
             "colorbar": {
              "outlinewidth": 0,
              "ticks": ""
             }
            },
            "type": "scatterpolargl"
           }
          ],
          "scatterternary": [
           {
            "marker": {
             "colorbar": {
              "outlinewidth": 0,
              "ticks": ""
             }
            },
            "type": "scatterternary"
           }
          ],
          "surface": [
           {
            "colorbar": {
             "outlinewidth": 0,
             "ticks": ""
            },
            "colorscale": [
             [
              0,
              "#0d0887"
             ],
             [
              0.1111111111111111,
              "#46039f"
             ],
             [
              0.2222222222222222,
              "#7201a8"
             ],
             [
              0.3333333333333333,
              "#9c179e"
             ],
             [
              0.4444444444444444,
              "#bd3786"
             ],
             [
              0.5555555555555556,
              "#d8576b"
             ],
             [
              0.6666666666666666,
              "#ed7953"
             ],
             [
              0.7777777777777778,
              "#fb9f3a"
             ],
             [
              0.8888888888888888,
              "#fdca26"
             ],
             [
              1,
              "#f0f921"
             ]
            ],
            "type": "surface"
           }
          ],
          "table": [
           {
            "cells": {
             "fill": {
              "color": "#EBF0F8"
             },
             "line": {
              "color": "white"
             }
            },
            "header": {
             "fill": {
              "color": "#C8D4E3"
             },
             "line": {
              "color": "white"
             }
            },
            "type": "table"
           }
          ]
         },
         "layout": {
          "annotationdefaults": {
           "arrowcolor": "#2a3f5f",
           "arrowhead": 0,
           "arrowwidth": 1
          },
          "autotypenumbers": "strict",
          "coloraxis": {
           "colorbar": {
            "outlinewidth": 0,
            "ticks": ""
           }
          },
          "colorscale": {
           "diverging": [
            [
             0,
             "#8e0152"
            ],
            [
             0.1,
             "#c51b7d"
            ],
            [
             0.2,
             "#de77ae"
            ],
            [
             0.3,
             "#f1b6da"
            ],
            [
             0.4,
             "#fde0ef"
            ],
            [
             0.5,
             "#f7f7f7"
            ],
            [
             0.6,
             "#e6f5d0"
            ],
            [
             0.7,
             "#b8e186"
            ],
            [
             0.8,
             "#7fbc41"
            ],
            [
             0.9,
             "#4d9221"
            ],
            [
             1,
             "#276419"
            ]
           ],
           "sequential": [
            [
             0,
             "#0d0887"
            ],
            [
             0.1111111111111111,
             "#46039f"
            ],
            [
             0.2222222222222222,
             "#7201a8"
            ],
            [
             0.3333333333333333,
             "#9c179e"
            ],
            [
             0.4444444444444444,
             "#bd3786"
            ],
            [
             0.5555555555555556,
             "#d8576b"
            ],
            [
             0.6666666666666666,
             "#ed7953"
            ],
            [
             0.7777777777777778,
             "#fb9f3a"
            ],
            [
             0.8888888888888888,
             "#fdca26"
            ],
            [
             1,
             "#f0f921"
            ]
           ],
           "sequentialminus": [
            [
             0,
             "#0d0887"
            ],
            [
             0.1111111111111111,
             "#46039f"
            ],
            [
             0.2222222222222222,
             "#7201a8"
            ],
            [
             0.3333333333333333,
             "#9c179e"
            ],
            [
             0.4444444444444444,
             "#bd3786"
            ],
            [
             0.5555555555555556,
             "#d8576b"
            ],
            [
             0.6666666666666666,
             "#ed7953"
            ],
            [
             0.7777777777777778,
             "#fb9f3a"
            ],
            [
             0.8888888888888888,
             "#fdca26"
            ],
            [
             1,
             "#f0f921"
            ]
           ]
          },
          "colorway": [
           "#636efa",
           "#EF553B",
           "#00cc96",
           "#ab63fa",
           "#FFA15A",
           "#19d3f3",
           "#FF6692",
           "#B6E880",
           "#FF97FF",
           "#FECB52"
          ],
          "font": {
           "color": "#2a3f5f"
          },
          "geo": {
           "bgcolor": "white",
           "lakecolor": "white",
           "landcolor": "#E5ECF6",
           "showlakes": true,
           "showland": true,
           "subunitcolor": "white"
          },
          "hoverlabel": {
           "align": "left"
          },
          "hovermode": "closest",
          "mapbox": {
           "style": "light"
          },
          "paper_bgcolor": "white",
          "plot_bgcolor": "#E5ECF6",
          "polar": {
           "angularaxis": {
            "gridcolor": "white",
            "linecolor": "white",
            "ticks": ""
           },
           "bgcolor": "#E5ECF6",
           "radialaxis": {
            "gridcolor": "white",
            "linecolor": "white",
            "ticks": ""
           }
          },
          "scene": {
           "xaxis": {
            "backgroundcolor": "#E5ECF6",
            "gridcolor": "white",
            "gridwidth": 2,
            "linecolor": "white",
            "showbackground": true,
            "ticks": "",
            "zerolinecolor": "white"
           },
           "yaxis": {
            "backgroundcolor": "#E5ECF6",
            "gridcolor": "white",
            "gridwidth": 2,
            "linecolor": "white",
            "showbackground": true,
            "ticks": "",
            "zerolinecolor": "white"
           },
           "zaxis": {
            "backgroundcolor": "#E5ECF6",
            "gridcolor": "white",
            "gridwidth": 2,
            "linecolor": "white",
            "showbackground": true,
            "ticks": "",
            "zerolinecolor": "white"
           }
          },
          "shapedefaults": {
           "line": {
            "color": "#2a3f5f"
           }
          },
          "ternary": {
           "aaxis": {
            "gridcolor": "white",
            "linecolor": "white",
            "ticks": ""
           },
           "baxis": {
            "gridcolor": "white",
            "linecolor": "white",
            "ticks": ""
           },
           "bgcolor": "#E5ECF6",
           "caxis": {
            "gridcolor": "white",
            "linecolor": "white",
            "ticks": ""
           }
          },
          "title": {
           "x": 0.05
          },
          "xaxis": {
           "automargin": true,
           "gridcolor": "white",
           "linecolor": "white",
           "ticks": "",
           "title": {
            "standoff": 15
           },
           "zerolinecolor": "white",
           "zerolinewidth": 2
          },
          "yaxis": {
           "automargin": true,
           "gridcolor": "white",
           "linecolor": "white",
           "ticks": "",
           "title": {
            "standoff": 15
           },
           "zerolinecolor": "white",
           "zerolinewidth": 2
          }
         }
        }
       }
      },
      "text/html": [
       "<div>                            <div id=\"c0e22874-5a7e-40ed-8d8e-befac8a80010\" class=\"plotly-graph-div\" style=\"height:525px; width:100%;\"></div>            <script type=\"text/javascript\">                require([\"plotly\"], function(Plotly) {                    window.PLOTLYENV=window.PLOTLYENV || {};                                    if (document.getElementById(\"c0e22874-5a7e-40ed-8d8e-befac8a80010\")) {                    Plotly.newPlot(                        \"c0e22874-5a7e-40ed-8d8e-befac8a80010\",                        [{\"lat\": [55.5, 40.5, 55.5, 40.5], \"lon\": [17.5, 17.5, -5, -5], \"marker\": {\"color\": \"rgb(255, 0, 0)\", \"line\": {\"color\": \"rgba(68, 68, 68, 0)\", \"width\": 3}, \"size\": 7}, \"mode\": \"markers\", \"type\": \"scattergeo\"}],                        {\"template\": {\"data\": {\"bar\": [{\"error_x\": {\"color\": \"#2a3f5f\"}, \"error_y\": {\"color\": \"#2a3f5f\"}, \"marker\": {\"line\": {\"color\": \"#E5ECF6\", \"width\": 0.5}}, \"type\": \"bar\"}], \"barpolar\": [{\"marker\": {\"line\": {\"color\": \"#E5ECF6\", \"width\": 0.5}}, \"type\": \"barpolar\"}], \"carpet\": [{\"aaxis\": {\"endlinecolor\": \"#2a3f5f\", \"gridcolor\": \"white\", \"linecolor\": \"white\", \"minorgridcolor\": \"white\", \"startlinecolor\": \"#2a3f5f\"}, \"baxis\": {\"endlinecolor\": \"#2a3f5f\", \"gridcolor\": \"white\", \"linecolor\": \"white\", \"minorgridcolor\": \"white\", \"startlinecolor\": \"#2a3f5f\"}, \"type\": \"carpet\"}], \"choropleth\": [{\"colorbar\": {\"outlinewidth\": 0, \"ticks\": \"\"}, \"type\": \"choropleth\"}], \"contour\": [{\"colorbar\": {\"outlinewidth\": 0, \"ticks\": \"\"}, \"colorscale\": [[0.0, \"#0d0887\"], [0.1111111111111111, \"#46039f\"], [0.2222222222222222, \"#7201a8\"], [0.3333333333333333, \"#9c179e\"], [0.4444444444444444, \"#bd3786\"], [0.5555555555555556, \"#d8576b\"], [0.6666666666666666, \"#ed7953\"], [0.7777777777777778, \"#fb9f3a\"], [0.8888888888888888, \"#fdca26\"], [1.0, \"#f0f921\"]], \"type\": \"contour\"}], \"contourcarpet\": [{\"colorbar\": {\"outlinewidth\": 0, \"ticks\": \"\"}, \"type\": \"contourcarpet\"}], \"heatmap\": [{\"colorbar\": {\"outlinewidth\": 0, \"ticks\": \"\"}, \"colorscale\": [[0.0, \"#0d0887\"], [0.1111111111111111, \"#46039f\"], [0.2222222222222222, \"#7201a8\"], [0.3333333333333333, \"#9c179e\"], [0.4444444444444444, \"#bd3786\"], [0.5555555555555556, \"#d8576b\"], [0.6666666666666666, \"#ed7953\"], [0.7777777777777778, \"#fb9f3a\"], [0.8888888888888888, \"#fdca26\"], [1.0, \"#f0f921\"]], \"type\": \"heatmap\"}], \"heatmapgl\": [{\"colorbar\": {\"outlinewidth\": 0, \"ticks\": \"\"}, \"colorscale\": [[0.0, \"#0d0887\"], [0.1111111111111111, \"#46039f\"], [0.2222222222222222, \"#7201a8\"], [0.3333333333333333, \"#9c179e\"], [0.4444444444444444, \"#bd3786\"], [0.5555555555555556, \"#d8576b\"], [0.6666666666666666, \"#ed7953\"], [0.7777777777777778, \"#fb9f3a\"], [0.8888888888888888, \"#fdca26\"], [1.0, \"#f0f921\"]], \"type\": \"heatmapgl\"}], \"histogram\": [{\"marker\": {\"colorbar\": {\"outlinewidth\": 0, \"ticks\": \"\"}}, \"type\": \"histogram\"}], \"histogram2d\": [{\"colorbar\": {\"outlinewidth\": 0, \"ticks\": \"\"}, \"colorscale\": [[0.0, \"#0d0887\"], [0.1111111111111111, \"#46039f\"], [0.2222222222222222, \"#7201a8\"], [0.3333333333333333, \"#9c179e\"], [0.4444444444444444, \"#bd3786\"], [0.5555555555555556, \"#d8576b\"], [0.6666666666666666, \"#ed7953\"], [0.7777777777777778, \"#fb9f3a\"], [0.8888888888888888, \"#fdca26\"], [1.0, \"#f0f921\"]], \"type\": \"histogram2d\"}], \"histogram2dcontour\": [{\"colorbar\": {\"outlinewidth\": 0, \"ticks\": \"\"}, \"colorscale\": [[0.0, \"#0d0887\"], [0.1111111111111111, \"#46039f\"], [0.2222222222222222, \"#7201a8\"], [0.3333333333333333, \"#9c179e\"], [0.4444444444444444, \"#bd3786\"], [0.5555555555555556, \"#d8576b\"], [0.6666666666666666, \"#ed7953\"], [0.7777777777777778, \"#fb9f3a\"], [0.8888888888888888, \"#fdca26\"], [1.0, \"#f0f921\"]], \"type\": \"histogram2dcontour\"}], \"mesh3d\": [{\"colorbar\": {\"outlinewidth\": 0, \"ticks\": \"\"}, \"type\": \"mesh3d\"}], \"parcoords\": [{\"line\": {\"colorbar\": {\"outlinewidth\": 0, \"ticks\": \"\"}}, \"type\": \"parcoords\"}], \"pie\": [{\"automargin\": true, \"type\": \"pie\"}], \"scatter\": [{\"marker\": {\"colorbar\": {\"outlinewidth\": 0, \"ticks\": \"\"}}, \"type\": \"scatter\"}], \"scatter3d\": [{\"line\": {\"colorbar\": {\"outlinewidth\": 0, \"ticks\": \"\"}}, \"marker\": {\"colorbar\": {\"outlinewidth\": 0, \"ticks\": \"\"}}, \"type\": \"scatter3d\"}], \"scattercarpet\": [{\"marker\": {\"colorbar\": {\"outlinewidth\": 0, \"ticks\": \"\"}}, \"type\": \"scattercarpet\"}], \"scattergeo\": [{\"marker\": {\"colorbar\": {\"outlinewidth\": 0, \"ticks\": \"\"}}, \"type\": \"scattergeo\"}], \"scattergl\": [{\"marker\": {\"colorbar\": {\"outlinewidth\": 0, \"ticks\": \"\"}}, \"type\": \"scattergl\"}], \"scattermapbox\": [{\"marker\": {\"colorbar\": {\"outlinewidth\": 0, \"ticks\": \"\"}}, \"type\": \"scattermapbox\"}], \"scatterpolar\": [{\"marker\": {\"colorbar\": {\"outlinewidth\": 0, \"ticks\": \"\"}}, \"type\": \"scatterpolar\"}], \"scatterpolargl\": [{\"marker\": {\"colorbar\": {\"outlinewidth\": 0, \"ticks\": \"\"}}, \"type\": \"scatterpolargl\"}], \"scatterternary\": [{\"marker\": {\"colorbar\": {\"outlinewidth\": 0, \"ticks\": \"\"}}, \"type\": \"scatterternary\"}], \"surface\": [{\"colorbar\": {\"outlinewidth\": 0, \"ticks\": \"\"}, \"colorscale\": [[0.0, \"#0d0887\"], [0.1111111111111111, \"#46039f\"], [0.2222222222222222, \"#7201a8\"], [0.3333333333333333, \"#9c179e\"], [0.4444444444444444, \"#bd3786\"], [0.5555555555555556, \"#d8576b\"], [0.6666666666666666, \"#ed7953\"], [0.7777777777777778, \"#fb9f3a\"], [0.8888888888888888, \"#fdca26\"], [1.0, \"#f0f921\"]], \"type\": \"surface\"}], \"table\": [{\"cells\": {\"fill\": {\"color\": \"#EBF0F8\"}, \"line\": {\"color\": \"white\"}}, \"header\": {\"fill\": {\"color\": \"#C8D4E3\"}, \"line\": {\"color\": \"white\"}}, \"type\": \"table\"}]}, \"layout\": {\"annotationdefaults\": {\"arrowcolor\": \"#2a3f5f\", \"arrowhead\": 0, \"arrowwidth\": 1}, \"autotypenumbers\": \"strict\", \"coloraxis\": {\"colorbar\": {\"outlinewidth\": 0, \"ticks\": \"\"}}, \"colorscale\": {\"diverging\": [[0, \"#8e0152\"], [0.1, \"#c51b7d\"], [0.2, \"#de77ae\"], [0.3, \"#f1b6da\"], [0.4, \"#fde0ef\"], [0.5, \"#f7f7f7\"], [0.6, \"#e6f5d0\"], [0.7, \"#b8e186\"], [0.8, \"#7fbc41\"], [0.9, \"#4d9221\"], [1, \"#276419\"]], \"sequential\": [[0.0, \"#0d0887\"], [0.1111111111111111, \"#46039f\"], [0.2222222222222222, \"#7201a8\"], [0.3333333333333333, \"#9c179e\"], [0.4444444444444444, \"#bd3786\"], [0.5555555555555556, \"#d8576b\"], [0.6666666666666666, \"#ed7953\"], [0.7777777777777778, \"#fb9f3a\"], [0.8888888888888888, \"#fdca26\"], [1.0, \"#f0f921\"]], \"sequentialminus\": [[0.0, \"#0d0887\"], [0.1111111111111111, \"#46039f\"], [0.2222222222222222, \"#7201a8\"], [0.3333333333333333, \"#9c179e\"], [0.4444444444444444, \"#bd3786\"], [0.5555555555555556, \"#d8576b\"], [0.6666666666666666, \"#ed7953\"], [0.7777777777777778, \"#fb9f3a\"], [0.8888888888888888, \"#fdca26\"], [1.0, \"#f0f921\"]]}, \"colorway\": [\"#636efa\", \"#EF553B\", \"#00cc96\", \"#ab63fa\", \"#FFA15A\", \"#19d3f3\", \"#FF6692\", \"#B6E880\", \"#FF97FF\", \"#FECB52\"], \"font\": {\"color\": \"#2a3f5f\"}, \"geo\": {\"bgcolor\": \"white\", \"lakecolor\": \"white\", \"landcolor\": \"#E5ECF6\", \"showlakes\": true, \"showland\": true, \"subunitcolor\": \"white\"}, \"hoverlabel\": {\"align\": \"left\"}, \"hovermode\": \"closest\", \"mapbox\": {\"style\": \"light\"}, \"paper_bgcolor\": \"white\", \"plot_bgcolor\": \"#E5ECF6\", \"polar\": {\"angularaxis\": {\"gridcolor\": \"white\", \"linecolor\": \"white\", \"ticks\": \"\"}, \"bgcolor\": \"#E5ECF6\", \"radialaxis\": {\"gridcolor\": \"white\", \"linecolor\": \"white\", \"ticks\": \"\"}}, \"scene\": {\"xaxis\": {\"backgroundcolor\": \"#E5ECF6\", \"gridcolor\": \"white\", \"gridwidth\": 2, \"linecolor\": \"white\", \"showbackground\": true, \"ticks\": \"\", \"zerolinecolor\": \"white\"}, \"yaxis\": {\"backgroundcolor\": \"#E5ECF6\", \"gridcolor\": \"white\", \"gridwidth\": 2, \"linecolor\": \"white\", \"showbackground\": true, \"ticks\": \"\", \"zerolinecolor\": \"white\"}, \"zaxis\": {\"backgroundcolor\": \"#E5ECF6\", \"gridcolor\": \"white\", \"gridwidth\": 2, \"linecolor\": \"white\", \"showbackground\": true, \"ticks\": \"\", \"zerolinecolor\": \"white\"}}, \"shapedefaults\": {\"line\": {\"color\": \"#2a3f5f\"}}, \"ternary\": {\"aaxis\": {\"gridcolor\": \"white\", \"linecolor\": \"white\", \"ticks\": \"\"}, \"baxis\": {\"gridcolor\": \"white\", \"linecolor\": \"white\", \"ticks\": \"\"}, \"bgcolor\": \"#E5ECF6\", \"caxis\": {\"gridcolor\": \"white\", \"linecolor\": \"white\", \"ticks\": \"\"}}, \"title\": {\"x\": 0.05}, \"xaxis\": {\"automargin\": true, \"gridcolor\": \"white\", \"linecolor\": \"white\", \"ticks\": \"\", \"title\": {\"standoff\": 15}, \"zerolinecolor\": \"white\", \"zerolinewidth\": 2}, \"yaxis\": {\"automargin\": true, \"gridcolor\": \"white\", \"linecolor\": \"white\", \"ticks\": \"\", \"title\": {\"standoff\": 15}, \"zerolinecolor\": \"white\", \"zerolinewidth\": 2}}}},                        {\"responsive\": true}                    ).then(function(){\n",
       "                            \n",
       "var gd = document.getElementById('c0e22874-5a7e-40ed-8d8e-befac8a80010');\n",
       "var x = new MutationObserver(function (mutations, observer) {{\n",
       "        var display = window.getComputedStyle(gd).display;\n",
       "        if (!display || display === 'none') {{\n",
       "            console.log([gd, 'removed!']);\n",
       "            Plotly.purge(gd);\n",
       "            observer.disconnect();\n",
       "        }}\n",
       "}});\n",
       "\n",
       "// Listen for the removal of the full notebook cells\n",
       "var notebookContainer = gd.closest('#notebook-container');\n",
       "if (notebookContainer) {{\n",
       "    x.observe(notebookContainer, {childList: true});\n",
       "}}\n",
       "\n",
       "// Listen for the clearing of the current output cell\n",
       "var outputEl = gd.closest('.output');\n",
       "if (outputEl) {{\n",
       "    x.observe(outputEl, {childList: true});\n",
       "}}\n",
       "\n",
       "                        })                };                });            </script>        </div>"
      ]
     },
     "metadata": {},
     "output_type": "display_data"
    }
   ],
   "source": [
    "fig = go.Figure()\n",
    "\n",
    "long_value = [17.5, 17.5, -5, -5]\n",
    "lat_value = [55.5, 40.5, 55.5, 40.5]\n",
    "\n",
    "fig.add_trace(go.Scattergeo(\n",
    "    lon = long_value,\n",
    "    lat = lat_value,\n",
    "    mode = 'markers',\n",
    "    marker = dict(\n",
    "        size = 7,\n",
    "        color = 'rgb(255, 0, 0)',\n",
    "        line = dict(\n",
    "            width = 3,\n",
    "            color = 'rgba(68, 68, 68, 0)'\n",
    "        )\n",
    "    )\n",
    "))\n",
    "fig.show()"
   ]
  },
  {
   "cell_type": "code",
   "execution_count": 51,
   "id": "f779e13e",
   "metadata": {},
   "outputs": [
    {
     "name": "stdout",
     "output_type": "stream",
     "text": [
      "136 196\n",
      "700 790\n"
     ]
    },
    {
     "data": {
      "application/javascript": [
       "/* Put everything inside the global mpl namespace */\n",
       "/* global mpl */\n",
       "window.mpl = {};\n",
       "\n",
       "mpl.get_websocket_type = function () {\n",
       "    if (typeof WebSocket !== 'undefined') {\n",
       "        return WebSocket;\n",
       "    } else if (typeof MozWebSocket !== 'undefined') {\n",
       "        return MozWebSocket;\n",
       "    } else {\n",
       "        alert(\n",
       "            'Your browser does not have WebSocket support. ' +\n",
       "                'Please try Chrome, Safari or Firefox ≥ 6. ' +\n",
       "                'Firefox 4 and 5 are also supported but you ' +\n",
       "                'have to enable WebSockets in about:config.'\n",
       "        );\n",
       "    }\n",
       "};\n",
       "\n",
       "mpl.figure = function (figure_id, websocket, ondownload, parent_element) {\n",
       "    this.id = figure_id;\n",
       "\n",
       "    this.ws = websocket;\n",
       "\n",
       "    this.supports_binary = this.ws.binaryType !== undefined;\n",
       "\n",
       "    if (!this.supports_binary) {\n",
       "        var warnings = document.getElementById('mpl-warnings');\n",
       "        if (warnings) {\n",
       "            warnings.style.display = 'block';\n",
       "            warnings.textContent =\n",
       "                'This browser does not support binary websocket messages. ' +\n",
       "                'Performance may be slow.';\n",
       "        }\n",
       "    }\n",
       "\n",
       "    this.imageObj = new Image();\n",
       "\n",
       "    this.context = undefined;\n",
       "    this.message = undefined;\n",
       "    this.canvas = undefined;\n",
       "    this.rubberband_canvas = undefined;\n",
       "    this.rubberband_context = undefined;\n",
       "    this.format_dropdown = undefined;\n",
       "\n",
       "    this.image_mode = 'full';\n",
       "\n",
       "    this.root = document.createElement('div');\n",
       "    this.root.setAttribute('style', 'display: inline-block');\n",
       "    this._root_extra_style(this.root);\n",
       "\n",
       "    parent_element.appendChild(this.root);\n",
       "\n",
       "    this._init_header(this);\n",
       "    this._init_canvas(this);\n",
       "    this._init_toolbar(this);\n",
       "\n",
       "    var fig = this;\n",
       "\n",
       "    this.waiting = false;\n",
       "\n",
       "    this.ws.onopen = function () {\n",
       "        fig.send_message('supports_binary', { value: fig.supports_binary });\n",
       "        fig.send_message('send_image_mode', {});\n",
       "        if (fig.ratio !== 1) {\n",
       "            fig.send_message('set_dpi_ratio', { dpi_ratio: fig.ratio });\n",
       "        }\n",
       "        fig.send_message('refresh', {});\n",
       "    };\n",
       "\n",
       "    this.imageObj.onload = function () {\n",
       "        if (fig.image_mode === 'full') {\n",
       "            // Full images could contain transparency (where diff images\n",
       "            // almost always do), so we need to clear the canvas so that\n",
       "            // there is no ghosting.\n",
       "            fig.context.clearRect(0, 0, fig.canvas.width, fig.canvas.height);\n",
       "        }\n",
       "        fig.context.drawImage(fig.imageObj, 0, 0);\n",
       "    };\n",
       "\n",
       "    this.imageObj.onunload = function () {\n",
       "        fig.ws.close();\n",
       "    };\n",
       "\n",
       "    this.ws.onmessage = this._make_on_message_function(this);\n",
       "\n",
       "    this.ondownload = ondownload;\n",
       "};\n",
       "\n",
       "mpl.figure.prototype._init_header = function () {\n",
       "    var titlebar = document.createElement('div');\n",
       "    titlebar.classList =\n",
       "        'ui-dialog-titlebar ui-widget-header ui-corner-all ui-helper-clearfix';\n",
       "    var titletext = document.createElement('div');\n",
       "    titletext.classList = 'ui-dialog-title';\n",
       "    titletext.setAttribute(\n",
       "        'style',\n",
       "        'width: 100%; text-align: center; padding: 3px;'\n",
       "    );\n",
       "    titlebar.appendChild(titletext);\n",
       "    this.root.appendChild(titlebar);\n",
       "    this.header = titletext;\n",
       "};\n",
       "\n",
       "mpl.figure.prototype._canvas_extra_style = function (_canvas_div) {};\n",
       "\n",
       "mpl.figure.prototype._root_extra_style = function (_canvas_div) {};\n",
       "\n",
       "mpl.figure.prototype._init_canvas = function () {\n",
       "    var fig = this;\n",
       "\n",
       "    var canvas_div = (this.canvas_div = document.createElement('div'));\n",
       "    canvas_div.setAttribute(\n",
       "        'style',\n",
       "        'border: 1px solid #ddd;' +\n",
       "            'box-sizing: content-box;' +\n",
       "            'clear: both;' +\n",
       "            'min-height: 1px;' +\n",
       "            'min-width: 1px;' +\n",
       "            'outline: 0;' +\n",
       "            'overflow: hidden;' +\n",
       "            'position: relative;' +\n",
       "            'resize: both;'\n",
       "    );\n",
       "\n",
       "    function on_keyboard_event_closure(name) {\n",
       "        return function (event) {\n",
       "            return fig.key_event(event, name);\n",
       "        };\n",
       "    }\n",
       "\n",
       "    canvas_div.addEventListener(\n",
       "        'keydown',\n",
       "        on_keyboard_event_closure('key_press')\n",
       "    );\n",
       "    canvas_div.addEventListener(\n",
       "        'keyup',\n",
       "        on_keyboard_event_closure('key_release')\n",
       "    );\n",
       "\n",
       "    this._canvas_extra_style(canvas_div);\n",
       "    this.root.appendChild(canvas_div);\n",
       "\n",
       "    var canvas = (this.canvas = document.createElement('canvas'));\n",
       "    canvas.classList.add('mpl-canvas');\n",
       "    canvas.setAttribute('style', 'box-sizing: content-box;');\n",
       "\n",
       "    this.context = canvas.getContext('2d');\n",
       "\n",
       "    var backingStore =\n",
       "        this.context.backingStorePixelRatio ||\n",
       "        this.context.webkitBackingStorePixelRatio ||\n",
       "        this.context.mozBackingStorePixelRatio ||\n",
       "        this.context.msBackingStorePixelRatio ||\n",
       "        this.context.oBackingStorePixelRatio ||\n",
       "        this.context.backingStorePixelRatio ||\n",
       "        1;\n",
       "\n",
       "    this.ratio = (window.devicePixelRatio || 1) / backingStore;\n",
       "\n",
       "    var rubberband_canvas = (this.rubberband_canvas = document.createElement(\n",
       "        'canvas'\n",
       "    ));\n",
       "    rubberband_canvas.setAttribute(\n",
       "        'style',\n",
       "        'box-sizing: content-box; position: absolute; left: 0; top: 0; z-index: 1;'\n",
       "    );\n",
       "\n",
       "    // Apply a ponyfill if ResizeObserver is not implemented by browser.\n",
       "    if (this.ResizeObserver === undefined) {\n",
       "        if (window.ResizeObserver !== undefined) {\n",
       "            this.ResizeObserver = window.ResizeObserver;\n",
       "        } else {\n",
       "            var obs = _JSXTOOLS_RESIZE_OBSERVER({});\n",
       "            this.ResizeObserver = obs.ResizeObserver;\n",
       "        }\n",
       "    }\n",
       "\n",
       "    this.resizeObserverInstance = new this.ResizeObserver(function (entries) {\n",
       "        var nentries = entries.length;\n",
       "        for (var i = 0; i < nentries; i++) {\n",
       "            var entry = entries[i];\n",
       "            var width, height;\n",
       "            if (entry.contentBoxSize) {\n",
       "                if (entry.contentBoxSize instanceof Array) {\n",
       "                    // Chrome 84 implements new version of spec.\n",
       "                    width = entry.contentBoxSize[0].inlineSize;\n",
       "                    height = entry.contentBoxSize[0].blockSize;\n",
       "                } else {\n",
       "                    // Firefox implements old version of spec.\n",
       "                    width = entry.contentBoxSize.inlineSize;\n",
       "                    height = entry.contentBoxSize.blockSize;\n",
       "                }\n",
       "            } else {\n",
       "                // Chrome <84 implements even older version of spec.\n",
       "                width = entry.contentRect.width;\n",
       "                height = entry.contentRect.height;\n",
       "            }\n",
       "\n",
       "            // Keep the size of the canvas and rubber band canvas in sync with\n",
       "            // the canvas container.\n",
       "            if (entry.devicePixelContentBoxSize) {\n",
       "                // Chrome 84 implements new version of spec.\n",
       "                canvas.setAttribute(\n",
       "                    'width',\n",
       "                    entry.devicePixelContentBoxSize[0].inlineSize\n",
       "                );\n",
       "                canvas.setAttribute(\n",
       "                    'height',\n",
       "                    entry.devicePixelContentBoxSize[0].blockSize\n",
       "                );\n",
       "            } else {\n",
       "                canvas.setAttribute('width', width * fig.ratio);\n",
       "                canvas.setAttribute('height', height * fig.ratio);\n",
       "            }\n",
       "            canvas.setAttribute(\n",
       "                'style',\n",
       "                'width: ' + width + 'px; height: ' + height + 'px;'\n",
       "            );\n",
       "\n",
       "            rubberband_canvas.setAttribute('width', width);\n",
       "            rubberband_canvas.setAttribute('height', height);\n",
       "\n",
       "            // And update the size in Python. We ignore the initial 0/0 size\n",
       "            // that occurs as the element is placed into the DOM, which should\n",
       "            // otherwise not happen due to the minimum size styling.\n",
       "            if (fig.ws.readyState == 1 && width != 0 && height != 0) {\n",
       "                fig.request_resize(width, height);\n",
       "            }\n",
       "        }\n",
       "    });\n",
       "    this.resizeObserverInstance.observe(canvas_div);\n",
       "\n",
       "    function on_mouse_event_closure(name) {\n",
       "        return function (event) {\n",
       "            return fig.mouse_event(event, name);\n",
       "        };\n",
       "    }\n",
       "\n",
       "    rubberband_canvas.addEventListener(\n",
       "        'mousedown',\n",
       "        on_mouse_event_closure('button_press')\n",
       "    );\n",
       "    rubberband_canvas.addEventListener(\n",
       "        'mouseup',\n",
       "        on_mouse_event_closure('button_release')\n",
       "    );\n",
       "    // Throttle sequential mouse events to 1 every 20ms.\n",
       "    rubberband_canvas.addEventListener(\n",
       "        'mousemove',\n",
       "        on_mouse_event_closure('motion_notify')\n",
       "    );\n",
       "\n",
       "    rubberband_canvas.addEventListener(\n",
       "        'mouseenter',\n",
       "        on_mouse_event_closure('figure_enter')\n",
       "    );\n",
       "    rubberband_canvas.addEventListener(\n",
       "        'mouseleave',\n",
       "        on_mouse_event_closure('figure_leave')\n",
       "    );\n",
       "\n",
       "    canvas_div.addEventListener('wheel', function (event) {\n",
       "        if (event.deltaY < 0) {\n",
       "            event.step = 1;\n",
       "        } else {\n",
       "            event.step = -1;\n",
       "        }\n",
       "        on_mouse_event_closure('scroll')(event);\n",
       "    });\n",
       "\n",
       "    canvas_div.appendChild(canvas);\n",
       "    canvas_div.appendChild(rubberband_canvas);\n",
       "\n",
       "    this.rubberband_context = rubberband_canvas.getContext('2d');\n",
       "    this.rubberband_context.strokeStyle = '#000000';\n",
       "\n",
       "    this._resize_canvas = function (width, height, forward) {\n",
       "        if (forward) {\n",
       "            canvas_div.style.width = width + 'px';\n",
       "            canvas_div.style.height = height + 'px';\n",
       "        }\n",
       "    };\n",
       "\n",
       "    // Disable right mouse context menu.\n",
       "    this.rubberband_canvas.addEventListener('contextmenu', function (_e) {\n",
       "        event.preventDefault();\n",
       "        return false;\n",
       "    });\n",
       "\n",
       "    function set_focus() {\n",
       "        canvas.focus();\n",
       "        canvas_div.focus();\n",
       "    }\n",
       "\n",
       "    window.setTimeout(set_focus, 100);\n",
       "};\n",
       "\n",
       "mpl.figure.prototype._init_toolbar = function () {\n",
       "    var fig = this;\n",
       "\n",
       "    var toolbar = document.createElement('div');\n",
       "    toolbar.classList = 'mpl-toolbar';\n",
       "    this.root.appendChild(toolbar);\n",
       "\n",
       "    function on_click_closure(name) {\n",
       "        return function (_event) {\n",
       "            return fig.toolbar_button_onclick(name);\n",
       "        };\n",
       "    }\n",
       "\n",
       "    function on_mouseover_closure(tooltip) {\n",
       "        return function (event) {\n",
       "            if (!event.currentTarget.disabled) {\n",
       "                return fig.toolbar_button_onmouseover(tooltip);\n",
       "            }\n",
       "        };\n",
       "    }\n",
       "\n",
       "    fig.buttons = {};\n",
       "    var buttonGroup = document.createElement('div');\n",
       "    buttonGroup.classList = 'mpl-button-group';\n",
       "    for (var toolbar_ind in mpl.toolbar_items) {\n",
       "        var name = mpl.toolbar_items[toolbar_ind][0];\n",
       "        var tooltip = mpl.toolbar_items[toolbar_ind][1];\n",
       "        var image = mpl.toolbar_items[toolbar_ind][2];\n",
       "        var method_name = mpl.toolbar_items[toolbar_ind][3];\n",
       "\n",
       "        if (!name) {\n",
       "            /* Instead of a spacer, we start a new button group. */\n",
       "            if (buttonGroup.hasChildNodes()) {\n",
       "                toolbar.appendChild(buttonGroup);\n",
       "            }\n",
       "            buttonGroup = document.createElement('div');\n",
       "            buttonGroup.classList = 'mpl-button-group';\n",
       "            continue;\n",
       "        }\n",
       "\n",
       "        var button = (fig.buttons[name] = document.createElement('button'));\n",
       "        button.classList = 'mpl-widget';\n",
       "        button.setAttribute('role', 'button');\n",
       "        button.setAttribute('aria-disabled', 'false');\n",
       "        button.addEventListener('click', on_click_closure(method_name));\n",
       "        button.addEventListener('mouseover', on_mouseover_closure(tooltip));\n",
       "\n",
       "        var icon_img = document.createElement('img');\n",
       "        icon_img.src = '_images/' + image + '.png';\n",
       "        icon_img.srcset = '_images/' + image + '_large.png 2x';\n",
       "        icon_img.alt = tooltip;\n",
       "        button.appendChild(icon_img);\n",
       "\n",
       "        buttonGroup.appendChild(button);\n",
       "    }\n",
       "\n",
       "    if (buttonGroup.hasChildNodes()) {\n",
       "        toolbar.appendChild(buttonGroup);\n",
       "    }\n",
       "\n",
       "    var fmt_picker = document.createElement('select');\n",
       "    fmt_picker.classList = 'mpl-widget';\n",
       "    toolbar.appendChild(fmt_picker);\n",
       "    this.format_dropdown = fmt_picker;\n",
       "\n",
       "    for (var ind in mpl.extensions) {\n",
       "        var fmt = mpl.extensions[ind];\n",
       "        var option = document.createElement('option');\n",
       "        option.selected = fmt === mpl.default_extension;\n",
       "        option.innerHTML = fmt;\n",
       "        fmt_picker.appendChild(option);\n",
       "    }\n",
       "\n",
       "    var status_bar = document.createElement('span');\n",
       "    status_bar.classList = 'mpl-message';\n",
       "    toolbar.appendChild(status_bar);\n",
       "    this.message = status_bar;\n",
       "};\n",
       "\n",
       "mpl.figure.prototype.request_resize = function (x_pixels, y_pixels) {\n",
       "    // Request matplotlib to resize the figure. Matplotlib will then trigger a resize in the client,\n",
       "    // which will in turn request a refresh of the image.\n",
       "    this.send_message('resize', { width: x_pixels, height: y_pixels });\n",
       "};\n",
       "\n",
       "mpl.figure.prototype.send_message = function (type, properties) {\n",
       "    properties['type'] = type;\n",
       "    properties['figure_id'] = this.id;\n",
       "    this.ws.send(JSON.stringify(properties));\n",
       "};\n",
       "\n",
       "mpl.figure.prototype.send_draw_message = function () {\n",
       "    if (!this.waiting) {\n",
       "        this.waiting = true;\n",
       "        this.ws.send(JSON.stringify({ type: 'draw', figure_id: this.id }));\n",
       "    }\n",
       "};\n",
       "\n",
       "mpl.figure.prototype.handle_save = function (fig, _msg) {\n",
       "    var format_dropdown = fig.format_dropdown;\n",
       "    var format = format_dropdown.options[format_dropdown.selectedIndex].value;\n",
       "    fig.ondownload(fig, format);\n",
       "};\n",
       "\n",
       "mpl.figure.prototype.handle_resize = function (fig, msg) {\n",
       "    var size = msg['size'];\n",
       "    if (size[0] !== fig.canvas.width || size[1] !== fig.canvas.height) {\n",
       "        fig._resize_canvas(size[0], size[1], msg['forward']);\n",
       "        fig.send_message('refresh', {});\n",
       "    }\n",
       "};\n",
       "\n",
       "mpl.figure.prototype.handle_rubberband = function (fig, msg) {\n",
       "    var x0 = msg['x0'] / fig.ratio;\n",
       "    var y0 = (fig.canvas.height - msg['y0']) / fig.ratio;\n",
       "    var x1 = msg['x1'] / fig.ratio;\n",
       "    var y1 = (fig.canvas.height - msg['y1']) / fig.ratio;\n",
       "    x0 = Math.floor(x0) + 0.5;\n",
       "    y0 = Math.floor(y0) + 0.5;\n",
       "    x1 = Math.floor(x1) + 0.5;\n",
       "    y1 = Math.floor(y1) + 0.5;\n",
       "    var min_x = Math.min(x0, x1);\n",
       "    var min_y = Math.min(y0, y1);\n",
       "    var width = Math.abs(x1 - x0);\n",
       "    var height = Math.abs(y1 - y0);\n",
       "\n",
       "    fig.rubberband_context.clearRect(\n",
       "        0,\n",
       "        0,\n",
       "        fig.canvas.width / fig.ratio,\n",
       "        fig.canvas.height / fig.ratio\n",
       "    );\n",
       "\n",
       "    fig.rubberband_context.strokeRect(min_x, min_y, width, height);\n",
       "};\n",
       "\n",
       "mpl.figure.prototype.handle_figure_label = function (fig, msg) {\n",
       "    // Updates the figure title.\n",
       "    fig.header.textContent = msg['label'];\n",
       "};\n",
       "\n",
       "mpl.figure.prototype.handle_cursor = function (fig, msg) {\n",
       "    var cursor = msg['cursor'];\n",
       "    switch (cursor) {\n",
       "        case 0:\n",
       "            cursor = 'pointer';\n",
       "            break;\n",
       "        case 1:\n",
       "            cursor = 'default';\n",
       "            break;\n",
       "        case 2:\n",
       "            cursor = 'crosshair';\n",
       "            break;\n",
       "        case 3:\n",
       "            cursor = 'move';\n",
       "            break;\n",
       "    }\n",
       "    fig.rubberband_canvas.style.cursor = cursor;\n",
       "};\n",
       "\n",
       "mpl.figure.prototype.handle_message = function (fig, msg) {\n",
       "    fig.message.textContent = msg['message'];\n",
       "};\n",
       "\n",
       "mpl.figure.prototype.handle_draw = function (fig, _msg) {\n",
       "    // Request the server to send over a new figure.\n",
       "    fig.send_draw_message();\n",
       "};\n",
       "\n",
       "mpl.figure.prototype.handle_image_mode = function (fig, msg) {\n",
       "    fig.image_mode = msg['mode'];\n",
       "};\n",
       "\n",
       "mpl.figure.prototype.handle_history_buttons = function (fig, msg) {\n",
       "    for (var key in msg) {\n",
       "        if (!(key in fig.buttons)) {\n",
       "            continue;\n",
       "        }\n",
       "        fig.buttons[key].disabled = !msg[key];\n",
       "        fig.buttons[key].setAttribute('aria-disabled', !msg[key]);\n",
       "    }\n",
       "};\n",
       "\n",
       "mpl.figure.prototype.handle_navigate_mode = function (fig, msg) {\n",
       "    if (msg['mode'] === 'PAN') {\n",
       "        fig.buttons['Pan'].classList.add('active');\n",
       "        fig.buttons['Zoom'].classList.remove('active');\n",
       "    } else if (msg['mode'] === 'ZOOM') {\n",
       "        fig.buttons['Pan'].classList.remove('active');\n",
       "        fig.buttons['Zoom'].classList.add('active');\n",
       "    } else {\n",
       "        fig.buttons['Pan'].classList.remove('active');\n",
       "        fig.buttons['Zoom'].classList.remove('active');\n",
       "    }\n",
       "};\n",
       "\n",
       "mpl.figure.prototype.updated_canvas_event = function () {\n",
       "    // Called whenever the canvas gets updated.\n",
       "    this.send_message('ack', {});\n",
       "};\n",
       "\n",
       "// A function to construct a web socket function for onmessage handling.\n",
       "// Called in the figure constructor.\n",
       "mpl.figure.prototype._make_on_message_function = function (fig) {\n",
       "    return function socket_on_message(evt) {\n",
       "        if (evt.data instanceof Blob) {\n",
       "            /* FIXME: We get \"Resource interpreted as Image but\n",
       "             * transferred with MIME type text/plain:\" errors on\n",
       "             * Chrome.  But how to set the MIME type?  It doesn't seem\n",
       "             * to be part of the websocket stream */\n",
       "            evt.data.type = 'image/png';\n",
       "\n",
       "            /* Free the memory for the previous frames */\n",
       "            if (fig.imageObj.src) {\n",
       "                (window.URL || window.webkitURL).revokeObjectURL(\n",
       "                    fig.imageObj.src\n",
       "                );\n",
       "            }\n",
       "\n",
       "            fig.imageObj.src = (window.URL || window.webkitURL).createObjectURL(\n",
       "                evt.data\n",
       "            );\n",
       "            fig.updated_canvas_event();\n",
       "            fig.waiting = false;\n",
       "            return;\n",
       "        } else if (\n",
       "            typeof evt.data === 'string' &&\n",
       "            evt.data.slice(0, 21) === 'data:image/png;base64'\n",
       "        ) {\n",
       "            fig.imageObj.src = evt.data;\n",
       "            fig.updated_canvas_event();\n",
       "            fig.waiting = false;\n",
       "            return;\n",
       "        }\n",
       "\n",
       "        var msg = JSON.parse(evt.data);\n",
       "        var msg_type = msg['type'];\n",
       "\n",
       "        // Call the  \"handle_{type}\" callback, which takes\n",
       "        // the figure and JSON message as its only arguments.\n",
       "        try {\n",
       "            var callback = fig['handle_' + msg_type];\n",
       "        } catch (e) {\n",
       "            console.log(\n",
       "                \"No handler for the '\" + msg_type + \"' message type: \",\n",
       "                msg\n",
       "            );\n",
       "            return;\n",
       "        }\n",
       "\n",
       "        if (callback) {\n",
       "            try {\n",
       "                // console.log(\"Handling '\" + msg_type + \"' message: \", msg);\n",
       "                callback(fig, msg);\n",
       "            } catch (e) {\n",
       "                console.log(\n",
       "                    \"Exception inside the 'handler_\" + msg_type + \"' callback:\",\n",
       "                    e,\n",
       "                    e.stack,\n",
       "                    msg\n",
       "                );\n",
       "            }\n",
       "        }\n",
       "    };\n",
       "};\n",
       "\n",
       "// from http://stackoverflow.com/questions/1114465/getting-mouse-location-in-canvas\n",
       "mpl.findpos = function (e) {\n",
       "    //this section is from http://www.quirksmode.org/js/events_properties.html\n",
       "    var targ;\n",
       "    if (!e) {\n",
       "        e = window.event;\n",
       "    }\n",
       "    if (e.target) {\n",
       "        targ = e.target;\n",
       "    } else if (e.srcElement) {\n",
       "        targ = e.srcElement;\n",
       "    }\n",
       "    if (targ.nodeType === 3) {\n",
       "        // defeat Safari bug\n",
       "        targ = targ.parentNode;\n",
       "    }\n",
       "\n",
       "    // pageX,Y are the mouse positions relative to the document\n",
       "    var boundingRect = targ.getBoundingClientRect();\n",
       "    var x = e.pageX - (boundingRect.left + document.body.scrollLeft);\n",
       "    var y = e.pageY - (boundingRect.top + document.body.scrollTop);\n",
       "\n",
       "    return { x: x, y: y };\n",
       "};\n",
       "\n",
       "/*\n",
       " * return a copy of an object with only non-object keys\n",
       " * we need this to avoid circular references\n",
       " * http://stackoverflow.com/a/24161582/3208463\n",
       " */\n",
       "function simpleKeys(original) {\n",
       "    return Object.keys(original).reduce(function (obj, key) {\n",
       "        if (typeof original[key] !== 'object') {\n",
       "            obj[key] = original[key];\n",
       "        }\n",
       "        return obj;\n",
       "    }, {});\n",
       "}\n",
       "\n",
       "mpl.figure.prototype.mouse_event = function (event, name) {\n",
       "    var canvas_pos = mpl.findpos(event);\n",
       "\n",
       "    if (name === 'button_press') {\n",
       "        this.canvas.focus();\n",
       "        this.canvas_div.focus();\n",
       "    }\n",
       "\n",
       "    var x = canvas_pos.x * this.ratio;\n",
       "    var y = canvas_pos.y * this.ratio;\n",
       "\n",
       "    this.send_message(name, {\n",
       "        x: x,\n",
       "        y: y,\n",
       "        button: event.button,\n",
       "        step: event.step,\n",
       "        guiEvent: simpleKeys(event),\n",
       "    });\n",
       "\n",
       "    /* This prevents the web browser from automatically changing to\n",
       "     * the text insertion cursor when the button is pressed.  We want\n",
       "     * to control all of the cursor setting manually through the\n",
       "     * 'cursor' event from matplotlib */\n",
       "    event.preventDefault();\n",
       "    return false;\n",
       "};\n",
       "\n",
       "mpl.figure.prototype._key_event_extra = function (_event, _name) {\n",
       "    // Handle any extra behaviour associated with a key event\n",
       "};\n",
       "\n",
       "mpl.figure.prototype.key_event = function (event, name) {\n",
       "    // Prevent repeat events\n",
       "    if (name === 'key_press') {\n",
       "        if (event.which === this._key) {\n",
       "            return;\n",
       "        } else {\n",
       "            this._key = event.which;\n",
       "        }\n",
       "    }\n",
       "    if (name === 'key_release') {\n",
       "        this._key = null;\n",
       "    }\n",
       "\n",
       "    var value = '';\n",
       "    if (event.ctrlKey && event.which !== 17) {\n",
       "        value += 'ctrl+';\n",
       "    }\n",
       "    if (event.altKey && event.which !== 18) {\n",
       "        value += 'alt+';\n",
       "    }\n",
       "    if (event.shiftKey && event.which !== 16) {\n",
       "        value += 'shift+';\n",
       "    }\n",
       "\n",
       "    value += 'k';\n",
       "    value += event.which.toString();\n",
       "\n",
       "    this._key_event_extra(event, name);\n",
       "\n",
       "    this.send_message(name, { key: value, guiEvent: simpleKeys(event) });\n",
       "    return false;\n",
       "};\n",
       "\n",
       "mpl.figure.prototype.toolbar_button_onclick = function (name) {\n",
       "    if (name === 'download') {\n",
       "        this.handle_save(this, null);\n",
       "    } else {\n",
       "        this.send_message('toolbar_button', { name: name });\n",
       "    }\n",
       "};\n",
       "\n",
       "mpl.figure.prototype.toolbar_button_onmouseover = function (tooltip) {\n",
       "    this.message.textContent = tooltip;\n",
       "};\n",
       "\n",
       "///////////////// REMAINING CONTENT GENERATED BY embed_js.py /////////////////\n",
       "// prettier-ignore\n",
       "var _JSXTOOLS_RESIZE_OBSERVER=function(A){var t,i=new WeakMap,n=new WeakMap,a=new WeakMap,r=new WeakMap,o=new Set;function s(e){if(!(this instanceof s))throw new TypeError(\"Constructor requires 'new' operator\");i.set(this,e)}function h(){throw new TypeError(\"Function is not a constructor\")}function c(e,t,i,n){e=0 in arguments?Number(arguments[0]):0,t=1 in arguments?Number(arguments[1]):0,i=2 in arguments?Number(arguments[2]):0,n=3 in arguments?Number(arguments[3]):0,this.right=(this.x=this.left=e)+(this.width=i),this.bottom=(this.y=this.top=t)+(this.height=n),Object.freeze(this)}function d(){t=requestAnimationFrame(d);var s=new WeakMap,p=new Set;o.forEach((function(t){r.get(t).forEach((function(i){var r=t instanceof window.SVGElement,o=a.get(t),d=r?0:parseFloat(o.paddingTop),f=r?0:parseFloat(o.paddingRight),l=r?0:parseFloat(o.paddingBottom),u=r?0:parseFloat(o.paddingLeft),g=r?0:parseFloat(o.borderTopWidth),m=r?0:parseFloat(o.borderRightWidth),w=r?0:parseFloat(o.borderBottomWidth),b=u+f,F=d+l,v=(r?0:parseFloat(o.borderLeftWidth))+m,W=g+w,y=r?0:t.offsetHeight-W-t.clientHeight,E=r?0:t.offsetWidth-v-t.clientWidth,R=b+v,z=F+W,M=r?t.width:parseFloat(o.width)-R-E,O=r?t.height:parseFloat(o.height)-z-y;if(n.has(t)){var k=n.get(t);if(k[0]===M&&k[1]===O)return}n.set(t,[M,O]);var S=Object.create(h.prototype);S.target=t,S.contentRect=new c(u,d,M,O),s.has(i)||(s.set(i,[]),p.add(i)),s.get(i).push(S)}))})),p.forEach((function(e){i.get(e).call(e,s.get(e),e)}))}return s.prototype.observe=function(i){if(i instanceof window.Element){r.has(i)||(r.set(i,new Set),o.add(i),a.set(i,window.getComputedStyle(i)));var n=r.get(i);n.has(this)||n.add(this),cancelAnimationFrame(t),t=requestAnimationFrame(d)}},s.prototype.unobserve=function(i){if(i instanceof window.Element&&r.has(i)){var n=r.get(i);n.has(this)&&(n.delete(this),n.size||(r.delete(i),o.delete(i))),n.size||r.delete(i),o.size||cancelAnimationFrame(t)}},A.DOMRectReadOnly=c,A.ResizeObserver=s,A.ResizeObserverEntry=h,A}; // eslint-disable-line\n",
       "mpl.toolbar_items = [[\"Home\", \"Reset original view\", \"fa fa-home icon-home\", \"home\"], [\"Back\", \"Back to previous view\", \"fa fa-arrow-left icon-arrow-left\", \"back\"], [\"Forward\", \"Forward to next view\", \"fa fa-arrow-right icon-arrow-right\", \"forward\"], [\"\", \"\", \"\", \"\"], [\"Pan\", \"Left button pans, Right button zooms\\nx/y fixes axis, CTRL fixes aspect\", \"fa fa-arrows icon-move\", \"pan\"], [\"Zoom\", \"Zoom to rectangle\\nx/y fixes axis, CTRL fixes aspect\", \"fa fa-square-o icon-check-empty\", \"zoom\"], [\"\", \"\", \"\", \"\"], [\"Download\", \"Download plot\", \"fa fa-floppy-o icon-save\", \"download\"]];\n",
       "\n",
       "mpl.extensions = [\"eps\", \"jpeg\", \"pdf\", \"png\", \"ps\", \"raw\", \"svg\", \"tif\"];\n",
       "\n",
       "mpl.default_extension = \"png\";/* global mpl */\n",
       "\n",
       "var comm_websocket_adapter = function (comm) {\n",
       "    // Create a \"websocket\"-like object which calls the given IPython comm\n",
       "    // object with the appropriate methods. Currently this is a non binary\n",
       "    // socket, so there is still some room for performance tuning.\n",
       "    var ws = {};\n",
       "\n",
       "    ws.close = function () {\n",
       "        comm.close();\n",
       "    };\n",
       "    ws.send = function (m) {\n",
       "        //console.log('sending', m);\n",
       "        comm.send(m);\n",
       "    };\n",
       "    // Register the callback with on_msg.\n",
       "    comm.on_msg(function (msg) {\n",
       "        //console.log('receiving', msg['content']['data'], msg);\n",
       "        // Pass the mpl event to the overridden (by mpl) onmessage function.\n",
       "        ws.onmessage(msg['content']['data']);\n",
       "    });\n",
       "    return ws;\n",
       "};\n",
       "\n",
       "mpl.mpl_figure_comm = function (comm, msg) {\n",
       "    // This is the function which gets called when the mpl process\n",
       "    // starts-up an IPython Comm through the \"matplotlib\" channel.\n",
       "\n",
       "    var id = msg.content.data.id;\n",
       "    // Get hold of the div created by the display call when the Comm\n",
       "    // socket was opened in Python.\n",
       "    var element = document.getElementById(id);\n",
       "    var ws_proxy = comm_websocket_adapter(comm);\n",
       "\n",
       "    function ondownload(figure, _format) {\n",
       "        window.open(figure.canvas.toDataURL());\n",
       "    }\n",
       "\n",
       "    var fig = new mpl.figure(id, ws_proxy, ondownload, element);\n",
       "\n",
       "    // Call onopen now - mpl needs it, as it is assuming we've passed it a real\n",
       "    // web socket which is closed, not our websocket->open comm proxy.\n",
       "    ws_proxy.onopen();\n",
       "\n",
       "    fig.parent_element = element;\n",
       "    fig.cell_info = mpl.find_output_cell(\"<div id='\" + id + \"'></div>\");\n",
       "    if (!fig.cell_info) {\n",
       "        console.error('Failed to find cell for figure', id, fig);\n",
       "        return;\n",
       "    }\n",
       "    fig.cell_info[0].output_area.element.on(\n",
       "        'cleared',\n",
       "        { fig: fig },\n",
       "        fig._remove_fig_handler\n",
       "    );\n",
       "};\n",
       "\n",
       "mpl.figure.prototype.handle_close = function (fig, msg) {\n",
       "    var width = fig.canvas.width / fig.ratio;\n",
       "    fig.cell_info[0].output_area.element.off(\n",
       "        'cleared',\n",
       "        fig._remove_fig_handler\n",
       "    );\n",
       "    fig.resizeObserverInstance.unobserve(fig.canvas_div);\n",
       "\n",
       "    // Update the output cell to use the data from the current canvas.\n",
       "    fig.push_to_output();\n",
       "    var dataURL = fig.canvas.toDataURL();\n",
       "    // Re-enable the keyboard manager in IPython - without this line, in FF,\n",
       "    // the notebook keyboard shortcuts fail.\n",
       "    IPython.keyboard_manager.enable();\n",
       "    fig.parent_element.innerHTML =\n",
       "        '<img src=\"' + dataURL + '\" width=\"' + width + '\">';\n",
       "    fig.close_ws(fig, msg);\n",
       "};\n",
       "\n",
       "mpl.figure.prototype.close_ws = function (fig, msg) {\n",
       "    fig.send_message('closing', msg);\n",
       "    // fig.ws.close()\n",
       "};\n",
       "\n",
       "mpl.figure.prototype.push_to_output = function (_remove_interactive) {\n",
       "    // Turn the data on the canvas into data in the output cell.\n",
       "    var width = this.canvas.width / this.ratio;\n",
       "    var dataURL = this.canvas.toDataURL();\n",
       "    this.cell_info[1]['text/html'] =\n",
       "        '<img src=\"' + dataURL + '\" width=\"' + width + '\">';\n",
       "};\n",
       "\n",
       "mpl.figure.prototype.updated_canvas_event = function () {\n",
       "    // Tell IPython that the notebook contents must change.\n",
       "    IPython.notebook.set_dirty(true);\n",
       "    this.send_message('ack', {});\n",
       "    var fig = this;\n",
       "    // Wait a second, then push the new image to the DOM so\n",
       "    // that it is saved nicely (might be nice to debounce this).\n",
       "    setTimeout(function () {\n",
       "        fig.push_to_output();\n",
       "    }, 1000);\n",
       "};\n",
       "\n",
       "mpl.figure.prototype._init_toolbar = function () {\n",
       "    var fig = this;\n",
       "\n",
       "    var toolbar = document.createElement('div');\n",
       "    toolbar.classList = 'btn-toolbar';\n",
       "    this.root.appendChild(toolbar);\n",
       "\n",
       "    function on_click_closure(name) {\n",
       "        return function (_event) {\n",
       "            return fig.toolbar_button_onclick(name);\n",
       "        };\n",
       "    }\n",
       "\n",
       "    function on_mouseover_closure(tooltip) {\n",
       "        return function (event) {\n",
       "            if (!event.currentTarget.disabled) {\n",
       "                return fig.toolbar_button_onmouseover(tooltip);\n",
       "            }\n",
       "        };\n",
       "    }\n",
       "\n",
       "    fig.buttons = {};\n",
       "    var buttonGroup = document.createElement('div');\n",
       "    buttonGroup.classList = 'btn-group';\n",
       "    var button;\n",
       "    for (var toolbar_ind in mpl.toolbar_items) {\n",
       "        var name = mpl.toolbar_items[toolbar_ind][0];\n",
       "        var tooltip = mpl.toolbar_items[toolbar_ind][1];\n",
       "        var image = mpl.toolbar_items[toolbar_ind][2];\n",
       "        var method_name = mpl.toolbar_items[toolbar_ind][3];\n",
       "\n",
       "        if (!name) {\n",
       "            /* Instead of a spacer, we start a new button group. */\n",
       "            if (buttonGroup.hasChildNodes()) {\n",
       "                toolbar.appendChild(buttonGroup);\n",
       "            }\n",
       "            buttonGroup = document.createElement('div');\n",
       "            buttonGroup.classList = 'btn-group';\n",
       "            continue;\n",
       "        }\n",
       "\n",
       "        button = fig.buttons[name] = document.createElement('button');\n",
       "        button.classList = 'btn btn-default';\n",
       "        button.href = '#';\n",
       "        button.title = name;\n",
       "        button.innerHTML = '<i class=\"fa ' + image + ' fa-lg\"></i>';\n",
       "        button.addEventListener('click', on_click_closure(method_name));\n",
       "        button.addEventListener('mouseover', on_mouseover_closure(tooltip));\n",
       "        buttonGroup.appendChild(button);\n",
       "    }\n",
       "\n",
       "    if (buttonGroup.hasChildNodes()) {\n",
       "        toolbar.appendChild(buttonGroup);\n",
       "    }\n",
       "\n",
       "    // Add the status bar.\n",
       "    var status_bar = document.createElement('span');\n",
       "    status_bar.classList = 'mpl-message pull-right';\n",
       "    toolbar.appendChild(status_bar);\n",
       "    this.message = status_bar;\n",
       "\n",
       "    // Add the close button to the window.\n",
       "    var buttongrp = document.createElement('div');\n",
       "    buttongrp.classList = 'btn-group inline pull-right';\n",
       "    button = document.createElement('button');\n",
       "    button.classList = 'btn btn-mini btn-primary';\n",
       "    button.href = '#';\n",
       "    button.title = 'Stop Interaction';\n",
       "    button.innerHTML = '<i class=\"fa fa-power-off icon-remove icon-large\"></i>';\n",
       "    button.addEventListener('click', function (_evt) {\n",
       "        fig.handle_close(fig, {});\n",
       "    });\n",
       "    button.addEventListener(\n",
       "        'mouseover',\n",
       "        on_mouseover_closure('Stop Interaction')\n",
       "    );\n",
       "    buttongrp.appendChild(button);\n",
       "    var titlebar = this.root.querySelector('.ui-dialog-titlebar');\n",
       "    titlebar.insertBefore(buttongrp, titlebar.firstChild);\n",
       "};\n",
       "\n",
       "mpl.figure.prototype._remove_fig_handler = function (event) {\n",
       "    var fig = event.data.fig;\n",
       "    if (event.target !== this) {\n",
       "        // Ignore bubbled events from children.\n",
       "        return;\n",
       "    }\n",
       "    fig.close_ws(fig, {});\n",
       "};\n",
       "\n",
       "mpl.figure.prototype._root_extra_style = function (el) {\n",
       "    el.style.boxSizing = 'content-box'; // override notebook setting of border-box.\n",
       "};\n",
       "\n",
       "mpl.figure.prototype._canvas_extra_style = function (el) {\n",
       "    // this is important to make the div 'focusable\n",
       "    el.setAttribute('tabindex', 0);\n",
       "    // reach out to IPython and tell the keyboard manager to turn it's self\n",
       "    // off when our div gets focus\n",
       "\n",
       "    // location in version 3\n",
       "    if (IPython.notebook.keyboard_manager) {\n",
       "        IPython.notebook.keyboard_manager.register_events(el);\n",
       "    } else {\n",
       "        // location in version 2\n",
       "        IPython.keyboard_manager.register_events(el);\n",
       "    }\n",
       "};\n",
       "\n",
       "mpl.figure.prototype._key_event_extra = function (event, _name) {\n",
       "    var manager = IPython.notebook.keyboard_manager;\n",
       "    if (!manager) {\n",
       "        manager = IPython.keyboard_manager;\n",
       "    }\n",
       "\n",
       "    // Check for shift+enter\n",
       "    if (event.shiftKey && event.which === 13) {\n",
       "        this.canvas_div.blur();\n",
       "        // select the cell after this one\n",
       "        var index = IPython.notebook.find_cell_index(this.cell_info[0]);\n",
       "        IPython.notebook.select(index + 1);\n",
       "    }\n",
       "};\n",
       "\n",
       "mpl.figure.prototype.handle_save = function (fig, _msg) {\n",
       "    fig.ondownload(fig, null);\n",
       "};\n",
       "\n",
       "mpl.find_output_cell = function (html_output) {\n",
       "    // Return the cell and output element which can be found *uniquely* in the notebook.\n",
       "    // Note - this is a bit hacky, but it is done because the \"notebook_saving.Notebook\"\n",
       "    // IPython event is triggered only after the cells have been serialised, which for\n",
       "    // our purposes (turning an active figure into a static one), is too late.\n",
       "    var cells = IPython.notebook.get_cells();\n",
       "    var ncells = cells.length;\n",
       "    for (var i = 0; i < ncells; i++) {\n",
       "        var cell = cells[i];\n",
       "        if (cell.cell_type === 'code') {\n",
       "            for (var j = 0; j < cell.output_area.outputs.length; j++) {\n",
       "                var data = cell.output_area.outputs[j];\n",
       "                if (data.data) {\n",
       "                    // IPython >= 3 moved mimebundle to data attribute of output\n",
       "                    data = data.data;\n",
       "                }\n",
       "                if (data['text/html'] === html_output) {\n",
       "                    return [cell, data, j];\n",
       "                }\n",
       "            }\n",
       "        }\n",
       "    }\n",
       "};\n",
       "\n",
       "// Register the function which deals with the matplotlib target/channel.\n",
       "// The kernel may be null if the page has been refreshed.\n",
       "if (IPython.notebook.kernel !== null) {\n",
       "    IPython.notebook.kernel.comm_manager.register_target(\n",
       "        'matplotlib',\n",
       "        mpl.mpl_figure_comm\n",
       "    );\n",
       "}\n"
      ],
      "text/plain": [
       "<IPython.core.display.Javascript object>"
      ]
     },
     "metadata": {},
     "output_type": "display_data"
    },
    {
     "data": {
      "text/html": [
       "<img src=\"data:image/png;base64,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\" width=\"640\">"
      ],
      "text/plain": [
       "<IPython.core.display.HTML object>"
      ]
     },
     "metadata": {},
     "output_type": "display_data"
    }
   ],
   "source": [
    "syn_data = np.zeros((721, 1440))\n",
    "\n",
    "\n",
    "# Lat values: 40.5, 55.5\n",
    "# Lon values: -5, 17.5\n",
    "\n",
    "\"\"\"\n",
    "Transform the real world coordinates into indexes to read the values from the data that are \n",
    "important for our investigations. \n",
    "For lateral values: The coordinates go from 90°N (+90) to 90°S (-90). Hence, we subtract the\n",
    "lat coordinate from 90 to have the distance (in °-units) from the north pole. Multiply this \n",
    "with 4, as we have a resolution of 1/4.\n",
    "For longitude values: The coordinates go from 180°W (-180) to 180°O (+180). Hence, we subtract the\n",
    "lon coordinate from 180 to have the distance (in °-units) from the coordinate with the same latitude \n",
    "value and longitude value = 180°W. Multiply this, as well, with 4.\n",
    "\"\"\"\n",
    "idx1_lat = int(90 - 55.5) * 4\n",
    "idx2_lat = int(90 - 40.5) * 4\n",
    "idx1_lon = 720 + 4 * (-5)\n",
    "idx2_lon = int(720 + 4 * 17.5)\n",
    "\n",
    "print(idx1_lat, idx2_lat)\n",
    "print(idx1_lon, idx2_lon)\n",
    "\n",
    "\n",
    "syn_data[idx1_lat-5 : idx1_lat+5, idx1_lon-5:idx1_lon+5] = 1\n",
    "syn_data[idx1_lat-5 : idx1_lat+5, idx2_lon-5:idx2_lon+5] = 1\n",
    "syn_data[idx2_lat-5 : idx2_lat+5, idx1_lon-5:idx1_lon+5] = 1\n",
    "syn_data[idx2_lat-5 : idx2_lat+5, idx2_lon-5:idx2_lon+5] = 1\n",
    "\n",
    "plt.imshow(syn_data)\n",
    "plt.show()"
   ]
  },
  {
   "cell_type": "markdown",
   "id": "480ae209",
   "metadata": {},
   "source": [
    "Read the data from western europe and store it in a numpy array."
   ]
  },
  {
   "cell_type": "code",
   "execution_count": 61,
   "id": "9ebcf2ea",
   "metadata": {},
   "outputs": [
    {
     "name": "stdout",
     "output_type": "stream",
     "text": [
      "Wall time: 6.84 s\n"
     ]
    }
   ],
   "source": [
    "%%time\n",
    "\n",
    "gr = pygrib.open(file_name)\n",
    "\n",
    "dim_lat = idx2_lat - idx1_lat\n",
    "dim_lon = idx2_lon - idx1_lon\n",
    "\n",
    "data = np.zeros((t, dim_lat, dim_lon))\n",
    "\n",
    "for idx, g in enumerate(gr):\n",
    "    data[idx, :] = g.values[idx1_lat : idx2_lat, idx1_lon : idx2_lon]"
   ]
  },
  {
   "cell_type": "code",
   "execution_count": 78,
   "id": "25c13764",
   "metadata": {},
   "outputs": [
    {
     "name": "stdout",
     "output_type": "stream",
     "text": [
      "1979-01-01 00:00:00\n"
     ]
    }
   ],
   "source": [
    "print(START_DATE.strftime('%Y-%m-%d %H:%M:%S'))"
   ]
  },
  {
   "cell_type": "code",
   "execution_count": 75,
   "id": "0c6bcaee",
   "metadata": {},
   "outputs": [
    {
     "data": {
      "application/javascript": [
       "/* Put everything inside the global mpl namespace */\n",
       "/* global mpl */\n",
       "window.mpl = {};\n",
       "\n",
       "mpl.get_websocket_type = function () {\n",
       "    if (typeof WebSocket !== 'undefined') {\n",
       "        return WebSocket;\n",
       "    } else if (typeof MozWebSocket !== 'undefined') {\n",
       "        return MozWebSocket;\n",
       "    } else {\n",
       "        alert(\n",
       "            'Your browser does not have WebSocket support. ' +\n",
       "                'Please try Chrome, Safari or Firefox ≥ 6. ' +\n",
       "                'Firefox 4 and 5 are also supported but you ' +\n",
       "                'have to enable WebSockets in about:config.'\n",
       "        );\n",
       "    }\n",
       "};\n",
       "\n",
       "mpl.figure = function (figure_id, websocket, ondownload, parent_element) {\n",
       "    this.id = figure_id;\n",
       "\n",
       "    this.ws = websocket;\n",
       "\n",
       "    this.supports_binary = this.ws.binaryType !== undefined;\n",
       "\n",
       "    if (!this.supports_binary) {\n",
       "        var warnings = document.getElementById('mpl-warnings');\n",
       "        if (warnings) {\n",
       "            warnings.style.display = 'block';\n",
       "            warnings.textContent =\n",
       "                'This browser does not support binary websocket messages. ' +\n",
       "                'Performance may be slow.';\n",
       "        }\n",
       "    }\n",
       "\n",
       "    this.imageObj = new Image();\n",
       "\n",
       "    this.context = undefined;\n",
       "    this.message = undefined;\n",
       "    this.canvas = undefined;\n",
       "    this.rubberband_canvas = undefined;\n",
       "    this.rubberband_context = undefined;\n",
       "    this.format_dropdown = undefined;\n",
       "\n",
       "    this.image_mode = 'full';\n",
       "\n",
       "    this.root = document.createElement('div');\n",
       "    this.root.setAttribute('style', 'display: inline-block');\n",
       "    this._root_extra_style(this.root);\n",
       "\n",
       "    parent_element.appendChild(this.root);\n",
       "\n",
       "    this._init_header(this);\n",
       "    this._init_canvas(this);\n",
       "    this._init_toolbar(this);\n",
       "\n",
       "    var fig = this;\n",
       "\n",
       "    this.waiting = false;\n",
       "\n",
       "    this.ws.onopen = function () {\n",
       "        fig.send_message('supports_binary', { value: fig.supports_binary });\n",
       "        fig.send_message('send_image_mode', {});\n",
       "        if (fig.ratio !== 1) {\n",
       "            fig.send_message('set_dpi_ratio', { dpi_ratio: fig.ratio });\n",
       "        }\n",
       "        fig.send_message('refresh', {});\n",
       "    };\n",
       "\n",
       "    this.imageObj.onload = function () {\n",
       "        if (fig.image_mode === 'full') {\n",
       "            // Full images could contain transparency (where diff images\n",
       "            // almost always do), so we need to clear the canvas so that\n",
       "            // there is no ghosting.\n",
       "            fig.context.clearRect(0, 0, fig.canvas.width, fig.canvas.height);\n",
       "        }\n",
       "        fig.context.drawImage(fig.imageObj, 0, 0);\n",
       "    };\n",
       "\n",
       "    this.imageObj.onunload = function () {\n",
       "        fig.ws.close();\n",
       "    };\n",
       "\n",
       "    this.ws.onmessage = this._make_on_message_function(this);\n",
       "\n",
       "    this.ondownload = ondownload;\n",
       "};\n",
       "\n",
       "mpl.figure.prototype._init_header = function () {\n",
       "    var titlebar = document.createElement('div');\n",
       "    titlebar.classList =\n",
       "        'ui-dialog-titlebar ui-widget-header ui-corner-all ui-helper-clearfix';\n",
       "    var titletext = document.createElement('div');\n",
       "    titletext.classList = 'ui-dialog-title';\n",
       "    titletext.setAttribute(\n",
       "        'style',\n",
       "        'width: 100%; text-align: center; padding: 3px;'\n",
       "    );\n",
       "    titlebar.appendChild(titletext);\n",
       "    this.root.appendChild(titlebar);\n",
       "    this.header = titletext;\n",
       "};\n",
       "\n",
       "mpl.figure.prototype._canvas_extra_style = function (_canvas_div) {};\n",
       "\n",
       "mpl.figure.prototype._root_extra_style = function (_canvas_div) {};\n",
       "\n",
       "mpl.figure.prototype._init_canvas = function () {\n",
       "    var fig = this;\n",
       "\n",
       "    var canvas_div = (this.canvas_div = document.createElement('div'));\n",
       "    canvas_div.setAttribute(\n",
       "        'style',\n",
       "        'border: 1px solid #ddd;' +\n",
       "            'box-sizing: content-box;' +\n",
       "            'clear: both;' +\n",
       "            'min-height: 1px;' +\n",
       "            'min-width: 1px;' +\n",
       "            'outline: 0;' +\n",
       "            'overflow: hidden;' +\n",
       "            'position: relative;' +\n",
       "            'resize: both;'\n",
       "    );\n",
       "\n",
       "    function on_keyboard_event_closure(name) {\n",
       "        return function (event) {\n",
       "            return fig.key_event(event, name);\n",
       "        };\n",
       "    }\n",
       "\n",
       "    canvas_div.addEventListener(\n",
       "        'keydown',\n",
       "        on_keyboard_event_closure('key_press')\n",
       "    );\n",
       "    canvas_div.addEventListener(\n",
       "        'keyup',\n",
       "        on_keyboard_event_closure('key_release')\n",
       "    );\n",
       "\n",
       "    this._canvas_extra_style(canvas_div);\n",
       "    this.root.appendChild(canvas_div);\n",
       "\n",
       "    var canvas = (this.canvas = document.createElement('canvas'));\n",
       "    canvas.classList.add('mpl-canvas');\n",
       "    canvas.setAttribute('style', 'box-sizing: content-box;');\n",
       "\n",
       "    this.context = canvas.getContext('2d');\n",
       "\n",
       "    var backingStore =\n",
       "        this.context.backingStorePixelRatio ||\n",
       "        this.context.webkitBackingStorePixelRatio ||\n",
       "        this.context.mozBackingStorePixelRatio ||\n",
       "        this.context.msBackingStorePixelRatio ||\n",
       "        this.context.oBackingStorePixelRatio ||\n",
       "        this.context.backingStorePixelRatio ||\n",
       "        1;\n",
       "\n",
       "    this.ratio = (window.devicePixelRatio || 1) / backingStore;\n",
       "\n",
       "    var rubberband_canvas = (this.rubberband_canvas = document.createElement(\n",
       "        'canvas'\n",
       "    ));\n",
       "    rubberband_canvas.setAttribute(\n",
       "        'style',\n",
       "        'box-sizing: content-box; position: absolute; left: 0; top: 0; z-index: 1;'\n",
       "    );\n",
       "\n",
       "    // Apply a ponyfill if ResizeObserver is not implemented by browser.\n",
       "    if (this.ResizeObserver === undefined) {\n",
       "        if (window.ResizeObserver !== undefined) {\n",
       "            this.ResizeObserver = window.ResizeObserver;\n",
       "        } else {\n",
       "            var obs = _JSXTOOLS_RESIZE_OBSERVER({});\n",
       "            this.ResizeObserver = obs.ResizeObserver;\n",
       "        }\n",
       "    }\n",
       "\n",
       "    this.resizeObserverInstance = new this.ResizeObserver(function (entries) {\n",
       "        var nentries = entries.length;\n",
       "        for (var i = 0; i < nentries; i++) {\n",
       "            var entry = entries[i];\n",
       "            var width, height;\n",
       "            if (entry.contentBoxSize) {\n",
       "                if (entry.contentBoxSize instanceof Array) {\n",
       "                    // Chrome 84 implements new version of spec.\n",
       "                    width = entry.contentBoxSize[0].inlineSize;\n",
       "                    height = entry.contentBoxSize[0].blockSize;\n",
       "                } else {\n",
       "                    // Firefox implements old version of spec.\n",
       "                    width = entry.contentBoxSize.inlineSize;\n",
       "                    height = entry.contentBoxSize.blockSize;\n",
       "                }\n",
       "            } else {\n",
       "                // Chrome <84 implements even older version of spec.\n",
       "                width = entry.contentRect.width;\n",
       "                height = entry.contentRect.height;\n",
       "            }\n",
       "\n",
       "            // Keep the size of the canvas and rubber band canvas in sync with\n",
       "            // the canvas container.\n",
       "            if (entry.devicePixelContentBoxSize) {\n",
       "                // Chrome 84 implements new version of spec.\n",
       "                canvas.setAttribute(\n",
       "                    'width',\n",
       "                    entry.devicePixelContentBoxSize[0].inlineSize\n",
       "                );\n",
       "                canvas.setAttribute(\n",
       "                    'height',\n",
       "                    entry.devicePixelContentBoxSize[0].blockSize\n",
       "                );\n",
       "            } else {\n",
       "                canvas.setAttribute('width', width * fig.ratio);\n",
       "                canvas.setAttribute('height', height * fig.ratio);\n",
       "            }\n",
       "            canvas.setAttribute(\n",
       "                'style',\n",
       "                'width: ' + width + 'px; height: ' + height + 'px;'\n",
       "            );\n",
       "\n",
       "            rubberband_canvas.setAttribute('width', width);\n",
       "            rubberband_canvas.setAttribute('height', height);\n",
       "\n",
       "            // And update the size in Python. We ignore the initial 0/0 size\n",
       "            // that occurs as the element is placed into the DOM, which should\n",
       "            // otherwise not happen due to the minimum size styling.\n",
       "            if (fig.ws.readyState == 1 && width != 0 && height != 0) {\n",
       "                fig.request_resize(width, height);\n",
       "            }\n",
       "        }\n",
       "    });\n",
       "    this.resizeObserverInstance.observe(canvas_div);\n",
       "\n",
       "    function on_mouse_event_closure(name) {\n",
       "        return function (event) {\n",
       "            return fig.mouse_event(event, name);\n",
       "        };\n",
       "    }\n",
       "\n",
       "    rubberband_canvas.addEventListener(\n",
       "        'mousedown',\n",
       "        on_mouse_event_closure('button_press')\n",
       "    );\n",
       "    rubberband_canvas.addEventListener(\n",
       "        'mouseup',\n",
       "        on_mouse_event_closure('button_release')\n",
       "    );\n",
       "    // Throttle sequential mouse events to 1 every 20ms.\n",
       "    rubberband_canvas.addEventListener(\n",
       "        'mousemove',\n",
       "        on_mouse_event_closure('motion_notify')\n",
       "    );\n",
       "\n",
       "    rubberband_canvas.addEventListener(\n",
       "        'mouseenter',\n",
       "        on_mouse_event_closure('figure_enter')\n",
       "    );\n",
       "    rubberband_canvas.addEventListener(\n",
       "        'mouseleave',\n",
       "        on_mouse_event_closure('figure_leave')\n",
       "    );\n",
       "\n",
       "    canvas_div.addEventListener('wheel', function (event) {\n",
       "        if (event.deltaY < 0) {\n",
       "            event.step = 1;\n",
       "        } else {\n",
       "            event.step = -1;\n",
       "        }\n",
       "        on_mouse_event_closure('scroll')(event);\n",
       "    });\n",
       "\n",
       "    canvas_div.appendChild(canvas);\n",
       "    canvas_div.appendChild(rubberband_canvas);\n",
       "\n",
       "    this.rubberband_context = rubberband_canvas.getContext('2d');\n",
       "    this.rubberband_context.strokeStyle = '#000000';\n",
       "\n",
       "    this._resize_canvas = function (width, height, forward) {\n",
       "        if (forward) {\n",
       "            canvas_div.style.width = width + 'px';\n",
       "            canvas_div.style.height = height + 'px';\n",
       "        }\n",
       "    };\n",
       "\n",
       "    // Disable right mouse context menu.\n",
       "    this.rubberband_canvas.addEventListener('contextmenu', function (_e) {\n",
       "        event.preventDefault();\n",
       "        return false;\n",
       "    });\n",
       "\n",
       "    function set_focus() {\n",
       "        canvas.focus();\n",
       "        canvas_div.focus();\n",
       "    }\n",
       "\n",
       "    window.setTimeout(set_focus, 100);\n",
       "};\n",
       "\n",
       "mpl.figure.prototype._init_toolbar = function () {\n",
       "    var fig = this;\n",
       "\n",
       "    var toolbar = document.createElement('div');\n",
       "    toolbar.classList = 'mpl-toolbar';\n",
       "    this.root.appendChild(toolbar);\n",
       "\n",
       "    function on_click_closure(name) {\n",
       "        return function (_event) {\n",
       "            return fig.toolbar_button_onclick(name);\n",
       "        };\n",
       "    }\n",
       "\n",
       "    function on_mouseover_closure(tooltip) {\n",
       "        return function (event) {\n",
       "            if (!event.currentTarget.disabled) {\n",
       "                return fig.toolbar_button_onmouseover(tooltip);\n",
       "            }\n",
       "        };\n",
       "    }\n",
       "\n",
       "    fig.buttons = {};\n",
       "    var buttonGroup = document.createElement('div');\n",
       "    buttonGroup.classList = 'mpl-button-group';\n",
       "    for (var toolbar_ind in mpl.toolbar_items) {\n",
       "        var name = mpl.toolbar_items[toolbar_ind][0];\n",
       "        var tooltip = mpl.toolbar_items[toolbar_ind][1];\n",
       "        var image = mpl.toolbar_items[toolbar_ind][2];\n",
       "        var method_name = mpl.toolbar_items[toolbar_ind][3];\n",
       "\n",
       "        if (!name) {\n",
       "            /* Instead of a spacer, we start a new button group. */\n",
       "            if (buttonGroup.hasChildNodes()) {\n",
       "                toolbar.appendChild(buttonGroup);\n",
       "            }\n",
       "            buttonGroup = document.createElement('div');\n",
       "            buttonGroup.classList = 'mpl-button-group';\n",
       "            continue;\n",
       "        }\n",
       "\n",
       "        var button = (fig.buttons[name] = document.createElement('button'));\n",
       "        button.classList = 'mpl-widget';\n",
       "        button.setAttribute('role', 'button');\n",
       "        button.setAttribute('aria-disabled', 'false');\n",
       "        button.addEventListener('click', on_click_closure(method_name));\n",
       "        button.addEventListener('mouseover', on_mouseover_closure(tooltip));\n",
       "\n",
       "        var icon_img = document.createElement('img');\n",
       "        icon_img.src = '_images/' + image + '.png';\n",
       "        icon_img.srcset = '_images/' + image + '_large.png 2x';\n",
       "        icon_img.alt = tooltip;\n",
       "        button.appendChild(icon_img);\n",
       "\n",
       "        buttonGroup.appendChild(button);\n",
       "    }\n",
       "\n",
       "    if (buttonGroup.hasChildNodes()) {\n",
       "        toolbar.appendChild(buttonGroup);\n",
       "    }\n",
       "\n",
       "    var fmt_picker = document.createElement('select');\n",
       "    fmt_picker.classList = 'mpl-widget';\n",
       "    toolbar.appendChild(fmt_picker);\n",
       "    this.format_dropdown = fmt_picker;\n",
       "\n",
       "    for (var ind in mpl.extensions) {\n",
       "        var fmt = mpl.extensions[ind];\n",
       "        var option = document.createElement('option');\n",
       "        option.selected = fmt === mpl.default_extension;\n",
       "        option.innerHTML = fmt;\n",
       "        fmt_picker.appendChild(option);\n",
       "    }\n",
       "\n",
       "    var status_bar = document.createElement('span');\n",
       "    status_bar.classList = 'mpl-message';\n",
       "    toolbar.appendChild(status_bar);\n",
       "    this.message = status_bar;\n",
       "};\n",
       "\n",
       "mpl.figure.prototype.request_resize = function (x_pixels, y_pixels) {\n",
       "    // Request matplotlib to resize the figure. Matplotlib will then trigger a resize in the client,\n",
       "    // which will in turn request a refresh of the image.\n",
       "    this.send_message('resize', { width: x_pixels, height: y_pixels });\n",
       "};\n",
       "\n",
       "mpl.figure.prototype.send_message = function (type, properties) {\n",
       "    properties['type'] = type;\n",
       "    properties['figure_id'] = this.id;\n",
       "    this.ws.send(JSON.stringify(properties));\n",
       "};\n",
       "\n",
       "mpl.figure.prototype.send_draw_message = function () {\n",
       "    if (!this.waiting) {\n",
       "        this.waiting = true;\n",
       "        this.ws.send(JSON.stringify({ type: 'draw', figure_id: this.id }));\n",
       "    }\n",
       "};\n",
       "\n",
       "mpl.figure.prototype.handle_save = function (fig, _msg) {\n",
       "    var format_dropdown = fig.format_dropdown;\n",
       "    var format = format_dropdown.options[format_dropdown.selectedIndex].value;\n",
       "    fig.ondownload(fig, format);\n",
       "};\n",
       "\n",
       "mpl.figure.prototype.handle_resize = function (fig, msg) {\n",
       "    var size = msg['size'];\n",
       "    if (size[0] !== fig.canvas.width || size[1] !== fig.canvas.height) {\n",
       "        fig._resize_canvas(size[0], size[1], msg['forward']);\n",
       "        fig.send_message('refresh', {});\n",
       "    }\n",
       "};\n",
       "\n",
       "mpl.figure.prototype.handle_rubberband = function (fig, msg) {\n",
       "    var x0 = msg['x0'] / fig.ratio;\n",
       "    var y0 = (fig.canvas.height - msg['y0']) / fig.ratio;\n",
       "    var x1 = msg['x1'] / fig.ratio;\n",
       "    var y1 = (fig.canvas.height - msg['y1']) / fig.ratio;\n",
       "    x0 = Math.floor(x0) + 0.5;\n",
       "    y0 = Math.floor(y0) + 0.5;\n",
       "    x1 = Math.floor(x1) + 0.5;\n",
       "    y1 = Math.floor(y1) + 0.5;\n",
       "    var min_x = Math.min(x0, x1);\n",
       "    var min_y = Math.min(y0, y1);\n",
       "    var width = Math.abs(x1 - x0);\n",
       "    var height = Math.abs(y1 - y0);\n",
       "\n",
       "    fig.rubberband_context.clearRect(\n",
       "        0,\n",
       "        0,\n",
       "        fig.canvas.width / fig.ratio,\n",
       "        fig.canvas.height / fig.ratio\n",
       "    );\n",
       "\n",
       "    fig.rubberband_context.strokeRect(min_x, min_y, width, height);\n",
       "};\n",
       "\n",
       "mpl.figure.prototype.handle_figure_label = function (fig, msg) {\n",
       "    // Updates the figure title.\n",
       "    fig.header.textContent = msg['label'];\n",
       "};\n",
       "\n",
       "mpl.figure.prototype.handle_cursor = function (fig, msg) {\n",
       "    var cursor = msg['cursor'];\n",
       "    switch (cursor) {\n",
       "        case 0:\n",
       "            cursor = 'pointer';\n",
       "            break;\n",
       "        case 1:\n",
       "            cursor = 'default';\n",
       "            break;\n",
       "        case 2:\n",
       "            cursor = 'crosshair';\n",
       "            break;\n",
       "        case 3:\n",
       "            cursor = 'move';\n",
       "            break;\n",
       "    }\n",
       "    fig.rubberband_canvas.style.cursor = cursor;\n",
       "};\n",
       "\n",
       "mpl.figure.prototype.handle_message = function (fig, msg) {\n",
       "    fig.message.textContent = msg['message'];\n",
       "};\n",
       "\n",
       "mpl.figure.prototype.handle_draw = function (fig, _msg) {\n",
       "    // Request the server to send over a new figure.\n",
       "    fig.send_draw_message();\n",
       "};\n",
       "\n",
       "mpl.figure.prototype.handle_image_mode = function (fig, msg) {\n",
       "    fig.image_mode = msg['mode'];\n",
       "};\n",
       "\n",
       "mpl.figure.prototype.handle_history_buttons = function (fig, msg) {\n",
       "    for (var key in msg) {\n",
       "        if (!(key in fig.buttons)) {\n",
       "            continue;\n",
       "        }\n",
       "        fig.buttons[key].disabled = !msg[key];\n",
       "        fig.buttons[key].setAttribute('aria-disabled', !msg[key]);\n",
       "    }\n",
       "};\n",
       "\n",
       "mpl.figure.prototype.handle_navigate_mode = function (fig, msg) {\n",
       "    if (msg['mode'] === 'PAN') {\n",
       "        fig.buttons['Pan'].classList.add('active');\n",
       "        fig.buttons['Zoom'].classList.remove('active');\n",
       "    } else if (msg['mode'] === 'ZOOM') {\n",
       "        fig.buttons['Pan'].classList.remove('active');\n",
       "        fig.buttons['Zoom'].classList.add('active');\n",
       "    } else {\n",
       "        fig.buttons['Pan'].classList.remove('active');\n",
       "        fig.buttons['Zoom'].classList.remove('active');\n",
       "    }\n",
       "};\n",
       "\n",
       "mpl.figure.prototype.updated_canvas_event = function () {\n",
       "    // Called whenever the canvas gets updated.\n",
       "    this.send_message('ack', {});\n",
       "};\n",
       "\n",
       "// A function to construct a web socket function for onmessage handling.\n",
       "// Called in the figure constructor.\n",
       "mpl.figure.prototype._make_on_message_function = function (fig) {\n",
       "    return function socket_on_message(evt) {\n",
       "        if (evt.data instanceof Blob) {\n",
       "            /* FIXME: We get \"Resource interpreted as Image but\n",
       "             * transferred with MIME type text/plain:\" errors on\n",
       "             * Chrome.  But how to set the MIME type?  It doesn't seem\n",
       "             * to be part of the websocket stream */\n",
       "            evt.data.type = 'image/png';\n",
       "\n",
       "            /* Free the memory for the previous frames */\n",
       "            if (fig.imageObj.src) {\n",
       "                (window.URL || window.webkitURL).revokeObjectURL(\n",
       "                    fig.imageObj.src\n",
       "                );\n",
       "            }\n",
       "\n",
       "            fig.imageObj.src = (window.URL || window.webkitURL).createObjectURL(\n",
       "                evt.data\n",
       "            );\n",
       "            fig.updated_canvas_event();\n",
       "            fig.waiting = false;\n",
       "            return;\n",
       "        } else if (\n",
       "            typeof evt.data === 'string' &&\n",
       "            evt.data.slice(0, 21) === 'data:image/png;base64'\n",
       "        ) {\n",
       "            fig.imageObj.src = evt.data;\n",
       "            fig.updated_canvas_event();\n",
       "            fig.waiting = false;\n",
       "            return;\n",
       "        }\n",
       "\n",
       "        var msg = JSON.parse(evt.data);\n",
       "        var msg_type = msg['type'];\n",
       "\n",
       "        // Call the  \"handle_{type}\" callback, which takes\n",
       "        // the figure and JSON message as its only arguments.\n",
       "        try {\n",
       "            var callback = fig['handle_' + msg_type];\n",
       "        } catch (e) {\n",
       "            console.log(\n",
       "                \"No handler for the '\" + msg_type + \"' message type: \",\n",
       "                msg\n",
       "            );\n",
       "            return;\n",
       "        }\n",
       "\n",
       "        if (callback) {\n",
       "            try {\n",
       "                // console.log(\"Handling '\" + msg_type + \"' message: \", msg);\n",
       "                callback(fig, msg);\n",
       "            } catch (e) {\n",
       "                console.log(\n",
       "                    \"Exception inside the 'handler_\" + msg_type + \"' callback:\",\n",
       "                    e,\n",
       "                    e.stack,\n",
       "                    msg\n",
       "                );\n",
       "            }\n",
       "        }\n",
       "    };\n",
       "};\n",
       "\n",
       "// from http://stackoverflow.com/questions/1114465/getting-mouse-location-in-canvas\n",
       "mpl.findpos = function (e) {\n",
       "    //this section is from http://www.quirksmode.org/js/events_properties.html\n",
       "    var targ;\n",
       "    if (!e) {\n",
       "        e = window.event;\n",
       "    }\n",
       "    if (e.target) {\n",
       "        targ = e.target;\n",
       "    } else if (e.srcElement) {\n",
       "        targ = e.srcElement;\n",
       "    }\n",
       "    if (targ.nodeType === 3) {\n",
       "        // defeat Safari bug\n",
       "        targ = targ.parentNode;\n",
       "    }\n",
       "\n",
       "    // pageX,Y are the mouse positions relative to the document\n",
       "    var boundingRect = targ.getBoundingClientRect();\n",
       "    var x = e.pageX - (boundingRect.left + document.body.scrollLeft);\n",
       "    var y = e.pageY - (boundingRect.top + document.body.scrollTop);\n",
       "\n",
       "    return { x: x, y: y };\n",
       "};\n",
       "\n",
       "/*\n",
       " * return a copy of an object with only non-object keys\n",
       " * we need this to avoid circular references\n",
       " * http://stackoverflow.com/a/24161582/3208463\n",
       " */\n",
       "function simpleKeys(original) {\n",
       "    return Object.keys(original).reduce(function (obj, key) {\n",
       "        if (typeof original[key] !== 'object') {\n",
       "            obj[key] = original[key];\n",
       "        }\n",
       "        return obj;\n",
       "    }, {});\n",
       "}\n",
       "\n",
       "mpl.figure.prototype.mouse_event = function (event, name) {\n",
       "    var canvas_pos = mpl.findpos(event);\n",
       "\n",
       "    if (name === 'button_press') {\n",
       "        this.canvas.focus();\n",
       "        this.canvas_div.focus();\n",
       "    }\n",
       "\n",
       "    var x = canvas_pos.x * this.ratio;\n",
       "    var y = canvas_pos.y * this.ratio;\n",
       "\n",
       "    this.send_message(name, {\n",
       "        x: x,\n",
       "        y: y,\n",
       "        button: event.button,\n",
       "        step: event.step,\n",
       "        guiEvent: simpleKeys(event),\n",
       "    });\n",
       "\n",
       "    /* This prevents the web browser from automatically changing to\n",
       "     * the text insertion cursor when the button is pressed.  We want\n",
       "     * to control all of the cursor setting manually through the\n",
       "     * 'cursor' event from matplotlib */\n",
       "    event.preventDefault();\n",
       "    return false;\n",
       "};\n",
       "\n",
       "mpl.figure.prototype._key_event_extra = function (_event, _name) {\n",
       "    // Handle any extra behaviour associated with a key event\n",
       "};\n",
       "\n",
       "mpl.figure.prototype.key_event = function (event, name) {\n",
       "    // Prevent repeat events\n",
       "    if (name === 'key_press') {\n",
       "        if (event.which === this._key) {\n",
       "            return;\n",
       "        } else {\n",
       "            this._key = event.which;\n",
       "        }\n",
       "    }\n",
       "    if (name === 'key_release') {\n",
       "        this._key = null;\n",
       "    }\n",
       "\n",
       "    var value = '';\n",
       "    if (event.ctrlKey && event.which !== 17) {\n",
       "        value += 'ctrl+';\n",
       "    }\n",
       "    if (event.altKey && event.which !== 18) {\n",
       "        value += 'alt+';\n",
       "    }\n",
       "    if (event.shiftKey && event.which !== 16) {\n",
       "        value += 'shift+';\n",
       "    }\n",
       "\n",
       "    value += 'k';\n",
       "    value += event.which.toString();\n",
       "\n",
       "    this._key_event_extra(event, name);\n",
       "\n",
       "    this.send_message(name, { key: value, guiEvent: simpleKeys(event) });\n",
       "    return false;\n",
       "};\n",
       "\n",
       "mpl.figure.prototype.toolbar_button_onclick = function (name) {\n",
       "    if (name === 'download') {\n",
       "        this.handle_save(this, null);\n",
       "    } else {\n",
       "        this.send_message('toolbar_button', { name: name });\n",
       "    }\n",
       "};\n",
       "\n",
       "mpl.figure.prototype.toolbar_button_onmouseover = function (tooltip) {\n",
       "    this.message.textContent = tooltip;\n",
       "};\n",
       "\n",
       "///////////////// REMAINING CONTENT GENERATED BY embed_js.py /////////////////\n",
       "// prettier-ignore\n",
       "var _JSXTOOLS_RESIZE_OBSERVER=function(A){var t,i=new WeakMap,n=new WeakMap,a=new WeakMap,r=new WeakMap,o=new Set;function s(e){if(!(this instanceof s))throw new TypeError(\"Constructor requires 'new' operator\");i.set(this,e)}function h(){throw new TypeError(\"Function is not a constructor\")}function c(e,t,i,n){e=0 in arguments?Number(arguments[0]):0,t=1 in arguments?Number(arguments[1]):0,i=2 in arguments?Number(arguments[2]):0,n=3 in arguments?Number(arguments[3]):0,this.right=(this.x=this.left=e)+(this.width=i),this.bottom=(this.y=this.top=t)+(this.height=n),Object.freeze(this)}function d(){t=requestAnimationFrame(d);var s=new WeakMap,p=new Set;o.forEach((function(t){r.get(t).forEach((function(i){var r=t instanceof window.SVGElement,o=a.get(t),d=r?0:parseFloat(o.paddingTop),f=r?0:parseFloat(o.paddingRight),l=r?0:parseFloat(o.paddingBottom),u=r?0:parseFloat(o.paddingLeft),g=r?0:parseFloat(o.borderTopWidth),m=r?0:parseFloat(o.borderRightWidth),w=r?0:parseFloat(o.borderBottomWidth),b=u+f,F=d+l,v=(r?0:parseFloat(o.borderLeftWidth))+m,W=g+w,y=r?0:t.offsetHeight-W-t.clientHeight,E=r?0:t.offsetWidth-v-t.clientWidth,R=b+v,z=F+W,M=r?t.width:parseFloat(o.width)-R-E,O=r?t.height:parseFloat(o.height)-z-y;if(n.has(t)){var k=n.get(t);if(k[0]===M&&k[1]===O)return}n.set(t,[M,O]);var S=Object.create(h.prototype);S.target=t,S.contentRect=new c(u,d,M,O),s.has(i)||(s.set(i,[]),p.add(i)),s.get(i).push(S)}))})),p.forEach((function(e){i.get(e).call(e,s.get(e),e)}))}return s.prototype.observe=function(i){if(i instanceof window.Element){r.has(i)||(r.set(i,new Set),o.add(i),a.set(i,window.getComputedStyle(i)));var n=r.get(i);n.has(this)||n.add(this),cancelAnimationFrame(t),t=requestAnimationFrame(d)}},s.prototype.unobserve=function(i){if(i instanceof window.Element&&r.has(i)){var n=r.get(i);n.has(this)&&(n.delete(this),n.size||(r.delete(i),o.delete(i))),n.size||r.delete(i),o.size||cancelAnimationFrame(t)}},A.DOMRectReadOnly=c,A.ResizeObserver=s,A.ResizeObserverEntry=h,A}; // eslint-disable-line\n",
       "mpl.toolbar_items = [[\"Home\", \"Reset original view\", \"fa fa-home icon-home\", \"home\"], [\"Back\", \"Back to previous view\", \"fa fa-arrow-left icon-arrow-left\", \"back\"], [\"Forward\", \"Forward to next view\", \"fa fa-arrow-right icon-arrow-right\", \"forward\"], [\"\", \"\", \"\", \"\"], [\"Pan\", \"Left button pans, Right button zooms\\nx/y fixes axis, CTRL fixes aspect\", \"fa fa-arrows icon-move\", \"pan\"], [\"Zoom\", \"Zoom to rectangle\\nx/y fixes axis, CTRL fixes aspect\", \"fa fa-square-o icon-check-empty\", \"zoom\"], [\"\", \"\", \"\", \"\"], [\"Download\", \"Download plot\", \"fa fa-floppy-o icon-save\", \"download\"]];\n",
       "\n",
       "mpl.extensions = [\"eps\", \"jpeg\", \"pdf\", \"png\", \"ps\", \"raw\", \"svg\", \"tif\"];\n",
       "\n",
       "mpl.default_extension = \"png\";/* global mpl */\n",
       "\n",
       "var comm_websocket_adapter = function (comm) {\n",
       "    // Create a \"websocket\"-like object which calls the given IPython comm\n",
       "    // object with the appropriate methods. Currently this is a non binary\n",
       "    // socket, so there is still some room for performance tuning.\n",
       "    var ws = {};\n",
       "\n",
       "    ws.close = function () {\n",
       "        comm.close();\n",
       "    };\n",
       "    ws.send = function (m) {\n",
       "        //console.log('sending', m);\n",
       "        comm.send(m);\n",
       "    };\n",
       "    // Register the callback with on_msg.\n",
       "    comm.on_msg(function (msg) {\n",
       "        //console.log('receiving', msg['content']['data'], msg);\n",
       "        // Pass the mpl event to the overridden (by mpl) onmessage function.\n",
       "        ws.onmessage(msg['content']['data']);\n",
       "    });\n",
       "    return ws;\n",
       "};\n",
       "\n",
       "mpl.mpl_figure_comm = function (comm, msg) {\n",
       "    // This is the function which gets called when the mpl process\n",
       "    // starts-up an IPython Comm through the \"matplotlib\" channel.\n",
       "\n",
       "    var id = msg.content.data.id;\n",
       "    // Get hold of the div created by the display call when the Comm\n",
       "    // socket was opened in Python.\n",
       "    var element = document.getElementById(id);\n",
       "    var ws_proxy = comm_websocket_adapter(comm);\n",
       "\n",
       "    function ondownload(figure, _format) {\n",
       "        window.open(figure.canvas.toDataURL());\n",
       "    }\n",
       "\n",
       "    var fig = new mpl.figure(id, ws_proxy, ondownload, element);\n",
       "\n",
       "    // Call onopen now - mpl needs it, as it is assuming we've passed it a real\n",
       "    // web socket which is closed, not our websocket->open comm proxy.\n",
       "    ws_proxy.onopen();\n",
       "\n",
       "    fig.parent_element = element;\n",
       "    fig.cell_info = mpl.find_output_cell(\"<div id='\" + id + \"'></div>\");\n",
       "    if (!fig.cell_info) {\n",
       "        console.error('Failed to find cell for figure', id, fig);\n",
       "        return;\n",
       "    }\n",
       "    fig.cell_info[0].output_area.element.on(\n",
       "        'cleared',\n",
       "        { fig: fig },\n",
       "        fig._remove_fig_handler\n",
       "    );\n",
       "};\n",
       "\n",
       "mpl.figure.prototype.handle_close = function (fig, msg) {\n",
       "    var width = fig.canvas.width / fig.ratio;\n",
       "    fig.cell_info[0].output_area.element.off(\n",
       "        'cleared',\n",
       "        fig._remove_fig_handler\n",
       "    );\n",
       "    fig.resizeObserverInstance.unobserve(fig.canvas_div);\n",
       "\n",
       "    // Update the output cell to use the data from the current canvas.\n",
       "    fig.push_to_output();\n",
       "    var dataURL = fig.canvas.toDataURL();\n",
       "    // Re-enable the keyboard manager in IPython - without this line, in FF,\n",
       "    // the notebook keyboard shortcuts fail.\n",
       "    IPython.keyboard_manager.enable();\n",
       "    fig.parent_element.innerHTML =\n",
       "        '<img src=\"' + dataURL + '\" width=\"' + width + '\">';\n",
       "    fig.close_ws(fig, msg);\n",
       "};\n",
       "\n",
       "mpl.figure.prototype.close_ws = function (fig, msg) {\n",
       "    fig.send_message('closing', msg);\n",
       "    // fig.ws.close()\n",
       "};\n",
       "\n",
       "mpl.figure.prototype.push_to_output = function (_remove_interactive) {\n",
       "    // Turn the data on the canvas into data in the output cell.\n",
       "    var width = this.canvas.width / this.ratio;\n",
       "    var dataURL = this.canvas.toDataURL();\n",
       "    this.cell_info[1]['text/html'] =\n",
       "        '<img src=\"' + dataURL + '\" width=\"' + width + '\">';\n",
       "};\n",
       "\n",
       "mpl.figure.prototype.updated_canvas_event = function () {\n",
       "    // Tell IPython that the notebook contents must change.\n",
       "    IPython.notebook.set_dirty(true);\n",
       "    this.send_message('ack', {});\n",
       "    var fig = this;\n",
       "    // Wait a second, then push the new image to the DOM so\n",
       "    // that it is saved nicely (might be nice to debounce this).\n",
       "    setTimeout(function () {\n",
       "        fig.push_to_output();\n",
       "    }, 1000);\n",
       "};\n",
       "\n",
       "mpl.figure.prototype._init_toolbar = function () {\n",
       "    var fig = this;\n",
       "\n",
       "    var toolbar = document.createElement('div');\n",
       "    toolbar.classList = 'btn-toolbar';\n",
       "    this.root.appendChild(toolbar);\n",
       "\n",
       "    function on_click_closure(name) {\n",
       "        return function (_event) {\n",
       "            return fig.toolbar_button_onclick(name);\n",
       "        };\n",
       "    }\n",
       "\n",
       "    function on_mouseover_closure(tooltip) {\n",
       "        return function (event) {\n",
       "            if (!event.currentTarget.disabled) {\n",
       "                return fig.toolbar_button_onmouseover(tooltip);\n",
       "            }\n",
       "        };\n",
       "    }\n",
       "\n",
       "    fig.buttons = {};\n",
       "    var buttonGroup = document.createElement('div');\n",
       "    buttonGroup.classList = 'btn-group';\n",
       "    var button;\n",
       "    for (var toolbar_ind in mpl.toolbar_items) {\n",
       "        var name = mpl.toolbar_items[toolbar_ind][0];\n",
       "        var tooltip = mpl.toolbar_items[toolbar_ind][1];\n",
       "        var image = mpl.toolbar_items[toolbar_ind][2];\n",
       "        var method_name = mpl.toolbar_items[toolbar_ind][3];\n",
       "\n",
       "        if (!name) {\n",
       "            /* Instead of a spacer, we start a new button group. */\n",
       "            if (buttonGroup.hasChildNodes()) {\n",
       "                toolbar.appendChild(buttonGroup);\n",
       "            }\n",
       "            buttonGroup = document.createElement('div');\n",
       "            buttonGroup.classList = 'btn-group';\n",
       "            continue;\n",
       "        }\n",
       "\n",
       "        button = fig.buttons[name] = document.createElement('button');\n",
       "        button.classList = 'btn btn-default';\n",
       "        button.href = '#';\n",
       "        button.title = name;\n",
       "        button.innerHTML = '<i class=\"fa ' + image + ' fa-lg\"></i>';\n",
       "        button.addEventListener('click', on_click_closure(method_name));\n",
       "        button.addEventListener('mouseover', on_mouseover_closure(tooltip));\n",
       "        buttonGroup.appendChild(button);\n",
       "    }\n",
       "\n",
       "    if (buttonGroup.hasChildNodes()) {\n",
       "        toolbar.appendChild(buttonGroup);\n",
       "    }\n",
       "\n",
       "    // Add the status bar.\n",
       "    var status_bar = document.createElement('span');\n",
       "    status_bar.classList = 'mpl-message pull-right';\n",
       "    toolbar.appendChild(status_bar);\n",
       "    this.message = status_bar;\n",
       "\n",
       "    // Add the close button to the window.\n",
       "    var buttongrp = document.createElement('div');\n",
       "    buttongrp.classList = 'btn-group inline pull-right';\n",
       "    button = document.createElement('button');\n",
       "    button.classList = 'btn btn-mini btn-primary';\n",
       "    button.href = '#';\n",
       "    button.title = 'Stop Interaction';\n",
       "    button.innerHTML = '<i class=\"fa fa-power-off icon-remove icon-large\"></i>';\n",
       "    button.addEventListener('click', function (_evt) {\n",
       "        fig.handle_close(fig, {});\n",
       "    });\n",
       "    button.addEventListener(\n",
       "        'mouseover',\n",
       "        on_mouseover_closure('Stop Interaction')\n",
       "    );\n",
       "    buttongrp.appendChild(button);\n",
       "    var titlebar = this.root.querySelector('.ui-dialog-titlebar');\n",
       "    titlebar.insertBefore(buttongrp, titlebar.firstChild);\n",
       "};\n",
       "\n",
       "mpl.figure.prototype._remove_fig_handler = function (event) {\n",
       "    var fig = event.data.fig;\n",
       "    if (event.target !== this) {\n",
       "        // Ignore bubbled events from children.\n",
       "        return;\n",
       "    }\n",
       "    fig.close_ws(fig, {});\n",
       "};\n",
       "\n",
       "mpl.figure.prototype._root_extra_style = function (el) {\n",
       "    el.style.boxSizing = 'content-box'; // override notebook setting of border-box.\n",
       "};\n",
       "\n",
       "mpl.figure.prototype._canvas_extra_style = function (el) {\n",
       "    // this is important to make the div 'focusable\n",
       "    el.setAttribute('tabindex', 0);\n",
       "    // reach out to IPython and tell the keyboard manager to turn it's self\n",
       "    // off when our div gets focus\n",
       "\n",
       "    // location in version 3\n",
       "    if (IPython.notebook.keyboard_manager) {\n",
       "        IPython.notebook.keyboard_manager.register_events(el);\n",
       "    } else {\n",
       "        // location in version 2\n",
       "        IPython.keyboard_manager.register_events(el);\n",
       "    }\n",
       "};\n",
       "\n",
       "mpl.figure.prototype._key_event_extra = function (event, _name) {\n",
       "    var manager = IPython.notebook.keyboard_manager;\n",
       "    if (!manager) {\n",
       "        manager = IPython.keyboard_manager;\n",
       "    }\n",
       "\n",
       "    // Check for shift+enter\n",
       "    if (event.shiftKey && event.which === 13) {\n",
       "        this.canvas_div.blur();\n",
       "        // select the cell after this one\n",
       "        var index = IPython.notebook.find_cell_index(this.cell_info[0]);\n",
       "        IPython.notebook.select(index + 1);\n",
       "    }\n",
       "};\n",
       "\n",
       "mpl.figure.prototype.handle_save = function (fig, _msg) {\n",
       "    fig.ondownload(fig, null);\n",
       "};\n",
       "\n",
       "mpl.find_output_cell = function (html_output) {\n",
       "    // Return the cell and output element which can be found *uniquely* in the notebook.\n",
       "    // Note - this is a bit hacky, but it is done because the \"notebook_saving.Notebook\"\n",
       "    // IPython event is triggered only after the cells have been serialised, which for\n",
       "    // our purposes (turning an active figure into a static one), is too late.\n",
       "    var cells = IPython.notebook.get_cells();\n",
       "    var ncells = cells.length;\n",
       "    for (var i = 0; i < ncells; i++) {\n",
       "        var cell = cells[i];\n",
       "        if (cell.cell_type === 'code') {\n",
       "            for (var j = 0; j < cell.output_area.outputs.length; j++) {\n",
       "                var data = cell.output_area.outputs[j];\n",
       "                if (data.data) {\n",
       "                    // IPython >= 3 moved mimebundle to data attribute of output\n",
       "                    data = data.data;\n",
       "                }\n",
       "                if (data['text/html'] === html_output) {\n",
       "                    return [cell, data, j];\n",
       "                }\n",
       "            }\n",
       "        }\n",
       "    }\n",
       "};\n",
       "\n",
       "// Register the function which deals with the matplotlib target/channel.\n",
       "// The kernel may be null if the page has been refreshed.\n",
       "if (IPython.notebook.kernel !== null) {\n",
       "    IPython.notebook.kernel.comm_manager.register_target(\n",
       "        'matplotlib',\n",
       "        mpl.mpl_figure_comm\n",
       "    );\n",
       "}\n"
      ],
      "text/plain": [
       "<IPython.core.display.Javascript object>"
      ]
     },
     "metadata": {},
     "output_type": "display_data"
    },
    {
     "data": {
      "text/html": [
       "<img src=\"data:image/png;base64,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\" width=\"800\">"
      ],
      "text/plain": [
       "<IPython.core.display.HTML object>"
      ]
     },
     "metadata": {},
     "output_type": "display_data"
    }
   ],
   "source": [
    "%matplotlib notebook\n",
    "\n",
    "def update(t, ax, data):\n",
    "    curr_date = START_DATE + relativedelta(months=t)\n",
    "    ax.set_title(f\"Current date: {curr_date}\")\n",
    "    time.sleep(0.1)\n",
    "    ax.imshow(data[t])\n",
    "    return None\n",
    "\n",
    "fig, ax = plt.subplots(1, 1, figsize=[8, 4])\n",
    "ITERATIONS = data.shape[0]\n",
    "\n",
    "anim = FuncAnimation(fig, update, frames=ITERATIONS, interval=50, blit=True, \n",
    "                     fargs=([ax, data]))"
   ]
  },
  {
   "cell_type": "markdown",
   "id": "41ddfcc8",
   "metadata": {},
   "source": [
    "The visualization of the data does not appear to be smooth. However, since the data comes with a monthly resolution, this is not too suprising. However, some parts of the data seems to be poorly reanalyzed (especially in the upper right). This could lead to wrong conclusions in our results (we might detect communities even if there are none).\n",
    "\n",
    "\n",
    "Next, store the data to save some space."
   ]
  },
  {
   "cell_type": "code",
   "execution_count": 63,
   "id": "fe8bd14b",
   "metadata": {},
   "outputs": [],
   "source": [
    "np.save('data.npy', data)"
   ]
  },
  {
   "cell_type": "code",
   "execution_count": null,
   "id": "106d7f27",
   "metadata": {},
   "outputs": [],
   "source": []
  }
 ],
 "metadata": {
  "kernelspec": {
   "display_name": "Python 3",
   "language": "python",
   "name": "python3"
  },
  "language_info": {
   "codemirror_mode": {
    "name": "ipython",
    "version": 3
   },
   "file_extension": ".py",
   "mimetype": "text/x-python",
   "name": "python",
   "nbconvert_exporter": "python",
   "pygments_lexer": "ipython3",
   "version": "3.9.5"
  }
 },
 "nbformat": 4,
 "nbformat_minor": 5
}
