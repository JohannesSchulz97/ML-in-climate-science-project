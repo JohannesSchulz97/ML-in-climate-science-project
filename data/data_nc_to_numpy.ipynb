{
 "cells": [
  {
   "cell_type": "code",
   "execution_count": 2,
   "id": "2c7f43ef",
   "metadata": {},
   "outputs": [],
   "source": [
    "import numpy as np\n",
    "import netCDF4 as nc\n",
    "\n",
    "import time"
   ]
  },
  {
   "cell_type": "markdown",
   "id": "c87b5d18",
   "metadata": {},
   "source": [
    "## Read the data \n",
    "\n",
    "Read the dat afrom the nc dataset and extract the total precipitation (tp) to a numpy array."
   ]
  },
  {
   "cell_type": "code",
   "execution_count": 3,
   "id": "9f1ec5d5",
   "metadata": {},
   "outputs": [],
   "source": [
    "data = nc.Dataset(\"western_europe.nc\")"
   ]
  },
  {
   "cell_type": "code",
   "execution_count": 4,
   "id": "649f5922",
   "metadata": {},
   "outputs": [
    {
     "name": "stdout",
     "output_type": "stream",
     "text": [
      "(509, 161, 221)\n"
     ]
    }
   ],
   "source": [
    "data_shape = data['tp'].shape\n",
    "\n",
    "data_npy = np.zeros((data_shape[0], data_shape[2], data_shape[3]))\n",
    "\n",
    "data_npy[:, :, :] = data['tp'][:, 0, :, :]\n",
    "print(data_npy.shape)"
   ]
  },
  {
   "cell_type": "markdown",
   "id": "31b6d445",
   "metadata": {},
   "source": [
    "The last two time steps of this data contains only missing values. Therefore, these steps are removed from our data."
   ]
  },
  {
   "cell_type": "code",
   "execution_count": 19,
   "id": "b118aa60",
   "metadata": {},
   "outputs": [
    {
     "name": "stdout",
     "output_type": "stream",
     "text": [
      "The data contains 71162 missing values.\n",
      "71162\n",
      "After removing the last two matrices in our tensor we have 0 remaining.\n"
     ]
    }
   ],
   "source": [
    "MISSING_VALUE = -32767.\n",
    "\n",
    "n_missing_vals = len(np.where(data_npy == MISSING_VALUE)[0])\n",
    "print(f'The data contains {n_missing_vals} missing values.')\n",
    "print(161 * 221 * 2)  # The number of entries in the last two time steps.\n",
    "\n",
    "data_npy = data_npy[:-2]\n",
    "\n",
    "n_missing_vals = len(np.where(data_npy == MISSING_VALUE)[0])\n",
    "print(f'After removing the last two matrices in our tensor we have {n_missing_vals} remaining.')"
   ]
  },
  {
   "cell_type": "code",
   "execution_count": 22,
   "id": "5be01228",
   "metadata": {},
   "outputs": [],
   "source": [
    "np.save(\"data.npy\", data_npy)"
   ]
  },
  {
   "cell_type": "code",
   "execution_count": null,
   "id": "1ab44dd2",
   "metadata": {},
   "outputs": [],
   "source": []
  }
 ],
 "metadata": {
  "kernelspec": {
   "display_name": "Python 3",
   "language": "python",
   "name": "python3"
  },
  "language_info": {
   "codemirror_mode": {
    "name": "ipython",
    "version": 3
   },
   "file_extension": ".py",
   "mimetype": "text/x-python",
   "name": "python",
   "nbconvert_exporter": "python",
   "pygments_lexer": "ipython3",
   "version": "3.8.10"
  }
 },
 "nbformat": 4,
 "nbformat_minor": 5
}
