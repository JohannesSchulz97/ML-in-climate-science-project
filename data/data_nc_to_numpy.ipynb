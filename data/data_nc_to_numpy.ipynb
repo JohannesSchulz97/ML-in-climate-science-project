{
 "cells": [
  {
   "cell_type": "code",
   "execution_count": 1,
   "id": "2c7f43ef",
   "metadata": {},
   "outputs": [],
   "source": [
    "import numpy as np\n",
    "import netCDF4 as nc\n",
    "\n",
    "import time"
   ]
  },
  {
   "cell_type": "markdown",
   "id": "c87b5d18",
   "metadata": {},
   "source": [
    "## Read the data \n",
    "\n",
    "Read the dat afrom the nc dataset and extract the total precipitation (tp) to a numpy array."
   ]
  },
  {
   "cell_type": "code",
   "execution_count": 2,
   "id": "9f1ec5d5",
   "metadata": {},
   "outputs": [],
   "source": [
    "data = nc.Dataset(\"western_europe.nc\")"
   ]
  },
  {
   "cell_type": "code",
   "execution_count": 4,
   "id": "649f5922",
   "metadata": {},
   "outputs": [],
   "source": [
    "data_shape = data['tp'].shape\n",
    "\n",
    "data_npy = np.zeros((data_shape[0], data_shape[2], data_shape[3]))\n",
    "\n",
    "data_npy[:, :, :] = data['tp'][:, 0, :, :]"
   ]
  },
  {
   "cell_type": "code",
   "execution_count": 5,
   "id": "5be01228",
   "metadata": {},
   "outputs": [],
   "source": [
    "np.save(\"data.npy\", data_npy)"
   ]
  },
  {
   "cell_type": "code",
   "execution_count": 42,
   "id": "5753bd2b",
   "metadata": {},
   "outputs": [
    {
     "name": "stdout",
     "output_type": "stream",
     "text": [
      "1979-01-01 00:00:00\n",
      "1979-02-01 00:00:00\n",
      "1979-03-01 00:00:00\n",
      "1979-04-01 00:00:00\n",
      "1979-05-01 00:00:00\n",
      "1979-06-01 00:00:00\n",
      "1979-07-01 00:00:00\n",
      "1979-08-01 00:00:00\n",
      "1979-09-01 00:00:00\n",
      "1979-10-01 00:00:00\n",
      "1979-11-01 00:00:00\n",
      "1979-12-01 00:00:00\n",
      "1980-01-01 00:00:00\n",
      "1980-02-01 00:00:00\n",
      "1980-03-01 00:00:00\n",
      "1980-04-01 00:00:00\n",
      "1980-05-01 00:00:00\n",
      "1980-06-01 00:00:00\n",
      "1980-07-01 00:00:00\n",
      "1980-08-01 00:00:00\n",
      "1980-09-01 00:00:00\n",
      "1980-10-01 00:00:00\n",
      "1980-11-01 00:00:00\n",
      "1980-12-01 00:00:00\n",
      "1981-01-01 00:00:00\n",
      "1981-02-01 00:00:00\n",
      "1981-03-01 00:00:00\n",
      "1981-04-01 00:00:00\n",
      "1981-05-01 00:00:00\n",
      "1981-06-01 00:00:00\n"
     ]
    }
   ],
   "source": [
    "import datetime as dt\n",
    "from dateutil.relativedelta import relativedelta\n",
    "\n",
    "START_DATE = dt.datetime(1900, 1, 1)\n",
    "\n",
    "for i in range(30):\n",
    "    print(START_DATE + relativedelta(hours=int(a[i])))"
   ]
  },
  {
   "cell_type": "code",
   "execution_count": null,
   "id": "b31418eb",
   "metadata": {},
   "outputs": [],
   "source": []
  }
 ],
 "metadata": {
  "kernelspec": {
   "display_name": "Python 3",
   "language": "python",
   "name": "python3"
  },
  "language_info": {
   "codemirror_mode": {
    "name": "ipython",
    "version": 3
   },
   "file_extension": ".py",
   "mimetype": "text/x-python",
   "name": "python",
   "nbconvert_exporter": "python",
   "pygments_lexer": "ipython3",
   "version": "3.9.5"
  }
 },
 "nbformat": 4,
 "nbformat_minor": 5
}
