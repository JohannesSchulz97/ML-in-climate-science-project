{
 "cells": [
  {
   "cell_type": "markdown",
   "id": "778cb81b-a16a-4f5b-b8ef-f2a6cfa6b5b1",
   "metadata": {
    "tags": []
   },
   "source": [
    "# This file has to executed only once to create the centered data set from the provided grib file"
   ]
  },
  {
   "cell_type": "code",
   "execution_count": 2,
   "id": "e445774e",
   "metadata": {},
   "outputs": [],
   "source": [
    "import pygrib\n",
    "import numpy as np"
   ]
  },
  {
   "cell_type": "markdown",
   "id": "e58998ff-c22d-4d2c-b7ae-78733b8842ff",
   "metadata": {},
   "source": [
    "## Create npy array from grib file"
   ]
  },
  {
   "cell_type": "code",
   "execution_count": 3,
   "id": "e5f9c25d",
   "metadata": {},
   "outputs": [],
   "source": [
    "file_name = \"western_europe.grib\"\n",
    "gr = pygrib.open(file_name)"
   ]
  },
  {
   "cell_type": "code",
   "execution_count": 4,
   "id": "802899e2",
   "metadata": {},
   "outputs": [
    {
     "name": "stdout",
     "output_type": "stream",
     "text": [
      "data consists of a grid of 161 x 221 time series data with 509 precipitation values per time series\n"
     ]
    }
   ],
   "source": [
    "lon_vals = (-15, 40)\n",
    "lat_vals = (35, 75)\n",
    "\n",
    "idx1_lat = (90 - lat_vals[1]) * 4\n",
    "idx2_lat = (90 - lat_vals[0]) * 4\n",
    "idx1_lon = 720 + 4 * (lon_vals[0])\n",
    "idx2_lon = 720 + 4 * lon_vals[1]\n",
    "\n",
    "dim_lat = idx2_lat - idx1_lat + 1\n",
    "dim_lon = idx2_lon - idx1_lon + 1\n",
    "t = 509\n",
    "print(f\"data consists of a grid of {dim_lat} x {dim_lon} time series data with {t} precipitation values per time series\")"
   ]
  },
  {
   "cell_type": "code",
   "execution_count": 5,
   "id": "442cd307",
   "metadata": {},
   "outputs": [],
   "source": [
    "data = np.zeros((t, dim_lat, dim_lon))\n",
    "\n",
    "for idx, g in enumerate(gr):\n",
    "    data[idx, :] = g.values"
   ]
  },
  {
   "cell_type": "markdown",
   "id": "638cd7a1-7612-41f1-a4df-f529b0d92081",
   "metadata": {},
   "source": [
    "## Center Data Set"
   ]
  },
  {
   "cell_type": "code",
   "execution_count": 9,
   "id": "6596a3db-e70f-460d-81f0-966f77278983",
   "metadata": {},
   "outputs": [],
   "source": [
    "data_centered = np.zeros_like(data)\n",
    "\n",
    "for i in range(dim_lat):\n",
    "    for j in range(dim_lon):\n",
    "        time_frame = data[:, i, j]\n",
    "        data_centered[:, i, j] = (time_frame - np.mean(time_frame)) / np.std(time_frame)"
   ]
  },
  {
   "cell_type": "code",
   "execution_count": 10,
   "id": "916599bf-ac12-40cc-8ffa-ba780cb34a27",
   "metadata": {
    "tags": []
   },
   "outputs": [
    {
     "name": "stdout",
     "output_type": "stream",
     "text": [
      "first time series mean:0.001596981\n",
      "first time series centered mean:0.0\n",
      "first time series centered std:1.0\n"
     ]
    }
   ],
   "source": [
    "# checking results\n",
    "print(f\"first time series mean:{np.round(data[:,0,0].mean(), 10)}\")      \n",
    "print(f\"first time series centered mean:{np.round(data_centered[:,0,0].mean(), 10)}\")\n",
    "print(f\"first time series centered std:{np.round(data_centered[:,0,0].std(), 10)}\")"
   ]
  },
  {
   "cell_type": "code",
   "execution_count": 11,
   "id": "402d1b48-a578-4b62-b0b1-2729073fefdd",
   "metadata": {},
   "outputs": [],
   "source": [
    "np.save(\"data_centered.npy\", data_centered)\n",
    "np.save(\"data.npy\", data)"
   ]
  }
 ],
 "metadata": {
  "kernelspec": {
   "display_name": "Python 3",
   "language": "python",
   "name": "python3"
  },
  "language_info": {
   "codemirror_mode": {
    "name": "ipython",
    "version": 3
   },
   "file_extension": ".py",
   "mimetype": "text/x-python",
   "name": "python",
   "nbconvert_exporter": "python",
   "pygments_lexer": "ipython3",
   "version": "3.8.5"
  }
 },
 "nbformat": 4,
 "nbformat_minor": 5
}
