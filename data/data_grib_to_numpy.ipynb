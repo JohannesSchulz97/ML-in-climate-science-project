{
 "cells": [
  {
   "cell_type": "code",
   "execution_count": 2,
   "id": "e445774e",
   "metadata": {},
   "outputs": [],
   "source": [
    "import pygrib\n",
    "\n",
    "import numpy as np"
   ]
  },
  {
   "cell_type": "code",
   "execution_count": 3,
   "id": "e5f9c25d",
   "metadata": {},
   "outputs": [],
   "source": [
    "file_name = \"western_europe.grib\"\n",
    "\n",
    "gr = pygrib.open(file_name)"
   ]
  },
  {
   "cell_type": "code",
   "execution_count": 4,
   "id": "802899e2",
   "metadata": {},
   "outputs": [],
   "source": [
    "lon_vals = (-15, 40)\n",
    "lat_vals = (35, 75)\n",
    "\n",
    "idx1_lat = (90 - lat_vals[1]) * 4\n",
    "idx2_lat = (90 - lat_vals[0]) * 4\n",
    "idx1_lon = 720 + 4 * (lon_vals[0])\n",
    "idx2_lon = 720 + 4 * lon_vals[1]\n",
    "\n",
    "dim_lat = idx2_lat - idx1_lat + 1\n",
    "dim_lon = idx2_lon - idx1_lon + 1\n",
    "t = 509"
   ]
  },
  {
   "cell_type": "code",
   "execution_count": 5,
   "id": "442cd307",
   "metadata": {},
   "outputs": [],
   "source": [
    "data = np.zeros((t, dim_lat, dim_lon))\n",
    "\n",
    "for idx, g in enumerate(gr):\n",
    "    data[idx, :] = g.values"
   ]
  },
  {
   "cell_type": "code",
   "execution_count": 7,
   "id": "f5e3e00a",
   "metadata": {},
   "outputs": [
    {
     "data": {
      "text/plain": [
       "(509, 161, 221)"
      ]
     },
     "execution_count": 7,
     "metadata": {},
     "output_type": "execute_result"
    }
   ],
   "source": [
    "data.shape"
   ]
  },
  {
   "cell_type": "code",
   "execution_count": null,
   "id": "428aef26",
   "metadata": {},
   "outputs": [],
   "source": []
  }
 ],
 "metadata": {
  "kernelspec": {
   "display_name": "Python 3",
   "language": "python",
   "name": "python3"
  },
  "language_info": {
   "codemirror_mode": {
    "name": "ipython",
    "version": 3
   },
   "file_extension": ".py",
   "mimetype": "text/x-python",
   "name": "python",
   "nbconvert_exporter": "python",
   "pygments_lexer": "ipython3",
   "version": "3.9.5"
  }
 },
 "nbformat": 4,
 "nbformat_minor": 5
}
