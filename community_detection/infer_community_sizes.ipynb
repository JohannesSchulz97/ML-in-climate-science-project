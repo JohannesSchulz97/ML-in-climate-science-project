{
 "cells": [
  {
   "cell_type": "markdown",
   "id": "734bb2cb-093c-4b9f-b5ce-3efaae30de19",
   "metadata": {},
   "source": [
    "# Infer Communities via SBM"
   ]
  },
  {
   "cell_type": "markdown",
   "id": "b6abc027-dc95-4bed-a512-bfb3b1cd3efb",
   "metadata": {},
   "source": [
    "### Infer best k"
   ]
  },
  {
   "cell_type": "code",
   "execution_count": 19,
   "id": "9c49e28a-1f2d-4738-9c28-f9b019fe2129",
   "metadata": {},
   "outputs": [],
   "source": [
    "Ks = [2,3,4,5,6,7,8,9,10]\n",
    "standard_objective_function = pysbm.TraditionalUnnormalizedLogLikelyhood(is_directed=False)\n",
    "colors = {0:'b',1:'r',2:'g',3:'orange',4:'black',5:'lime', 6: 'tab:pink', 7: 'tab:gray', 8: 'tab:olive'}"
   ]
  },
  {
   "cell_type": "code",
   "execution_count": null,
   "id": "6df5a763-093b-4568-a404-e422c6907c0e",
   "metadata": {
    "tags": []
   },
   "outputs": [
    {
     "name": "stdout",
     "output_type": "stream",
     "text": [
      "Positive correlation: \n",
      "\n",
      "Current K value: 2\n",
      "\tIteration 0 - Best objective value: -230214.85855630055, Current objective value: -230214.85855630055\n",
      "\tIteration 1 - Best objective value: -230214.85855630055, Current objective value: -230214.85855630055\n",
      "\tIteration 2 - Best objective value: -230214.85855630055, Current objective value: -230214.85855630055\n",
      "\tIteration 3 - Best objective value: -230214.85855630055, Current objective value: -230214.85855630055\n",
      "\tIteration 4 - Best objective value: -230214.85855630055, Current objective value: -242860.2955436973\n",
      "Current K value: 3\n",
      "\tIteration 0 - Best objective value: -202650.11055318516, Current objective value: -202650.11055318516\n",
      "\tIteration 1 - Best objective value: -202650.11055318516, Current objective value: -202707.23994722898\n",
      "\tIteration 2 - Best objective value: -202078.96627765676, Current objective value: -202078.96627765676\n",
      "\tIteration 3 - Best objective value: -202078.96627765676, Current objective value: -202707.23994722895\n",
      "\tIteration 4 - Best objective value: -202078.96627765676, Current objective value: -202650.11055318514\n",
      "Current K value: 4\n",
      "\tIteration 0 - Best objective value: -185566.134591216, Current objective value: -185566.134591216\n",
      "\tIteration 1 - Best objective value: -181943.96742910164, Current objective value: -181943.96742910164\n",
      "\tIteration 2 - Best objective value: -181943.96742910164, Current objective value: -182101.0198943312\n",
      "\tIteration 3 - Best objective value: -181943.96742910164, Current objective value: -182687.36413294924\n",
      "\tIteration 4 - Best objective value: -181943.96742910164, Current objective value: -182769.13591041128\n",
      "Current K value: 5\n"
     ]
    }
   ],
   "source": [
    "def evaluate_community_sizes(graph, Ks, iterations=5):\n",
    "    best_objectives = []\n",
    "    best_partitions = []\n",
    "    for i, K in enumerate(Ks): \n",
    "        best_objective = -np.inf\n",
    "        best_partition = None\n",
    "        print(f'Current K value: {K}')\n",
    "        for r in range(iterations):\n",
    "            standard_partition = pysbm.NxPartition(graph=graph,number_of_blocks=K)\n",
    "            standard_inference = pysbm.KarrerInference(graph, standard_objective_function, standard_partition)\n",
    "            standard_inference.infer_stochastic_block_model()\n",
    "            L=standard_objective_function.calculate(standard_partition)\n",
    "            if L>best_objective:\n",
    "                best_objective=L\n",
    "                best_partition = standard_partition\n",
    "            print(f'\\tIteration {r} - Best objective value: {best_objective}, Current objective value: {L}')\n",
    "        best_partitions.append(best_partition)\n",
    "        best_objectives.append(best_objective)\n",
    "        \n",
    "    return best_partitions, best_objectives\n",
    "        \n",
    "print(\"Positive correlation: \\n\")\n",
    "best_partitions_pos, best_objectives_pos = evaluate_community_sizes(graph_pos, Ks)\n",
    "\n",
    "print(\"Negative correlation: \\n\")\n",
    "best_partitions_neg, best_objectives_neg = evaluate_community_sizes(graph_neg, Ks)"
   ]
  },
  {
   "cell_type": "code",
   "execution_count": null,
   "id": "152ad57d-e9ea-443c-bbcd-dae9af5a6b46",
   "metadata": {},
   "outputs": [],
   "source": []
  },
  {
   "cell_type": "markdown",
   "id": "7bfdc3ca-1cbb-420e-9719-889ac85a216f",
   "metadata": {},
   "source": [
    "## Model Selection "
   ]
  },
  {
   "cell_type": "code",
   "execution_count": null,
   "id": "6e926635-a83b-4374-973b-9257853b86b6",
   "metadata": {},
   "outputs": [],
   "source": [
    "def find_best_k(best_objectives, Ks, reg=1000):\n",
    "    # maximum likelihood approach\n",
    "    ind_ml = np.argmax(best_objectives)\n",
    "    k_ml = Ks[ind_ml]\n",
    "    # partition_ml = best_partitions[ind_ml]\n",
    "\n",
    "    # bic approach \n",
    "    params = np.array(Ks)**2+n\n",
    "    bic_scores = np.array(best_objectives) - reg * params\n",
    "    ind_bic = np.argmax(bic_scores)\n",
    "    k_bic = Ks[ind_bic]\n",
    "    print(\"best k BIC\", k_bic)\n",
    "    # partition_bic = best_partitions[ind_bic]\n",
    "    \n",
    "    print(\"Maximum Likelihood Scores:\", best_objectives)\n",
    "    print(\"BIC Scores:\", bic_scores)\n",
    "    \n",
    "    return k_ml, k_bic\n",
    "\n",
    "# k_ml_pos, k_bic_pos = find_best_k(best_objectives_pos, Ks)\n",
    "# k_ml_neg, k_bic_neg = find_best_k(best_objectives_neg, Ks)\n",
    "\n",
    "k_bic_pos = 5\n",
    "k_bic_neg = 4\n",
    "\n",
    "partition_pos = pysbm.NxPartition(graph=graph_pos,number_of_blocks=k_bic_pos)\n",
    "partition_neg = pysbm.NxPartition(graph=graph_neg,number_of_blocks=k_bic_neg)"
   ]
  },
  {
   "cell_type": "code",
   "execution_count": null,
   "id": "00dab98c-4c79-4abb-9e6f-22eb93005269",
   "metadata": {},
   "outputs": [],
   "source": []
  }
 ],
 "metadata": {
  "kernelspec": {
   "display_name": "Python 3",
   "language": "python",
   "name": "python3"
  },
  "language_info": {
   "codemirror_mode": {
    "name": "ipython",
    "version": 3
   },
   "file_extension": ".py",
   "mimetype": "text/x-python",
   "name": "python",
   "nbconvert_exporter": "python",
   "pygments_lexer": "ipython3",
   "version": "3.8.5"
  }
 },
 "nbformat": 4,
 "nbformat_minor": 5
}
