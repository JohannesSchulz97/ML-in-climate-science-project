{
 "cells": [
  {
   "cell_type": "code",
   "execution_count": 1,
   "id": "005026e0-242f-4399-8c66-80e2dfb97e89",
   "metadata": {},
   "outputs": [],
   "source": [
    "import numpy as np\n",
    "import matplotlib as mpl\n",
    "import matplotlib.pyplot as plt\n",
    "import sys  \n",
    "sys.path.insert(0, './')\n",
    "import iaaft"
   ]
  },
  {
   "cell_type": "markdown",
   "id": "bdd32013-0bb3-4304-b333-91a53bc5eed6",
   "metadata": {},
   "source": [
    "# Visualize Distribution of Correlations"
   ]
  },
  {
   "cell_type": "code",
   "execution_count": 2,
   "id": "67cfa377-cfed-44a0-9416-e5ff5675ac4f",
   "metadata": {},
   "outputs": [
    {
     "name": "stdout",
     "output_type": "stream",
     "text": [
      "first time series centered mean:0.0\n",
      "first time series centered std:1.0\n"
     ]
    }
   ],
   "source": [
    "data = np.load('../data/data_centered.npy', allow_pickle=True)\n",
    "print(f\"first time series centered mean:{np.round(data[:,0,0].mean(), 10)}\")\n",
    "print(f\"first time series centered std:{np.round(data[:,0,0].std(), 10)}\")"
   ]
  },
  {
   "cell_type": "markdown",
   "id": "13543589-82cd-44eb-8c24-fae7706c60ff",
   "metadata": {},
   "source": [
    "## Check influence of autocorrelation "
   ]
  },
  {
   "cell_type": "code",
   "execution_count": 3,
   "id": "5c681656-c558-4815-8c7e-c91fa9178fdf",
   "metadata": {},
   "outputs": [
    {
     "name": "stdout",
     "output_type": "stream",
     "text": [
      "mean correlation caused by autocorrelation: 0.2753107252863774\n"
     ]
    }
   ],
   "source": [
    "corr = []\n",
    "autocorr = []\n",
    "for k in range(100000):\n",
    "    lons = np.random.randint(data.shape[1], size=2)\n",
    "    lats = np.random.randint(data.shape[2], size=2)\n",
    "    \n",
    "    t1 = data[:, lons[0], lats[0]]\n",
    "    t2 = data[:, lons[1], lats[1]]\n",
    "    corr.append(np.corrcoef(t1, t2)[0,1])\n",
    "    t2_surr = iaaft.surrogates(t2, 1, verbose=False)[0]\n",
    "    autocorr.append(np.corrcoef(t1, t2_surr)[0,1])\n",
    "corr = np.array(corr)\n",
    "autocorr = np.array(autocorr)\n",
    "corr_shift = np.mean(np.abs(corr - autocorr))\n",
    "print(f'mean correlation caused by autocorrelation: {corr_shift}')"
   ]
  },
  {
   "cell_type": "code",
   "execution_count": 12,
   "id": "0bb14a21-52b9-4352-8d18-c74ed984d2a9",
   "metadata": {},
   "outputs": [
    {
     "ename": "KeyboardInterrupt",
     "evalue": "",
     "output_type": "error",
     "traceback": [
      "\u001b[0;31m---------------------------------------------------------------------------\u001b[0m",
      "\u001b[0;31mKeyboardInterrupt\u001b[0m                         Traceback (most recent call last)",
      "\u001b[0;32m<ipython-input-12-b33c0f1500d2>\u001b[0m in \u001b[0;36m<module>\u001b[0;34m\u001b[0m\n\u001b[1;32m      7\u001b[0m \u001b[0mtest_statistics\u001b[0m \u001b[0;34m=\u001b[0m \u001b[0;34m[\u001b[0m\u001b[0;34m]\u001b[0m\u001b[0;34m\u001b[0m\u001b[0;34m\u001b[0m\u001b[0m\n\u001b[1;32m      8\u001b[0m \u001b[0;32mfor\u001b[0m \u001b[0mi\u001b[0m \u001b[0;32min\u001b[0m \u001b[0mrange\u001b[0m\u001b[0;34m(\u001b[0m\u001b[0msamples\u001b[0m\u001b[0;34m)\u001b[0m\u001b[0;34m:\u001b[0m\u001b[0;34m\u001b[0m\u001b[0;34m\u001b[0m\u001b[0m\n\u001b[0;32m----> 9\u001b[0;31m     \u001b[0mcorr\u001b[0m \u001b[0;34m=\u001b[0m \u001b[0mnp\u001b[0m\u001b[0;34m.\u001b[0m\u001b[0mcorrcoef\u001b[0m\u001b[0;34m(\u001b[0m\u001b[0mt1\u001b[0m\u001b[0;34m[\u001b[0m\u001b[0mi\u001b[0m\u001b[0;34m]\u001b[0m\u001b[0;34m,\u001b[0m \u001b[0mt2\u001b[0m\u001b[0;34m[\u001b[0m\u001b[0mi\u001b[0m\u001b[0;34m]\u001b[0m\u001b[0;34m)\u001b[0m\u001b[0;34m[\u001b[0m\u001b[0;36m0\u001b[0m\u001b[0;34m,\u001b[0m\u001b[0;36m1\u001b[0m\u001b[0;34m]\u001b[0m\u001b[0;34m\u001b[0m\u001b[0;34m\u001b[0m\u001b[0m\n\u001b[0m\u001b[1;32m     10\u001b[0m     \u001b[0mtest_statistics\u001b[0m\u001b[0;34m.\u001b[0m\u001b[0mappend\u001b[0m\u001b[0;34m(\u001b[0m\u001b[0mcorr\u001b[0m\u001b[0;34m)\u001b[0m\u001b[0;34m\u001b[0m\u001b[0;34m\u001b[0m\u001b[0m\n",
      "\u001b[0;32m<__array_function__ internals>\u001b[0m in \u001b[0;36mcorrcoef\u001b[0;34m(*args, **kwargs)\u001b[0m\n",
      "\u001b[0;32m~/miniconda3/lib/python3.8/site-packages/numpy/lib/function_base.py\u001b[0m in \u001b[0;36mcorrcoef\u001b[0;34m(x, y, rowvar, bias, ddof, dtype)\u001b[0m\n\u001b[1;32m   2641\u001b[0m     \u001b[0mstddev\u001b[0m \u001b[0;34m=\u001b[0m \u001b[0msqrt\u001b[0m\u001b[0;34m(\u001b[0m\u001b[0md\u001b[0m\u001b[0;34m.\u001b[0m\u001b[0mreal\u001b[0m\u001b[0;34m)\u001b[0m\u001b[0;34m\u001b[0m\u001b[0;34m\u001b[0m\u001b[0m\n\u001b[1;32m   2642\u001b[0m     \u001b[0mc\u001b[0m \u001b[0;34m/=\u001b[0m \u001b[0mstddev\u001b[0m\u001b[0;34m[\u001b[0m\u001b[0;34m:\u001b[0m\u001b[0;34m,\u001b[0m \u001b[0;32mNone\u001b[0m\u001b[0;34m]\u001b[0m\u001b[0;34m\u001b[0m\u001b[0;34m\u001b[0m\u001b[0m\n\u001b[0;32m-> 2643\u001b[0;31m     \u001b[0mc\u001b[0m \u001b[0;34m/=\u001b[0m \u001b[0mstddev\u001b[0m\u001b[0;34m[\u001b[0m\u001b[0;32mNone\u001b[0m\u001b[0;34m,\u001b[0m \u001b[0;34m:\u001b[0m\u001b[0;34m]\u001b[0m\u001b[0;34m\u001b[0m\u001b[0;34m\u001b[0m\u001b[0m\n\u001b[0m\u001b[1;32m   2644\u001b[0m \u001b[0;34m\u001b[0m\u001b[0m\n\u001b[1;32m   2645\u001b[0m     \u001b[0;31m# Clip real and imaginary parts to [-1, 1].  This does not guarantee\u001b[0m\u001b[0;34m\u001b[0m\u001b[0;34m\u001b[0m\u001b[0;34m\u001b[0m\u001b[0m\n",
      "\u001b[0;31mKeyboardInterrupt\u001b[0m: "
     ]
    }
   ],
   "source": [
    "alpha = 0.001\n",
    "samples = 100000\n",
    "T = 168\n",
    "#T = data.shape[0]//12\n",
    "t1 = np.random.normal(0,1,(samples, T))\n",
    "t2 = np.random.normal(0,1,(samples, T))\n",
    "test_statistics = []\n",
    "for i in range(samples): \n",
    "    corr = np.corrcoef(t1[i], t2[i])[0,1]\n",
    "    test_statistics.append(corr)"
   ]
  },
  {
   "cell_type": "code",
   "execution_count": 13,
   "id": "54a9dfc4-94fb-4dd5-a526-2971af358e37",
   "metadata": {},
   "outputs": [
    {
     "name": "stdout",
     "output_type": "stream",
     "text": [
      "Quantiles/Rejection regions are [2.2110686094589514e-05, -0.25066268602350006), (0.2523560460142351,1]\n"
     ]
    },
    {
     "data": {
      "image/png": "[encoded data removed]",
      "text/plain": [
       "<Figure size 432x288 with 1 Axes>"
      ]
     },
     "metadata": {
      "needs_background": "light"
     },
     "output_type": "display_data"
    }
   ],
   "source": [
    "upper_quantile = np.quantile(test_statistics, q=1-alpha/2)\n",
    "lower_quantile = np.quantile(test_statistics, q=alpha/2)\n",
    "print(\"Quantiles/Rejection regions are [{}, {}), ({},1]\".format(1/len(test_statistics), lower_quantile, upper_quantile))\n",
    "plt.hist(test_statistics, label=\"test statistics\", bins=20)\n",
    "plt.axvline(upper_quantile, color='y', linestyle='dashed', linewidth=2, label=\"rejection region\")\n",
    "plt.axvline(lower_quantile, color='y', linestyle='dashed', linewidth=2)\n",
    "plt.ylabel(\"frequency\")\n",
    "plt.xlabel(\"correlation\")\n",
    "plt.legend()\n",
    "\n",
    "plt.savefig('../plots/hypothesis_testing.svg', format=\"svg\")\n",
    "plt.savefig('../plots/hypothesis_testing.jpg')\n",
    "\n",
    "plt.show()"
   ]
  },
  {
   "cell_type": "code",
   "execution_count": null,
   "id": "0a1ac7a3-9979-43ae-8650-b8f1d9e75d1b",
   "metadata": {},
   "outputs": [],
   "source": []
  }
 ],
 "metadata": {
  "kernelspec": {
   "display_name": "Python 3",
   "language": "python",
   "name": "python3"
  },
  "language_info": {
   "codemirror_mode": {
    "name": "ipython",
    "version": 3
   },
   "file_extension": ".py",
   "mimetype": "text/x-python",
   "name": "python",
   "nbconvert_exporter": "python",
   "pygments_lexer": "ipython3",
   "version": "3.8.5"
  }
 },
 "nbformat": 4,
 "nbformat_minor": 5
}
